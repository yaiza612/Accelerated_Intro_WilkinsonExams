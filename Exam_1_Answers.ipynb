{
 "cells": [
  {
   "cell_type": "markdown",
   "metadata": {},
   "source": [
    "# BACKGROUND INFORMATION\n",
    "\n",
    "I have retrieved the Locus Germplasm Phenotype file from The Arabidiosis Information Resource (TAIR - one of the primary _Arabidopsis_ databases globally) (https://www.arabidopsis.org/download/index-auto.jsp?dir=/download_files/Polymorphisms_and_Phenotypes ).  The file contains information about the phenotypes associated with certain _Arabodopsis_ mutations.\n",
    "\n",
    "The file is in the current folder,named: [Locus_Germplasm_Phenotype_20130122.txt](./Locus_Germplasm_Phenotype_20130122.txt)\n",
    "\n",
    "The file format is \"tab-separated values\".  This means that each data field is separated by a \"tab\" character.  \n",
    "\n",
    "**There is one line at the beginning of the file - the \"header\" - that describes the type of data in each column.**  \n",
    "\n",
    "The first column is the \"Arabiodopsis Genome Initiative\" (AGI) Locus Code.  Locus Codes have a predictable structure\n",
    "\n",
    "* The first character is \"A\" or \"a\"\n",
    "* The second character is \"T\" or \"t\"\n",
    "* The third character is the chromosome number (between 1 and 5)\n",
    "* The fourth character is \"G\" or \"g\"\n",
    "* The remaining characters are a set of 5 digits (between 0 and 9)\n",
    "\n",
    "**For Example:  At5G22934**\n",
    "\n",
    "The final column in the dataset is the PubMed ID for the published paper describing this phenotype.  PubMed IDs are all digits (0-9) but the length of the ID is unpredictable.\n"
   ]
  },
  {
   "cell_type": "markdown",
   "metadata": {},
   "source": [
    "## Problem 1\n",
    "\n",
    "\n",
    "* Copy the Locus_Germplasm_Phenotype_20130122.txt file into your copy of the Exams Git\n",
    "* Create a new Jupyter Notebook in your Exams folder called \"Exam_1_Answers\" using the 'bash' kernel \n",
    "* Do the rest of this exam inside of that the \"Exam_1_Answers\" Notebook"
   ]
  },
  {
   "cell_type": "markdown",
   "metadata": {},
   "source": [
    "## Problem 2\n",
    "\n",
    "Create a directory listing command that shows:\n",
    "\n",
    "* the ownership of the file\n",
    "* it's file-size, in Megabytes (i.e. human readable)\n",
    "\n",
    "then:\n",
    "\n",
    "* in words (in a Markdown box), describe the _permissions_ on that file (read/write/execute) for users, groups, and \"anyone\"\n"
   ]
  },
  {
   "cell_type": "code",
   "execution_count": 1,
   "metadata": {},
   "outputs": [
    {
     "name": "stdout",
     "output_type": "stream",
     "text": [
      "-rw-rw-r-- 1 osboxes osboxes 1.2M Sep  5 16:26 Locus_Germplasm_Phenotype_20130122.txt\n"
     ]
    }
   ],
   "source": [
    "ls -lh Locus_Germplasm_Phenotype_20130122.txt"
   ]
  },
  {
   "cell_type": "markdown",
   "metadata": {},
   "source": [
    "## Explanation: \n",
    "\n",
    "### Commands\n",
    "\n",
    "ls list the directory contents. \n",
    "\n",
    "Have multiple options: \n",
    "\n",
    "* -l: Give the detailed information of the file, like the ownership. In our case, osboxes. \n",
    "* -h, --human-readable: with -l print sizes in human readable format. In our case, 1.2M.\n",
    "\n",
    "### Permissions of the file\n",
    "\n",
    "* -r: read permission\n",
    "* -w: write permission\n",
    "* -x: execite permission\n",
    "\n",
    "These read, write and execute permissions are defined for: \n",
    "\n",
    "* user: the user that owns the file\n",
    "* group: users in the files group\n",
    "* other: every other user\n",
    "\n",
    "The meaning of the ouput -rw-rw-r-- is therefore that the owner and the group have reading and writing permissions while other only have reading permissions.  "
   ]
  },
  {
   "cell_type": "markdown",
   "metadata": {},
   "source": [
    "## Problem 3\n",
    "\n",
    "* Create a command that outputs only the \"header\" line of Locus_Germplasm_Phenotype_20130122.txt\n",
    "\n",
    "\n",
    "\n",
    "\n"
   ]
  },
  {
   "cell_type": "code",
   "execution_count": 2,
   "metadata": {},
   "outputs": [
    {
     "name": "stdout",
     "output_type": "stream",
     "text": [
      "Locus_name)\tGermplasm_name\tphenotype\tpubmed_id\n"
     ]
    }
   ],
   "source": [
    "head -1 Locus_Germplasm_Phenotype_20130122.txt"
   ]
  },
  {
   "cell_type": "markdown",
   "metadata": {},
   "source": [
    "## Explanation\n",
    "\n",
    "### Command \n",
    "\n",
    "The head command outputs the first part of a file or files. By default, prints the first 10 lines of each FILE to standard output. With more than one FILE, it precedes each set of output with a header identifying the file name. If no FILE is specified, or when FILE is specified as a dash (\"-\"), head reads from standard input.\n",
    "\n",
    "Have different options: \n",
    "\n",
    "* -n, --lines= : Print the first n lines instead the first 10 lines. \n",
    "\n",
    "In our case we only want print the first line wich correspond to the header of our file. "
   ]
  },
  {
   "cell_type": "markdown",
   "metadata": {},
   "source": [
    "## Problem 4\n",
    "\n",
    "* Create a command that outputs the total number of lines in Locus_Germplasm_Phenotype_20130122.txt\n",
    "\n"
   ]
  },
  {
   "cell_type": "code",
   "execution_count": 3,
   "metadata": {},
   "outputs": [
    {
     "name": "stdout",
     "output_type": "stream",
     "text": [
      "7216 Locus_Germplasm_Phenotype_20130122.txt\n"
     ]
    }
   ],
   "source": [
    "wc -l Locus_Germplasm_Phenotype_20130122.txt"
   ]
  },
  {
   "cell_type": "markdown",
   "metadata": {},
   "source": [
    "## Explanation \n",
    "\n",
    "### Command \n",
    "\n",
    "The wc command is used to find out the number of newline count, word count, byte and characters counts un a file specified by the file arguments. \n",
    "It has different options, with: \n",
    "\n",
    "* -l: prints the numer of lines in a file. \n",
    "\n",
    "Therefore, the file has 7216 lines."
   ]
  },
  {
   "cell_type": "markdown",
   "metadata": {},
   "source": [
    "\n",
    "## Problem 5\n",
    "\n",
    "* Create a command that writes ONLY the data lines (i.e. excludes the header!) to a new file called \"Data_Only.csv\"\n",
    "* prove that your output file has the expected number of lines\n",
    "\n",
    "\n"
   ]
  },
  {
   "cell_type": "code",
   "execution_count": 4,
   "metadata": {},
   "outputs": [],
   "source": [
    "sed '1d' Locus_Germplasm_Phenotype_20130122.txt > Data_Only.csv"
   ]
  },
  {
   "cell_type": "markdown",
   "metadata": {},
   "source": [
    "## Explanation\n",
    "\n",
    "### Command \n",
    "\n",
    "The sed command is used for make changes to file content. This command can be used to delete lines in a file. \n",
    "\n",
    "* The d option [sed 'Nd' file] where N indicates the number of the line, remove the line. \n",
    "\n",
    "Therefore, '1d' remove the first line in the file, excluding the header as asked. Now, the file should have 7215 lines."
   ]
  },
  {
   "cell_type": "code",
   "execution_count": 5,
   "metadata": {},
   "outputs": [
    {
     "name": "stdout",
     "output_type": "stream",
     "text": [
      "7215 Data_Only.csv\n"
     ]
    }
   ],
   "source": [
    "wc -l Data_Only.csv\n"
   ]
  },
  {
   "cell_type": "markdown",
   "metadata": {},
   "source": [
    "## Problem 6\n",
    "\n",
    "* Create a command that shows all of the lines that have a phenotype including the word \"root\"\n",
    "\n"
   ]
  },
  {
   "cell_type": "code",
   "execution_count": 3,
   "metadata": {
    "collapsed": true
   },
   "outputs": [
    {
     "name": "stdout",
     "output_type": "stream",
     "text": [
      "AT1G01550\tbps1-2\tGrowth of bps1-2 mutants on CPTA-supplemented medium resulted in partial rescue of both leaf and \u001b[01;31m\u001b[Kroot\u001b[m\u001b[K defects. bps1-2 mutants grown on control growth medium have small radialized leaves with very little vascular tissue, and very short misshapen knotted-looking \u001b[01;31m\u001b[Kroot\u001b[m\u001b[Ks. By contrast, bps1-2 mutants grown on CPTA-supplemented medium produced larger flattened leaves that contained primary and secondary veins, and smooth elongated \u001b[01;31m\u001b[Kroot\u001b[m\u001b[Ks.\t17217459\n",
      "AT1G01550\tbps1-2\tMutant \u001b[01;31m\u001b[Kroot\u001b[m\u001b[Ks were abnormal; primary and lateral \u001b[01;31m\u001b[Kroot\u001b[m\u001b[Ks were short, \u001b[01;31m\u001b[Kroot\u001b[m\u001b[K hairs formed close to the \u001b[01;31m\u001b[Kroot\u001b[m\u001b[K apex, and \u001b[01;31m\u001b[Kroot\u001b[m\u001b[K defects were most severe when plants were grown at low temperature.\t15458645\n",
      "AT1G01550\tbps1-2\tUnder high light conditions (approximately 200 &mu;E.m-2.sec-1), CPTA-treated seedlings were completely photobleached and mutants showed rescue of both leaf and \u001b[01;31m\u001b[Kroot\u001b[m\u001b[K development. Under moderate (approximately 100 &mu;E.m-2.sec-1) and low (30 &mu;E.m-2.sec-1) light intensities, seedlings are incompletely photobleached, but leaf and \u001b[01;31m\u001b[Kroot\u001b[m\u001b[K development continue to show partial rescue.\t17217459\n",
      "AT1G02970\twee1-1\tsignificant decreased \u001b[01;31m\u001b[Kroot\u001b[m\u001b[K elongation rates, densely clustered hairs at the \u001b[01;31m\u001b[Kroot\u001b[m\u001b[K tip and outgrowth of lateral \u001b[01;31m\u001b[Kroot\u001b[m\u001b[Ks\t17209125\n",
      "AT1G03000\tpex6\tResistant to \u001b[01;31m\u001b[Kroot\u001b[m\u001b[K elongation inhibition by IBA but responds normally to IAA.  Fails to respond to the stimulatory effects of IBA on lateral \u001b[01;31m\u001b[Kroot\u001b[m\u001b[K initiation but makes lateral \u001b[01;31m\u001b[Kroot\u001b[m\u001b[Ks in response to IAA.  Specifically defective in IBA responses.  Has several peroxisome-defective phenotypes:  does not develop normally without exogenous sucrose, dramatic defects in hypocotyl and \u001b[01;31m\u001b[Kroot\u001b[m\u001b[K elongation in the absence of sucrose. Shorter \u001b[01;31m\u001b[Kroot\u001b[m\u001b[K and hypocotyl than WT.  Plants grown in soil have smaller rosettes, fewer rosette leaves, and shorter primary inflorescence stems than WT.  Also has shorter siliques containing fewer seeds than WT.  Pale green in color.\t14745029\n",
      "AT1G03060\tspi-11\tTrichome cells have shorter branches, reduced stalk length and width.  Epidermal pavement cells are less complex, with less lobing.  \u001b[01;31m\u001b[KRoot\u001b[m\u001b[K hairs are shorter and \u001b[01;31m\u001b[Kroot\u001b[m\u001b[K hair vacuoles are fragmented.\t19392685\n",
      "AT1G03060\tspi-12\tTrichome cells have shorter branches, reduced stalk length and width.  Epidermal pavement cells are less complex, with less lobing.  \u001b[01;31m\u001b[KRoot\u001b[m\u001b[K hairs are shorter and \u001b[01;31m\u001b[Kroot\u001b[m\u001b[K hair vacuoles are fragmented.\t19392685\n",
      "AT1G03060\tspi-139\tTrichome cells have shorter branches, reduced stalk length and width.  Epidermal pavement cells are less complex, with less lobing.  \u001b[01;31m\u001b[KRoot\u001b[m\u001b[K hairs are shorter and \u001b[01;31m\u001b[Kroot\u001b[m\u001b[K hair vacuoles are fragmented.\t19392685\n",
      "AT1G03060\tspi-4.2\tTrichome cells have shorter branches, reduced stalk length and width.  Epidermal pavement cells are less complex, with less lobing.  \u001b[01;31m\u001b[KRoot\u001b[m\u001b[K hairs are shorter and \u001b[01;31m\u001b[Kroot\u001b[m\u001b[K hair vacuoles are fragmented.\t19392685\n",
      "AT1G04020\tbard1-3\tMutant meristems develop abnormally.The meristem is enlarged shortly after germination and appears disorganized. Primordia are irregular and lateral organs produced include tubular and finger-like structures. Also affects the development of \u001b[01;31m\u001b[Kroot\u001b[m\u001b[Ks. Primary \u001b[01;31m\u001b[Kroot\u001b[m\u001b[K growth is inhibited. The \u001b[01;31m\u001b[Kroot\u001b[m\u001b[K apical meristems are enlarged and lack distinct columella cells or starch granules.\t18591352\n",
      "AT1G04030\tbard1-3\tMutant meristems develop abnormally.The meristem is enlarged shortly after germination and appears disorganized. Primordia are irregular and lateral organs produced include tubular and finger-like structures. Also affects the development of \u001b[01;31m\u001b[Kroot\u001b[m\u001b[Ks. Primary \u001b[01;31m\u001b[Kroot\u001b[m\u001b[K growth is inhibited. The \u001b[01;31m\u001b[Kroot\u001b[m\u001b[K apical meristems are enlarged and lack distinct columella cells or starch granules.\t18591352\n",
      "AT1G04160\tCS859930\tThere are no obvious defects in the aerial tissues, \u001b[01;31m\u001b[Kroot\u001b[m\u001b[Ks, or \u001b[01;31m\u001b[Kroot\u001b[m\u001b[K hairs of xi-b mutant plants grown under normal conditions. There are also no obvious defects in organelle trafficking. Double mutant analysis reveals a role for xi-b in \u001b[01;31m\u001b[Kroot\u001b[m\u001b[K hair elongation (see xi-2/xi-b).\t18178669\n",
      "AT1G04160\tSALK_113062C\tThere are no obvious defects in the aerial tissues, \u001b[01;31m\u001b[Kroot\u001b[m\u001b[Ks, or \u001b[01;31m\u001b[Kroot\u001b[m\u001b[K hairs of xi-b mutant plants grown under normal conditions. There are also no obvious defects in organelle trafficking. Double mutant analysis reveals a role for xi-b in \u001b[01;31m\u001b[Kroot\u001b[m\u001b[K hair elongation (see xi-2/xi-b)\t18178669\n",
      "AT1G04160\txi-2 / xi-b\tThe overall growth of the xi-2 / xi-b double mutant is normal. In the leaf epidermis, Golgi stacks and peroxisomes move more slowly in these mutant cells than in wild-type cells. The rate of mitochondrial movement is also slightly reduced. \u001b[01;31m\u001b[KRoot\u001b[m\u001b[K hair length is reduced to ~15% of the wild type \u001b[01;31m\u001b[Kroot\u001b[m\u001b[K hair length in these double mutants, but their \u001b[01;31m\u001b[Kroot\u001b[m\u001b[K hair density is very similar to the wild type density.\t19060218\n",
      "AT1G04220\tdaisy-2\tsignificantly reduced \u001b[01;31m\u001b[Kroot\u001b[m\u001b[K growth\t18786002\n",
      "AT1G04250\tCS57505\tThe mutant is less affected by brassinolide than wildtype with regard to inhibition of \u001b[01;31m\u001b[Kroot\u001b[m\u001b[K elongation.\t16367964\n",
      "AT1G05180\tAXL/axl-1 axr1-12\tHomozygous axr1-12 plants that are heterozygous for axl-1 display severe growth defects. These seedlings developed short, slow growing \u001b[01;31m\u001b[Kroot\u001b[m\u001b[Ks compared with wild-type \u001b[01;31m\u001b[Kroot\u001b[m\u001b[Ks, and were arrested at the late seedling stage.\t17655650\n",
      "AT1G05180\tAXL/axl-1 axr1-12\tThe columella of AXL/axl-1 axr1-12/axr1-12 \u001b[01;31m\u001b[Kroot\u001b[m\u001b[K tips is highly disorganized during early seedling \u001b[01;31m\u001b[Kroot\u001b[m\u001b[K growth, and is completely disrupted at the time when \u001b[01;31m\u001b[Kroot\u001b[m\u001b[K growth ceases.\t17655650\n",
      "AT1G05180\tCS8038\tauxin resistant; irregular rosette leaves, slightly curled around leaf axis; \u001b[01;31m\u001b[Kroot\u001b[m\u001b[Ks very auxin resistant; defective \u001b[01;31m\u001b[Kroot\u001b[m\u001b[K gravitropism; reduced number of lateral \u001b[01;31m\u001b[Kroot\u001b[m\u001b[Ks; plant appearance similar to axr1-12, but more pronounced; dwarf, bushy plants; reduced plant height; reduced fertility.\t7704045\n",
      "AT1G05850\tpom1-1\tCallus-induced \u001b[01;31m\u001b[Kroot\u001b[m\u001b[Ks from the mutant displayed the mutant phenotype when they grew under restrictive conditions. All the mutants responded to a gravitropic stimulus in a manner similar to wild type although the change of the direction of growth was slower than wild type.\t7743935\n",
      "AT1G05850\tpom1-7\tWhen grown on media containing 0.5% sucrose, the mutant had reduced \u001b[01;31m\u001b[Kroot\u001b[m\u001b[K length but no apparent radial cell expansion.\t7743935\n",
      "AT1G05850\tpom1-8\tWhen grown on media containing 0.5% sucrose, the mutant had reduced \u001b[01;31m\u001b[Kroot\u001b[m\u001b[K length but no apparent radial cell expansion.\t7743935\n",
      "AT1G06290\tacx3-2\tPlants display decreased sensitivity to the inhibitory effect of indole-3-butyric acid (IBA) on \u001b[01;31m\u001b[Kroot\u001b[m\u001b[K elongation, while remaining sensitive to inhibitory concentrations of indole-3-acetic acid.  They maintain their ability to initiate lateral \u001b[01;31m\u001b[Kroot\u001b[m\u001b[Ks in response to IBA.\t15743450\n",
      "AT1G06290\tacx3-4\tPlants display decreased sensitivity to the inhibitory effect of indole-3-butyric acid (IBA) on \u001b[01;31m\u001b[Kroot\u001b[m\u001b[K elongation, while remaining sensitive to inhibitory concentrations of indole-3-acetic acid.  They maintain their ability to initiate lateral \u001b[01;31m\u001b[Kroot\u001b[m\u001b[Ks in response to IBA.\t15743450\n",
      "AT1G08030\tSALK_009847\tSeedlings of tpst-1 had stunted \u001b[01;31m\u001b[Kroot\u001b[m\u001b[Ks and smaller cotyledons compared with the WT.  tpst-1 has an abnormally shaped \u001b[01;31m\u001b[Kroot\u001b[m\u001b[K apical meristem due to disorganized cell division and expansion. At 15 days after germination, the leaves of the tpst-1 plants are small and pale green, the number of higher order veins is reduced, and the secondary veins often do not close.  At the flowering stage, tpst-1 has smaller rosettes, tiny leaves showing early senescence, shorter inflorescence, and a reduced number of flowers and siliques. The fertility and seed set of tpst-1 are normal.\t19666544\n"
     ]
    },
    {
     "name": "stdout",
     "output_type": "stream",
     "text": [
      "AT1G08260\ttilted1-4\tTwenty-five percent of embryos show abnormal cell divisions during embryogenesis-large cells- decreased rate of cell division. Division of the hypohyseal cell abnormal leading to abnormal placement of the \u001b[01;31m\u001b[Kroot\u001b[m\u001b[K pole. Homozygotes show delayed flowering, abnormal floraly phyllotaxy and abnormal ovules.\t16278345\n",
      "AT1G08370\tdcp1-2\tThe homozygous progeny is seedling lethal, showed arrested postembryonic development including cotyledon expansion, development of vascular networks, \u001b[01;31m\u001b[Kroot\u001b[m\u001b[K elongation, and shoot development.\t17485080\n",
      "AT1G08430\tAtalm1-KO\tOn Al3+ medium, the mutant has significantly shorter \u001b[01;31m\u001b[Kroot\u001b[m\u001b[Ks than the Col wild type. In the absence of aluminum stress, the \u001b[01;31m\u001b[Kroot\u001b[m\u001b[Ks of mutant and wild type grew similarly.\t16740662\n",
      "AT1G08430\tAtalm1-KO\tThe mutant exhibits very low levels of \u001b[01;31m\u001b[Kroot\u001b[m\u001b[K  growth and malate release in the presence of  Al (0.2 nmol plant-1 24 h-1).\n",
      "AT1G09100\trpt5b\tInsensitive to high-glucose repression of cotyledon expansion, chlorophyll accumulation, true-leaf development and \u001b[01;31m\u001b[Kroot\u001b[m\u001b[K elongation. The response is specific to glucose but not to osmotic changes.\t17081979\n",
      "AT1G09110\trpt5b\tInsensitive to high-glucose repression of cotyledon expansion, chlorophyll accumulation, true-leaf development and \u001b[01;31m\u001b[Kroot\u001b[m\u001b[K elongation. The response is specific to glucose but not to osmotic changes.\t17081979\n",
      "AT1G09940\tathema2\tno visible phenotype. decreased heme contents in \u001b[01;31m\u001b[Kroot\u001b[m\u001b[Ks.\n",
      "AT1G10130\teca3-1\tShoot and \u001b[01;31m\u001b[Kroot\u001b[m\u001b[K growth is strongly retarded when plants are grown in the absence of Mn.  Also shows delayed growth when grown in the absence of Ca.\t18024560\n",
      "AT1G10570\tots1-1 ots2-1\tThe ots1-1 ots2-1 double mutant plants flower earlier than wild type plants under long days and short days. They do not differ notably from wild type plants with respect to their overall growth rate, inflorescence structure, or seedling primary \u001b[01;31m\u001b[Kroot\u001b[m\u001b[K elongation rate. But, they are hypersensitive to salt based on \u001b[01;31m\u001b[Kroot\u001b[m\u001b[K elongation assays. They also have a higher level of SUMOylated proteins than wild type seedlings exposed to salt stress.\t18849491\n",
      "AT1G11130\tscm-1\tPosition of \u001b[01;31m\u001b[Kroot\u001b[m\u001b[K-hair cells is scrambled.  Only 66% of epidermal cells (compared with 92% in wild type) overlying two cortical cells develop as \u001b[01;31m\u001b[Kroot\u001b[m\u001b[K hairs, and 21% of epidermal cells overlying one cortical cell (compared with 1% in wild type) develop as \u001b[01;31m\u001b[Kroot\u001b[m\u001b[K hairs.\t15618487\n",
      "AT1G12240\tSALK_100813 (homozygous)\tSignificantly shorter \u001b[01;31m\u001b[Kroot\u001b[m\u001b[Ks.  50% reduction in vacuolar invertase (Vac-Inv) activity compared to parental line.\t16481625\n",
      "AT1G12610\tddf1-LF1\tLonger \u001b[01;31m\u001b[Kroot\u001b[m\u001b[Ks when plants are grown under salt stress (50-100 nM NaCl).\t18643985\n",
      "AT1G13290\tdot5-1\tdot5-1 mutants have a misaligned venation defect in their leaves and cotyledons. Their phenotypes may vary somewhat, but dot5-1 mutants often have shorter \u001b[01;31m\u001b[Kroot\u001b[m\u001b[Ks and delayed leaf initiation compared to wild-type seedlings. They also have an abnormal petiole length and phyllotaxy. Apical dominance is reduced in dot5-1 mutants, and they appear to be hypersensitive to an application of the polar auxin transport inhibitor NPA.\t18643975\n",
      "AT1G14290\tsbh1-1 sbh2-1\tDwarf plants with reduced vigor, dies before expansion of the true leaves, necrotic lesions on cotyledons. When grew on agar plates, the double mutants displayed extended viability and developed into compact and epinastic rosette with small curled leaves and short petioles, however no bolting. Short \u001b[01;31m\u001b[Kroot\u001b[m\u001b[Ks on agar plate.\t18612100\n",
      "AT1G14660\tSALK_070497\tLi+ hypersensitive. Under low Li+ concentrations, germination of mutant seeds and elongation of \u001b[01;31m\u001b[Kroot\u001b[m\u001b[Ks were significantly reduced.\t17270011\n",
      "AT1G14660\tSALK_086336\tLi+ hypersensitive. Under low Li+ concentrations, germination of mutant seeds and elongation of \u001b[01;31m\u001b[Kroot\u001b[m\u001b[Ks were significantly reduced.\t17270011\n",
      "AT1G15550\tga3ox1-3\t\u001b[01;31m\u001b[KRoot\u001b[m\u001b[Ks shorter than that of wildtype.\t16460513\n",
      "AT1G15550\tga3ox1-3 ga3ox2-1\tSevere defect in \u001b[01;31m\u001b[Kroot\u001b[m\u001b[K length.\t16460513\n",
      "AT1G15690\tavp1-1\tShoot defects include: smaller leaves, decreased cell number in leaves, mesophyll and vascular patterning disorganized, cup-shaped cotyledons.\u001b[01;31m\u001b[KRoot\u001b[m\u001b[K defects: small cells at apex, columella cell layers reduced to 2, deformed \u001b[01;31m\u001b[Kroot\u001b[m\u001b[K cap.\t16210544\n",
      "AT1G16150\twakl4-1\tSeedlings consistently show retarded \u001b[01;31m\u001b[Kroot\u001b[m\u001b[K growth when grown in full- or one-half-strength MS nutrients and are hypersensitive, as assayed by a \u001b[01;31m\u001b[Kroot\u001b[m\u001b[K elongation assay, to Na+, K+, Zn2+ and Cu2+.\t16286448\n",
      "AT1G17110\tubp15-1\tubp15-1 mutants exhibit several anatomical defects related to leaf, \u001b[01;31m\u001b[Kroot\u001b[m\u001b[K, flower, stem, and silique development. Notably, rosette leaves are narrow and serrated. An examination of ubp15-1 leaf cross-sections reveals a reduction in the number of adaxial epidermal and palisade cells spanning the width of the leaf. ubp15-1 mutant leaves also have fewer spongy cell layers than wild type leaves. The aberrant phenotype of this mutant is exacerbated when it is crossed with ubp16-1.\t18485060\n",
      "AT1G17170\tgst\tAs for the \u001b[01;31m\u001b[Kroot\u001b[m\u001b[K growth assay, the \u001b[01;31m\u001b[Kroot\u001b[m\u001b[K elongation of both the mutant and the wild-type was inhibited at lower concentrations of TNT than 2,6-DNT. In addition, there was no statistically significant difference of the \u001b[01;31m\u001b[Kroot\u001b[m\u001b[K elongation between the gst mutant and the wild-type exposed to different concentrations of 2,6-DNT and TNT from t-test.\n",
      "AT1G17440\teer4\t\u001b[01;31m\u001b[KRoot\u001b[m\u001b[Ks are extremely curled.   Dark-grown seedlings are hypersensitive to ethylene. Extreme hypocotyl shortening is observed when grown on 100ul /L ethylene.\n",
      "AT1G17580\tSALK_019031C\tThere are no obvious defects in the aerial tissues, \u001b[01;31m\u001b[Kroot\u001b[m\u001b[Ks, or \u001b[01;31m\u001b[Kroot\u001b[m\u001b[K hairs of xi-1 mutant plants grown under normal conditions. There are also no obvious defects in organelle trafficking, except for a slight effect on peroxisome movement. Double mutant analysis reveals a greater role for XI-1 in organelle movement and plant development (see xik-2/xi-1).\t18178669\n",
      "AT1G17580\txi-k / xi-1\tThe xi-k / xi-1 double mutant plants are shorter and have smaller rosettes than wild type plants. Their reduced leaf size results from decreased cell size and decreased cell number. These double mutants produce fewer seeds per silique than wild type plants. In the leaf epidermis, Golgi stacks, peroxisomes, and mitochondria move more slowly in these mutant cells than in wild-type cells. \u001b[01;31m\u001b[KRoot\u001b[m\u001b[K hair length is reduced to ~35% of the wild type \u001b[01;31m\u001b[Kroot\u001b[m\u001b[K hair length in these double mutants, but their \u001b[01;31m\u001b[Kroot\u001b[m\u001b[K hair density is very similar to the wild type density.\t19060218\n",
      "AT1G18350\tbud1\tbud1 plants develop significantly fewer  lateral \u001b[01;31m\u001b[Kroot\u001b[m\u001b[Ks, simpler venation patterns, and a quicker and greater curvature in the gravitropism assay. In addition, the bud1  plants have shorter hypocotyls at high temperature (29C) under light, which is a characteristic feature of defective auxin  action. Determination of tritium-labeled indole-3-acetic acid transport showed that the increased expression of MKK7 in bud1  or the repressed expression in MKK7 antisense transgenic plants causes deficiency or enhancement in auxin transport,  indicating that MKK7 negatively regulates polar auxin transport.\t16377756\n",
      "AT1G18800\tnrp1-1 nrp2-1\tDouble mutant plants showed a short-\u001b[01;31m\u001b[Kroot\u001b[m\u001b[K phenotype: \u001b[01;31m\u001b[Kroot\u001b[m\u001b[Ks grew like the wild-type \u001b[01;31m\u001b[Kroot\u001b[m\u001b[Ks until 6 d after germination (DAG). However, after 7 DAG, the elongation of the double mutant \u001b[01;31m\u001b[Kroot\u001b[m\u001b[Ks was dramatically reduced compared with the wild-type \u001b[01;31m\u001b[Kroot\u001b[m\u001b[Ks. The aerial organs (leaves, rosettes, inflorescences, flowers, fruits, and embryos) developed normally in the double mutant plants.\n",
      "AT1G19220\tCS24617\tThe primary \u001b[01;31m\u001b[Kroot\u001b[m\u001b[Ks of the mutant produce as many lateral \u001b[01;31m\u001b[Kroot\u001b[m\u001b[Ks as the wild type.\t15659631\n"
     ]
    },
    {
     "name": "stdout",
     "output_type": "stream",
     "text": [
      "AT1G19220\tCS24617\tno obvious auxin-related growth phenotype, but \u001b[01;31m\u001b[Kroot\u001b[m\u001b[Ks show mild auxin resistance\t15659631\n",
      "AT1G19220\tCS24618\tno obvious auxin-related growth phenotype, but \u001b[01;31m\u001b[Kroot\u001b[m\u001b[Ks show mild auxin resistance\t15659631\n",
      "AT1G19220\tCS24625\tThe phenotype of the double mutant is most obvious at its seedling stage, with its most prominent phenotype being severely impaired  lateral \u001b[01;31m\u001b[Kroot\u001b[m\u001b[K formation. Its primary \u001b[01;31m\u001b[Kroot\u001b[m\u001b[Ks fail to produce lateral \u001b[01;31m\u001b[Kroot\u001b[m\u001b[Ks in 2-week-old seedlings. However, double mutant seedlings start to generate several lateral \u001b[01;31m\u001b[Kroot\u001b[m\u001b[Ks after ~2 weeks of growth, and their morphological appearance is normal.\t15659631\n",
      "AT1G19220\tCS24625\tnph4-1 arf19 double mutant;  agravitropic response in both hypocotyls and \u001b[01;31m\u001b[Kroot\u001b[m\u001b[Ks; impaired phototropic response in hypocotyls; impaired lateral \u001b[01;31m\u001b[Kroot\u001b[m\u001b[K formation; small plant size; small and epinastic rosette leaves; reduced auxin sensitivity\t15659631\n",
      "AT1G19220\tCS24626\tThe phenotype of the double mutant is most obvious at its seedling stage, with its most prominent phenotype being severely impaired  lateral \u001b[01;31m\u001b[Kroot\u001b[m\u001b[K formation. Its primary \u001b[01;31m\u001b[Kroot\u001b[m\u001b[Ks fail to produce lateral \u001b[01;31m\u001b[Kroot\u001b[m\u001b[Ks in 2-week-old seedlings. However, double mutant seedlings start to generate several lateral \u001b[01;31m\u001b[Kroot\u001b[m\u001b[Ks after ~2 weeks of growth, and their morphological appearance is normal.\t15659631\n",
      "AT1G19220\tCS24626\tnph4-1 arf19 double mutant;  agravitropic response in both hypocotyls and \u001b[01;31m\u001b[Kroot\u001b[m\u001b[Ks; impaired phototropic response in hypocotyls; impaired lateral \u001b[01;31m\u001b[Kroot\u001b[m\u001b[K formation; small plant size; small and epinastic rosette leaves; reduced auxin sensitivity\t15659631\n",
      "AT1G19220\tCS24627\tThe phenotype of the double mutant is most obvious at its seedling stage, with its most prominent phenotype being severely impaired  lateral \u001b[01;31m\u001b[Kroot\u001b[m\u001b[K formation. Its primary \u001b[01;31m\u001b[Kroot\u001b[m\u001b[Ks fail to produce lateral \u001b[01;31m\u001b[Kroot\u001b[m\u001b[Ks in 2-week-old seedlings. However, double mutant seedlings start to generate several lateral \u001b[01;31m\u001b[Kroot\u001b[m\u001b[Ks after ~2 weeks of growth, and their morphological appearance is normal.\t15659631\n",
      "AT1G19220\tCS24628\tThe phenotype of the double mutant is most obvious at its seedling stage, with its most prominent phenotype being severely impaired  lateral \u001b[01;31m\u001b[Kroot\u001b[m\u001b[K formation. Its primary \u001b[01;31m\u001b[Kroot\u001b[m\u001b[Ks fail to produce lateral \u001b[01;31m\u001b[Kroot\u001b[m\u001b[Ks in 2-week-old seedlings. However, double mutant seedlings start to generate several lateral \u001b[01;31m\u001b[Kroot\u001b[m\u001b[Ks after ~2 weeks of growth, and their morphological appearance is normal.\t15659631\n",
      "AT1G19220\tCS24629\tThe phenotype of the double mutant is most obvious at its seedling stage, with its most prominent phenotype being severely impaired  lateral \u001b[01;31m\u001b[Kroot\u001b[m\u001b[K formation. Its primary \u001b[01;31m\u001b[Kroot\u001b[m\u001b[Ks fail to produce lateral \u001b[01;31m\u001b[Kroot\u001b[m\u001b[Ks in 2-week-old seedlings. However, double mutant seedlings start to generate several lateral \u001b[01;31m\u001b[Kroot\u001b[m\u001b[Ks after ~2 weeks of growth, and their morphological appearance is normal.\t15659631\n",
      "AT1G19220\tCS24630\tThe phenotype of the double mutant is most obvious at its seedling stage, with its most prominent phenotype being severely impaired  lateral \u001b[01;31m\u001b[Kroot\u001b[m\u001b[K formation. Its primary \u001b[01;31m\u001b[Kroot\u001b[m\u001b[Ks fail to produce lateral \u001b[01;31m\u001b[Kroot\u001b[m\u001b[Ks in 2-week-old seedlings. However, double mutant seedlings start to generate several lateral \u001b[01;31m\u001b[Kroot\u001b[m\u001b[Ks after ~2 weeks of growth, and their morphological appearance is normal.\t15659631\n",
      "AT1G19220\tarf19-101\tLong hypocotyl and elongated primary \u001b[01;31m\u001b[Kroot\u001b[m\u001b[Ks when germinated and grown on MS with sirtinol in darkness.  Auxin resistant in both light and dark.  \u001b[01;31m\u001b[KRoot\u001b[m\u001b[Ks are less sensitive to the ethylene precursor ACC than wt \u001b[01;31m\u001b[Kroot\u001b[m\u001b[Ks.\t16461383\n",
      "AT1G19220\tarf7-201 arf19-101\tDark grown seedlings on sirtinol have both long primary \u001b[01;31m\u001b[Kroot\u001b[m\u001b[Ks and long hypocotyls.  More resistant to 2,4-D and IAA than single mutants in both light and dark.  The ethylene resistant \u001b[01;31m\u001b[Kroot\u001b[m\u001b[K phenotype of arf19-101 is enhanced by arf7-201.\t16461383\n",
      "AT1G20700\tpst13645\tReduced fertility, short siliques and aborted seeds. Late flowering. Reduced number of lateral \u001b[01;31m\u001b[Kroot\u001b[m\u001b[Ks.Short stamens.\t18950478\n",
      "AT1G21270\twak2-1\tOn pond water without sucrose, most  wak2-1 seedlings arrested or slowed growth.  The wak2-1 seedlings were significantly (P < 0.001) shorter  than wild-type, with the \u001b[01;31m\u001b[Kroot\u001b[m\u001b[Ks being affected more than the  hypocotyls. Arrest of  wak2-1 on pond water was rescued by the addition of 60 mM sucrose,  fructose or glucose, but not sorbitol or mannitol. When grown in the dark for 3 weeks on soil, wak2-1 plants have less hypocotyl extension than wild type. wak2-1 affects the rate of cell elongation in \u001b[01;31m\u001b[Kroot\u001b[m\u001b[Ks.  than the wild-type\t16623892\n",
      "AT1G21700\tatswi3c-1\tDelayed development,semi-dwarf growth habit, and formation of aberrant rosettes.  The rosette and cauline leaves are severely twisted along the proximodistal axis, leading to a downward curvature of the lateral edges toward the abaxial leaf surface. Cross sections of leaves showed an increased protrusion of mesophyll cell files around the vascular bundles.  The \u001b[01;31m\u001b[Kroot\u001b[m\u001b[K system is greatly reduced, because elongation of primary \u001b[01;31m\u001b[Kroot\u001b[m\u001b[Ks is inhibited. Seedlings develop several side \u001b[01;31m\u001b[Kroot\u001b[m\u001b[Ks and secondary \u001b[01;31m\u001b[Kroot\u001b[m\u001b[K branches.\n",
      "AT1G21970\tCS3867\tEmbryo lethal; viviparous embryos with cotyledons partially transformed into leaves; embryos sensitive to abscisic acid; embryos have reduced hypocotyl, cotyledons that remain green late in development; reduced protein and lipid bodies with starch being predominant storage product in mutant embryos. Trichomes form on cotyledons after germination; internal cells of cotyledons enlarge, vacuolate and resemble leaf mesophyll cells; intercellular spaces are prominant in cotyledons; enlarged shoot apical meristem; stomata are found on surface of cotyledons of mutant embryos; mature seeds are desiccation intolerant, however, immature seeds can be rescued before silique drying and germinated to produce seedlings. \u001b[01;31m\u001b[KRoot\u001b[m\u001b[K apex is active in viviparous seeds; immature mutant embryos germinated prior to desiccation produce plants that appear normal for other characteristics.\t12244233\n",
      "AT1G21970\tCS8101\tEmbryo lethal; viviparous embryos with cotyledons partially transformed into leaves; embryos sensitive to abscisic acid; embryos have reduced hypocotyl, cotyledons that remain green late in development; reduced protein and lipid bodies with starch being predominant storage product in mutant embryos. Trichomes form on cotyledons after germination; internal cells of cotyledons enlarge, vacuolate and resemble leaf mesophyll cells; intercellular spaces are prominant in cotyledons; enlarged shoot apical meristem; stomata are found on surface of cotyledons of mutant embryos; mature seeds are desiccation intolerant, however, immature seeds can be rescued before silique drying and germinated to produce seedlings. \u001b[01;31m\u001b[KRoot\u001b[m\u001b[K apex is active in viviparous seeds; immature mutant embryos germinated prior to desiccation produce plants that appear normal for other characteristics.\t12244233\n",
      "AT1G22920\tcsn5a-1\tShorter hypocotyls in the dark, shorter  \u001b[01;31m\u001b[Kroot\u001b[m\u001b[Ks, smaller flowers, a decreased number of \u001b[01;31m\u001b[Kroot\u001b[m\u001b[K hairs in response to jasmonic acid treatment, and altered light and auxin  responses.\t17307927\n",
      "AT1G22920\tcsn5a-2\tShorter hypocotyls in the dark, shorter  \u001b[01;31m\u001b[Kroot\u001b[m\u001b[Ks, smaller flowers, a decreased number of \u001b[01;31m\u001b[Kroot\u001b[m\u001b[K hairs in response to jasmonic acid treatment, and altered light and auxin  responses.\t17307927\n",
      "AT1G23010\tlpr1-1\tLong primary \u001b[01;31m\u001b[Kroot\u001b[m\u001b[K when grown on low Pi.\t17496893\n",
      "AT1G23010\tlpr1-2\tLong primary \u001b[01;31m\u001b[Kroot\u001b[m\u001b[K when grown on low Pi.\t17496893\n",
      "AT1G23310\tggt1-1 (LUC)\tIn the absence of ABA treatment, \u001b[01;31m\u001b[Kroot\u001b[m\u001b[K elongation of ggt1-1 was reduced nearly 50% compared to wild-type.\t17318317\n"
     ]
    },
    {
     "name": "stdout",
     "output_type": "stream",
     "text": [
      "AT1G23320\ttar1-1\tThis mutant does not have any obvious morphological defects and it responds normally to ACC and IAA in hypocotyl and \u001b[01;31m\u001b[Kroot\u001b[m\u001b[K elongation assays.\t18394997\n",
      "AT1G23320\twei8-1 tar1-1 tar2-1\tThese triple mutants do not make a primary \u001b[01;31m\u001b[Kroot\u001b[m\u001b[K, they have an extremely reduced hypocotyl, and they lack discernible vasculature in their cotyledons. These mutants have a higher propensity to develop a single cotyledon than wild-type embryos.\t18394997\n",
      "AT1G26870\tSALK_025663\tHomozygotes have a reduced number of columella \u001b[01;31m\u001b[Kroot\u001b[m\u001b[K cap (COL) and lateral \u001b[01;31m\u001b[Kroot\u001b[m\u001b[K cap (LRC) cell layers. Meristem length, meristem cell number and \u001b[01;31m\u001b[Kroot\u001b[m\u001b[K length are comparable to WT. Periclinal division rates in the COL and LRC stem cells are reduced.\t19081078\n",
      "AT1G27320\tahk2-1cu ahk3-1cu\t\u001b[01;31m\u001b[KRoot\u001b[m\u001b[K elongation unaffected.\t15155880\n",
      "AT1G27320\tahk2-1cu ahk3-1cu ahk4-1cu\tAborted vascular system containing few protoxylem cells in the primary \u001b[01;31m\u001b[Kroot\u001b[m\u001b[K. Normal adventitious \u001b[01;31m\u001b[Kroot\u001b[m\u001b[K-vascular system.\t16357038\n",
      "AT1G27320\tahk2-1cu ahk3-1cu ahk4-1cu\tAdventitious \u001b[01;31m\u001b[Kroot\u001b[m\u001b[Ks are normal.\t16357038\n",
      "AT1G27320\tahk2-1cu ahk3-1cu ahk4-1cu\tDoes not produce lateral \u001b[01;31m\u001b[Kroot\u001b[m\u001b[Ks from the primary \u001b[01;31m\u001b[Kroot\u001b[m\u001b[K. However, 10 days after germination, lateral \u001b[01;31m\u001b[Kroot\u001b[m\u001b[Ks are formed at the upper part of the hypocotyl rather than at the \u001b[01;31m\u001b[Kroot\u001b[m\u001b[K-hypocotyl junction.\t16357038\n",
      "AT1G27320\tahk2-1cu ahk3-1cu ahk4-1cu\tNormal vascular system in adventitious \u001b[01;31m\u001b[Kroot\u001b[m\u001b[Ks, although the hypocotyl and primary \u001b[01;31m\u001b[Kroot\u001b[m\u001b[K develop aborted vascular tissues.\t16357038\n",
      "AT1G27320\tahk2-1cu ahk3-1cu ahk4-1cu\tPostembryonic growth of \u001b[01;31m\u001b[Kroot\u001b[m\u001b[Ks (primary and lateral) severely impaired.\t11479382\n",
      "AT1G27320\tahk2-1cu ahk3-1cu ahk4-1cu\tReduced seedling size with small cotyledons, slightly shortened hypocotyls (65% of wildtype) and significantly reduced \u001b[01;31m\u001b[Kroot\u001b[m\u001b[K length.\t11479382\n",
      "AT1G27320\tahk2-1ms ahk3-1ms\tNormal \u001b[01;31m\u001b[Kroot\u001b[m\u001b[Ks.\t\n",
      "AT1G27320\tahk2-2tk ahk3-3\tNormal \u001b[01;31m\u001b[Kroot\u001b[m\u001b[Ks.\t\n",
      "AT1G27320\tahk2-2tk ahk3-3\tReduced sensitivity to cytokinin in \u001b[01;31m\u001b[Kroot\u001b[m\u001b[K growth assay (exogenous application of cytokinins inhibits wildtype \u001b[01;31m\u001b[Kroot\u001b[m\u001b[K elongation).\t\n",
      "AT1G27320\tahk2-5 ahk3-7\tDisplays secondary lateral \u001b[01;31m\u001b[Kroot\u001b[m\u001b[K branching (not seen in wild-type).\t16361392\n",
      "AT1G27320\tahk2-5 ahk3-7 cre1-2\tIncreased seed size, largely due to increased size of the embryo. Embryonic \u001b[01;31m\u001b[Kroot\u001b[m\u001b[K epidermal cells increased 15% in number and 30% in size compared to wild-type.\t16361392\n",
      "AT1G27320\tahk3-1cu ahk4-1\t\u001b[01;31m\u001b[KRoot\u001b[m\u001b[K elongation unaffected.\t15155880\n",
      "AT1G27320\tahk3-3\tThe meristem of the mutants did not stop growing at 5 dpg and kept increasing in size. Furthermore, the growth rate of mutant \u001b[01;31m\u001b[Kroot\u001b[m\u001b[Ks was higher than the wild-type, resulting in longer \u001b[01;31m\u001b[Kroot\u001b[m\u001b[Ks.\t17363254\n",
      "AT1G27320\tahk3-3 arr1-4\tThe \u001b[01;31m\u001b[Kroot\u001b[m\u001b[K-meristem size of the double mutant was indistinguishable from that of the ahk3 mutant.\t17363254\n",
      "AT1G27320\tahk3-3 arr12-2\tThe \u001b[01;31m\u001b[Kroot\u001b[m\u001b[K-meristem size of the double mutant was indistinguishable from that of the ahk3 mutant.\t17363254\n",
      "AT1G27320\tahk3-7 cre1-2\tDisplays secondary lateral \u001b[01;31m\u001b[Kroot\u001b[m\u001b[K branching (not seen in wild-type).\t16361392\n",
      "AT1G27320\tcre1-10 ahk2-1ms ahk3-1ms\tShoot and \u001b[01;31m\u001b[Kroot\u001b[m\u001b[K growth is very slow and leaf number is decreased compared to wildtype.\t\n",
      "AT1G27320\tcre1-10 ahk3-1ms\tReduced sensitivity to cytokinin in \u001b[01;31m\u001b[Kroot\u001b[m\u001b[K growth assay (exogenous application of cytokinins inhibits wildtype \u001b[01;31m\u001b[Kroot\u001b[m\u001b[K elongation).\t\n",
      "AT1G27320\tstip-d ahk2-2 ahk3-3 cre1-12\tSmall SAM and limited \u001b[01;31m\u001b[Kroot\u001b[m\u001b[K growth.\t20110319\n",
      "AT1G27760\tatsat32\tReduced fertility. Increased \u001b[01;31m\u001b[Kroot\u001b[m\u001b[K length (longer \u001b[01;31m\u001b[Kroot\u001b[m\u001b[Ks). Hypersensitive to salt stress.\t19210750\n",
      "AT1G28300\tCS3868\tEmbryo lethal, embryos not viviparous, cotyledons partially transformed into leaves, complex vascular pattern observed in cotyledons. Embryos are sensitive to abscisic acid. Mutant seeds were usually desiccation tolerant at maturity, although their viability was reduced slightly after several weeks of storage. Dry seeds often germinated to produce seedlings with distorted cotyledons. This defect resulted from degeneration of cotyledon tips prior to germination. Some trichomes form on cotyledons after germination and stomata are found on surface of cotyledons of mutant embryos The cotyledon surface on seedlings produced from dry seeds lacked trichomes (likely because any trichomes initiated during embryogenesis did not survive desiccation). Mutant seeds were consequently highly pigmented at maturity and anthocyanins were especially prominent in the top half of the mutant cotyledons. Mutant embryos do not form \u001b[01;31m\u001b[Kroot\u001b[m\u001b[Ks during the first 48 hours of culture. The pattern of storage product accumulation was altered, the hypocotyl was filled with mature protein bodies, while the cotyledons exhibited a gradient of starch and protein accumulation. Cells in the top half of mutant cotyledons were highly vacuolated, packed with starch grains, and lacked mature protein bodies, whereas cells closer to the hypocotyl contained less starch but many protein bodies. The accumulation of lipid bodies during embryogenesis was unusual too: distribution of lipid bodies was highly abundant in the hypocotyls of the mutant plants.\t12244265\n",
      "AT1G28560\tsrd2\ttemperature-sensitive mutant. srd2 seedlings grown at  the permissive temperature (22C) appeared almost normal. At 28C,  both hypocotyl and \u001b[01;31m\u001b[Kroot\u001b[m\u001b[K explants of the srd2 mutant could  not establish shoot apical meristems de novo. When  primary \u001b[01;31m\u001b[Kroot\u001b[m\u001b[K segments of srd2 were cultured on \u001b[01;31m\u001b[Kroot\u001b[m\u001b[K-inducing  medium (RIM) at 28C, abnormal lateral \u001b[01;31m\u001b[Kroot\u001b[m\u001b[K primordia  lacking functional apical meristems were frequently observed.  except that they had fewer lateral \u001b[01;31m\u001b[Kroot\u001b[m\u001b[Ks than the wild-type  seedlings. At the restrictive temperature (28C however, the development of true leaves and primary \u001b[01;31m\u001b[Kroot\u001b[m\u001b[Ks in srd2  seedlings was severely interrupted. Whereas \u001b[01;31m\u001b[Kroot\u001b[m\u001b[K explants of the srd2 mutant formed  calli on callus-inducing medium (CIM), at either 22Cor 28C,  callus formation from srd2 hypocotyl explants was strongly  inhibited at 28C\t16098103\n",
      "AT1G29260\tpex7-1\tDisplays peroxisomal defects such as reduced sensitivity to exogenously applied IBA.  Fewer lateral \u001b[01;31m\u001b[Kroot\u001b[m\u001b[Ks after IBA treatment.  Not generally defective in auxin responses.   Hypocotyl is not markedly shorter than WT when grown without added sucrose in the dark. PTS2-tageed proteins are not efficiently imported into the peroxisome.\t15548601\n",
      "AT1G29990\tpdf6-1\tSeedlings exhibit \u001b[01;31m\u001b[Kroot\u001b[m\u001b[K swelling when grown in the presence of 100 nM oryzalin and have a 25% reduction in hypocotyl length. Reduced cell size is due to defects in the microtubules. Microtubules in the \u001b[01;31m\u001b[Kroot\u001b[m\u001b[K elongation zone remain disorganized. Also affects epidermal cells which have abnormal division planes.\t19004800\n",
      "AT1G30270\tcipk23-1\tEnhanced drought tolerance. Hypersensitive to ABA inhibition  of light-induced stomatal opening. Loss of function of CIPK23 alters the ABA  responsiveness of guard cells during their opening and  closure, leading to reduced water loss under drought  conditions. When grown on media containing low levels of KCl (micromolar  range), cipk23 mutants displayed drastically reduced  stature compared to the wild-type. In particular, the \u001b[01;31m\u001b[Kroot\u001b[m\u001b[Ks of  mutant plants were significantly shorter than those of wildtype  plants.\t17922773\n",
      "AT1G31480\tsgr2-1\tInflorescence stem failed to curve upward even after 6 h of horizontal gravistimulation. Plant size not affected in this mutation, inflorescence stem twisted as the elongated, and the lateral branches twisted downward. Reduced gravitropic response of ethyolated hypocotyls. \u001b[01;31m\u001b[KRoot\u001b[m\u001b[K gravitropism was normal.\t8819871\n",
      "AT1G31880\tCS6879\tShort-\u001b[01;31m\u001b[Kroot\u001b[m\u001b[K phenotype, characterized by short primary \u001b[01;31m\u001b[Kroot\u001b[m\u001b[K and more branched \u001b[01;31m\u001b[Kroot\u001b[m\u001b[K system.\t15031265\n"
     ]
    },
    {
     "name": "stdout",
     "output_type": "stream",
     "text": [
      "AT1G31880\tbrx-2\tlateral \u001b[01;31m\u001b[Kroot\u001b[m\u001b[K formation in the mutant is insensitive to exogenous cytokinin; altered auxin response in lateral \u001b[01;31m\u001b[Kroot\u001b[m\u001b[K primordium in the presence of exogenous cytokinin.\t19037657\n",
      "AT1G31880\tbrx-3\tenhanced response to ABA-mediated inhibition of \u001b[01;31m\u001b[Kroot\u001b[m\u001b[K growth\t19201913\n",
      "AT1G31880\tbrxS\tThe \u001b[01;31m\u001b[Kroot\u001b[m\u001b[Ks of brxS seedlings are as short, both when grown in the light or in darkness. In contrast to the \u001b[01;31m\u001b[Kroot\u001b[m\u001b[K system, the shoot system morphology and flowering time of brxS plants resembles the Sav-0 shoot system, which was used as the control. Cell elongation and cell production rate in the \u001b[01;31m\u001b[Kroot\u001b[m\u001b[K meristematic and elongation zone were decreased in brxS seedlings, contributing approximately one-third and two-thirds, respectively, to the overall difference in \u001b[01;31m\u001b[Kroot\u001b[m\u001b[K length as compared with Sav-0 seedlings.\t15031265\n",
      "AT1G32450\tSALK_005099 HOMOZYGOUS\tDefective in xylem transport of nitrate from \u001b[01;31m\u001b[Kroot\u001b[m\u001b[K to shoot. Morphologically WT when grown on soil. When grown on plates, \u001b[01;31m\u001b[Kroot\u001b[m\u001b[Ks were shorter than WT\t18780802\n",
      "AT1G32500\tSALK_055996\tHomozygous offsprings of the T-DNA line show a characteristic set of phenotypes. The chlorophyll content is reduced to 75% compared to wild type. Plants appear slightly bleached. The ultrastructure of the plastids is conspicuously different to wild type plastids. Most evident is the structure of the thylakoids, which are reduced and the grana are unorganized compared to the wild type situation. The overall architecture of mutant homozygous plants is slightly altered compared to wild type. \u001b[01;31m\u001b[KRoot\u001b[m\u001b[Ks of 6 day-old seedlings were 35% shorter on average. The main macroscopic effect of the mutation is that mutant plants produce a large amount of aborted seeds. Only about 60% of the mature seeds contain phenotypically normal, viable embryos. Up to 30% of the seeds are aborted, dark and shrunken, and do not germinate. Most of these aborted seeds contain embryos arrested at the globular stage as well as ball/oblong-shaped embryos (ca. 75%). The morphogenesis of these embryos was blocked before initiation of cotyledon growth and establishment of bilateral symmetry. The other aborted seeds contain embryos arrested at the torpedo or bent cotyledon stage with abnormal- shaped, thickened hypocotyls and underdeveloped cotyledons (ca. 25%). About 10% of all seeds are narrow, containing undersized, tenuous embryos which are not viable.\t15710401\n",
      "AT1G33280\tbrn1-1; brn2-1\tColumella \u001b[01;31m\u001b[Kroot\u001b[m\u001b[K cap cells fail to detach.\t20197506\n",
      "AT1G33280\tsmb-3; brn1-1; brn2-1\t\u001b[01;31m\u001b[KRoot\u001b[m\u001b[K cap cells appear as a mass lacking uniform morphology. Cells can be highly elongated and twisted.   Cells fail to stop elongation and to  adopt the rigid, rectangular morphology of COL cells.   When compared with smb-3, the triple mutant has thesame number of complete LRC layers, and the appearance of the cells in those layers closely resembles that in smb-3. However, partial remains of older LRC layers remain attached to the meristem in the triple mutant, giving it a messy appearance. Remains of old LRC cap layers can be  found still attached to the \u001b[01;31m\u001b[Kroot\u001b[m\u001b[K along its whole length.\n",
      "AT1G33290\tbrn1-1; brn2-1\tColumella \u001b[01;31m\u001b[Kroot\u001b[m\u001b[K cap cells fail to detach.\t20197506\n",
      "AT1G33290\tsmb-3; brn1-1; brn2-1\t\u001b[01;31m\u001b[KRoot\u001b[m\u001b[K cap cells appear as a mass lacking uniform morphology. Cells can be highly elongated and twisted.   Cells fail to stop elongation and to  adopt the rigid, rectangular morphology of COL cells.   When compared with smb-3, the triple mutant has thesame number of complete LRC layers, and the appearance of the cells in those layers closely resembles that in smb-3. However, partial remains of older LRC layers remain attached to the meristem in the triple mutant, giving it a messy appearance. Remains of old LRC cap layers can be  found still attached to the \u001b[01;31m\u001b[Kroot\u001b[m\u001b[K along its whole length.\n",
      "AT1G34370\tSTOP1-KO\tReduced \u001b[01;31m\u001b[Kroot\u001b[m\u001b[K growth at pH 4.7. Hypersensitive to proton (H+) and aluminum (Al3+) rhizotoxicity.  No expression of the AtALMT1 gene (encoding a malate transporter) and malate excretion after Al treatment.\t17535918\n",
      "AT1G34370\tstop1\tNo \u001b[01;31m\u001b[Kroot\u001b[m\u001b[K growth at pH 4.3.\t17535918\n",
      "AT1G34370\tstop1\tReduced \u001b[01;31m\u001b[Kroot\u001b[m\u001b[K growth at pH 4.7. Hypersensitive to proton (H+) and aluminum (Al3+) rhizotoxicity.  No expression of the AtALMT1 gene (encoding a malate transporter) and malate excretion after Al treatment.\t17535918\n",
      "AT1G35580\tcinv1\tConcentration of sucrose in the mutant \u001b[01;31m\u001b[Kroot\u001b[m\u001b[Ks are lower than in wild type. The concentration of <i>myo</i>-inositol is increased, as are those of glucose and fructose.\t17220200\n",
      "AT1G35580\tcinv1\tShortened \u001b[01;31m\u001b[Kroot\u001b[m\u001b[Ks.\t17220200\n",
      "AT1G35580\tcinv1\tatinvg mutants have reduced \u001b[01;31m\u001b[Kroot\u001b[m\u001b[K growth, reduced invertase activity, and increased expression of antioxidant genes under basal conditions.\t21441406\n",
      "AT1G47056\tvfb1-1/vfb2-1/vfb3-1/vfb4rnai\tDefects in lateral \u001b[01;31m\u001b[Kroot\u001b[m\u001b[K formation, delayed \u001b[01;31m\u001b[Kroot\u001b[m\u001b[K elongation and delayed plant growth. Reduced cell size.\t17435085\n",
      "AT1G47720\tSALK_086929\tRetarted \u001b[01;31m\u001b[Kroot\u001b[m\u001b[K growth, variegated and distorted leaves, distorted flowers, partial sterile, and unviable seeds. Increased number but decreased size of mitochondria.\t17189341\n",
      "AT1G47720\tosb1-1\tRetarted \u001b[01;31m\u001b[Kroot\u001b[m\u001b[K growth, variegated and distorted leaves, distorted flowers, partial sterile, and unviable seeds. Increased number but decreased size of mitochondria.\t17189341\n",
      "AT1G48380\trhl1-2\tExtreme dwarf in the dark and in the light.  Reduced \u001b[01;31m\u001b[Kroot\u001b[m\u001b[K hair number.  Trichome size and branching is reduced.  Ploidy defect.\t16339310\n",
      "AT1G48920\tparl1-1\tparl1-1 mutants, initially identified based on their aberrant parallel venation pattern in juvenile leaves, exhibit several other developmental defects. They have abnormal venation patterns in their cotyledons, adult leaves, petals, and sepals. In addition, they are shorter, have abnormal leaf shapes, and have reduced apical dominance, rosette size, fertility, and \u001b[01;31m\u001b[Kroot\u001b[m\u001b[K length compared to wild type plants.  The normal adaxial/abaxial arrangement of xylem and phloem is maintained in parl1-1 mutant leaves, but, they have a reduced palisade mesophyll layer in the leaf. There are aberrant expression patterns for the DR5:GUS reporter and the Athb8:GUS reporter in the parl1-1 mutants.\t17369435\n",
      "AT1G49240\tact2-1/act8-2\tLacks \u001b[01;31m\u001b[Kroot\u001b[m\u001b[K hairs.\u001b[01;31m\u001b[KRoot\u001b[m\u001b[K hairs initiate but do not develop further.\t19304937\n",
      "AT1G49240\tact8-2\tShort \u001b[01;31m\u001b[Kroot\u001b[m\u001b[K hairs. 50% reduction in \u001b[01;31m\u001b[Kroot\u001b[m\u001b[K hair length compared to wild type.\t19304937\n",
      "AT1G49240\tact8-2/act7-4\tPlants are dwarf. Leaves are smaller and contain fewer cells and fewer lobes than wild type. Reduced number of trichome branches. Petals are narrow. \u001b[01;31m\u001b[KRoot\u001b[m\u001b[Ks are more severely affected and produce short \u001b[01;31m\u001b[Kroot\u001b[m\u001b[K hairs. Cell files are irregular and the elongation zone is much reduced.\t19304937\n",
      "AT1G50960\tga2ox7-2\tLonger \u001b[01;31m\u001b[Kroot\u001b[m\u001b[Ks when plants are grown under salt stress (50-100nM NaCl).\t18643985\n",
      "AT1G51190\tplt3-1/plt2-2/plt1-4\t\u001b[01;31m\u001b[KRoot\u001b[m\u001b[Kless.Embryonic \u001b[01;31m\u001b[Kroot\u001b[m\u001b[K differentiates 3 days after germination. Adventitious \u001b[01;31m\u001b[Kroot\u001b[m\u001b[Ks arrest 6 days after germination.\t17960244\n",
      "AT1G52340\taba2-2\tMutant showed a similar sensitivity to 25 mM trehalose as wild type (inhibition of \u001b[01;31m\u001b[Kroot\u001b[m\u001b[K growth).\t17031512\n",
      "AT1G53330\tCB_1265\t30-40% T3 seeds are embryo lethal, the rest had delayed germination. Among the germinated plants, they displayed a range of phenotypic expression: 1) seedling lethal, 2) normal cotyledons later became elongated and fragile, slightly narrower and curved rosette leaves, reduced shoot apical dominancy, elongated internode, shorter primary \u001b[01;31m\u001b[Kroot\u001b[m\u001b[Ks and long lateral \u001b[01;31m\u001b[Kroot\u001b[m\u001b[Ks, shorter siliques, 3) very subtle changes\t17028967\n",
      "AT1G53700\twag1-1/wag2-1\tMorphologically similar to wild type. When seedlings were grown on vertical plates, \u001b[01;31m\u001b[Kroot\u001b[m\u001b[K exhibited pronounced wavy pattern.\t16460509\n"
     ]
    },
    {
     "name": "stdout",
     "output_type": "stream",
     "text": [
      "AT1G53700\twag1-2\tMorphologically similar to wild type. When seedlings were grown on vertical plates, \u001b[01;31m\u001b[Kroot\u001b[m\u001b[K exhibited slight wavy pattern. Overall phenotype identical to wag1-1 mutant allele.\t16460509\n",
      "AT1G53700\twag1-2/wag2-1\tMorphologically similar to double mutant wag1-1/wag2-1. When seedlings were grown on vertical plates, \u001b[01;31m\u001b[Kroot\u001b[m\u001b[K exhibited pronounced wavy pattern. Gravitropism was not affected in mutant plants. Double mutant plants were more resistant to inhibition of \u001b[01;31m\u001b[Kroot\u001b[m\u001b[K curling by auxin transport inhibitor NPA than wild type plants.\t16460509\n",
      "AT1G53940\tSALK_025414C\thas increased number of lateral \u001b[01;31m\u001b[Kroot\u001b[m\u001b[Ks, hypocotyls have impaired gravitropic curvature\t19146828\n",
      "AT1G53940\tSALK_109449C\thas increased number of lateral \u001b[01;31m\u001b[Kroot\u001b[m\u001b[Ks, hypocotyls have impaired gravitropic curvature\t19146828\n",
      "AT1G54180\tSALK_017909\tNo visible \u001b[01;31m\u001b[Kroot\u001b[m\u001b[K phenotype.\t16514016\n",
      "AT1G54960\tanp2 anp3\tDelayed growth,short \u001b[01;31m\u001b[Kroot\u001b[m\u001b[Ks, multiply branched \u001b[01;31m\u001b[Kroot\u001b[m\u001b[K hairs.Radially expanded \u001b[01;31m\u001b[Kroot\u001b[m\u001b[K and hypocotyl cells.Aberrant microtuble organization and resistance to oryzalin.\t20215588\n",
      "AT1G54990\tCS8018\tauxin resistant; irregular rosette leaves, slightly curled around leaf axis; \u001b[01;31m\u001b[Kroot\u001b[m\u001b[Ks elongate on auxin-containing medium; defective \u001b[01;31m\u001b[Kroot\u001b[m\u001b[K gravitropism; reduced number of lateral \u001b[01;31m\u001b[Kroot\u001b[m\u001b[Ks\t7704045\n",
      "AT1G54990\tCS8038\tauxin resistant; irregular rosette leaves, slightly curled around leaf axis; \u001b[01;31m\u001b[Kroot\u001b[m\u001b[Ks very auxin resistant; defective \u001b[01;31m\u001b[Kroot\u001b[m\u001b[K gravitropism; reduced number of lateral \u001b[01;31m\u001b[Kroot\u001b[m\u001b[Ks; plant appearance similar to axr1-12, but more pronounced; dwarf, bushy plants; reduced plant height; reduced fertility.\t7704045\n",
      "AT1G54990\tCS8040\tauxin resistant; narrow, irregular rosette leaves, slightly curled around leaf axis; \u001b[01;31m\u001b[Kroot\u001b[m\u001b[Ks elongate on auxin-containing medium; defective \u001b[01;31m\u001b[Kroot\u001b[m\u001b[K gravitropism; reduced number of lateral \u001b[01;31m\u001b[Kroot\u001b[m\u001b[Ks - greater reduction than for either single mutant; dwarf, bushy plants; reduced plant height; ethylene resistant; reduced fertility.\t7704045\n",
      "AT1G54990\taxr4-1 aux1-7\tauxin resistant; narrow, irregular rosette leaves, slightly curled around leaf axis; \u001b[01;31m\u001b[Kroot\u001b[m\u001b[Ks elongate on auxin-containing medium; defective \u001b[01;31m\u001b[Kroot\u001b[m\u001b[K gravitropism; reduced number of lateral \u001b[01;31m\u001b[Kroot\u001b[m\u001b[Ks - greater reduction than for either single mutant; dwarf, bushy plants; reduced plant height; ethylene resistant; reduced fertility.\t7704045\n",
      "AT1G55020\tSALK_059431\tdeveloped more emergent (stage VIII) and lateral \u001b[01;31m\u001b[Kroot\u001b[m\u001b[Ks at 10 d. has a moderate increase in the length of the primary \u001b[01;31m\u001b[Kroot\u001b[m\u001b[K.\t17369372\n",
      "AT1G55250\thub2-1\tReduction in the rosette biomass to 43 and 42% of fresh and dry weight of Col, respectively , and weak but significant (P < 0.001) inhibition of the \u001b[01;31m\u001b[Kroot\u001b[m\u001b[K growth when the kinetic slopes of hub2-1 and Col were compared.\n",
      "AT1G55320\taae18-1\tResistant to 2,4-dichlorophenoxybutyric acid (2,4 DB), a compound that is metabolized to active auxin. When grown in the presence of pro-auxins, \u001b[01;31m\u001b[Kroot\u001b[m\u001b[Ks are shorter than normal.\t19043666\n",
      "AT1G55320\taae18-2\tResistant to 2,4-dichlorophenoxybutyric acid (2,4 DB), a compound that is metabolized to active auxin. When grown in the presence of pro-auxins, \u001b[01;31m\u001b[Kroot\u001b[m\u001b[Ks are shorter than normal.\t19043666\n",
      "AT1G55870\tahg2-1\tHypersensitive to exogenous and endogenous ABA during germination due to accumulation of high levels of ABA.  The lengths of the main \u001b[01;31m\u001b[Kroot\u001b[m\u001b[K, hypocotyl and stem of ahg2-1 were significantly shorter than those of the wild type. The growth rate of the main \u001b[01;31m\u001b[Kroot\u001b[m\u001b[K was apparently reduced. The  leaf size (length and width) in ahg2-1 was reduced to just over half , but the number of rosette leaves was not affected markedly. The reduced size  of the ahg2-1 plant is due mainly to the reduced cell size, not  to a reduced number of cells. Fertility was not affected. Sensitive to salicylic acid\t16359390\n",
      "AT1G56560\tSALK_109830C\tatinva mutants have reduced \u001b[01;31m\u001b[Kroot\u001b[m\u001b[K growth, reduced invertase activity, and increased expression of antioxidant genes under basal conditions.\t21441406\n",
      "AT1G58250\tsab1-1\tMutation causes abnormal cell expansion of the \u001b[01;31m\u001b[Kroot\u001b[m\u001b[K cortical cell. A shift in the orientation of expansion from longitudinal to radial direction was observed in the \u001b[01;31m\u001b[Kroot\u001b[m\u001b[Ks by confocal microscopy. Mutation was partially rescued by adding ethylene biosynthesis inhibitors. Arial part of the mutant plants had visible leaf phenotype, with short wide leaves (including cotyledons) and shorter and wider petioles, when compared to wild type.\t7867930\n",
      "AT1G58250\tsab1-2\tMutation causes abnormal cell expansion of the \u001b[01;31m\u001b[Kroot\u001b[m\u001b[K cortical cell. A shift in the orientation of expansion from longitudinal to radial direction was observed in the \u001b[01;31m\u001b[Kroot\u001b[m\u001b[Ks by confocal microscopy. Mutation was partially rescued by adding ethylene biosynthesis inhibitors. Arial part of the mutant plants had visible leaf phenotype, with short wide leaves (including cotyledons) and shorter and wider petioles, when compared to wild type.\t7867930\n",
      "AT1G58250\tsab1-3\tMutation causes abnormal cell expansion of the \u001b[01;31m\u001b[Kroot\u001b[m\u001b[K cortical cell. A shift in the orientation of expansion from longitudinal to radial direction was observed in the \u001b[01;31m\u001b[Kroot\u001b[m\u001b[Ks by confocal microscopy. Mutation was partially rescued by adding ethylene biosynthesis inhibitors. Arial part of the mutant plants had visible leaf phenotype, with short wide leaves (including cotyledons) and shorter and wider petioles, when compared to wild type.\t7867930\n",
      "AT1G58360\taap1-1\tno obvious phenotype, endurance to toxic concentration of phenylalanine (2 mM) which did not influence development of \u001b[01;31m\u001b[Kroot\u001b[m\u001b[Ks and leaves of the mutant nor did a high level of phenylalanine (10 mM) arrested germination as observed in the wildtyp\t17419840\n",
      "AT1G58360\taap1-2\tno obvious phenotype, endurance to toxic concentration of phenylalanine (2 mM) which did not influence development of \u001b[01;31m\u001b[Kroot\u001b[m\u001b[Ks and leaves of the mutant nor did a high level of phenylalanine (10 mM) arrested germination as observed in the wildtyp\t17419840\n",
      "AT1G58440\tdry2\tPlants are hypersensitive to drought. Mutants have decreased stomatal conductance when grown in low relative humidity. \u001b[01;31m\u001b[KRoot\u001b[m\u001b[K architecture is affected: \u001b[01;31m\u001b[Kroot\u001b[m\u001b[Ks are 60% shorter than wild type and produce more lateral \u001b[01;31m\u001b[Kroot\u001b[m\u001b[Ks. Lateral \u001b[01;31m\u001b[Kroot\u001b[m\u001b[Ks are shortr and branched.Plants are shorter and leaves are yellow green. Chemically, the mutants have decreased sterols in the \u001b[01;31m\u001b[Kroot\u001b[m\u001b[Ks, decreased chlorophyll levels and increased levels of proline.\t19309460\n",
      "AT1G58440\tsqe1-3\tDark grown seedlings have shorter hypocotyls characteristic of de-etiolated seedlings. \u001b[01;31m\u001b[KRoot\u001b[m\u001b[Ks are  highly branched. Plants have short stature and are sterile. Seeds abort.\t17426032\n",
      "AT1G59870\tko-1\tshoot FW, \u001b[01;31m\u001b[Kroot\u001b[m\u001b[K length and chlorophyll contents of ko-1 plants are significantly lower than those of wild-type plants\t17355438\n",
      "AT1G59870\tko-2\tshoot FW, \u001b[01;31m\u001b[Kroot\u001b[m\u001b[K length and chlorophyll contents of ko-2 plants are significantly lower than those of wild-type plants\t17355438\n",
      "AT1G60220\tots1-1 ots2-1\tThe ots1-1 ots2-1 double mutant plants flower earlier than wild type plants under long days and short days. They do not differ notably from wild type plants with respect to their overall growth rate, inflorescence structure, or seedling primary \u001b[01;31m\u001b[Kroot\u001b[m\u001b[K elongation rate. But, they are hypersensitive to salt based on \u001b[01;31m\u001b[Kroot\u001b[m\u001b[K elongation assays. They also have a higher level of SUMOylated proteins than wild type seedlings exposed to salt stress.\t18849491\n",
      "AT1G60490\tvps34\tSimilar to wild type siblings. Normal \u001b[01;31m\u001b[Kroot\u001b[m\u001b[K hair  length. Segregates 1:1 for wt:het offspring as mutation affects the male gametophyte and is not transmitted.\t18408046\n",
      "AT1G62830\tswp1-1\t\u001b[01;31m\u001b[KRoot\u001b[m\u001b[Ks are longer than WT.\t18835563\n"
     ]
    },
    {
     "name": "stdout",
     "output_type": "stream",
     "text": [
      "AT1G62990\tknat7\tNo visible \u001b[01;31m\u001b[Kroot\u001b[m\u001b[K phenotype.\t16463096\n",
      "AT1G63440\thma5-1\tAccumulation of Cu in both \u001b[01;31m\u001b[Kroot\u001b[m\u001b[Ks and shoots of mutant when grown on medium containing 10 &#956;M Cu.\t16367966\n",
      "AT1G63440\thma5-1\tSeedlings germination is totally arrested (both aerial parts and \u001b[01;31m\u001b[Kroot\u001b[m\u001b[Ks) when grown on 50 microM Cu.\t16367966\n",
      "AT1G63440\thma5-1\tSeedlings grown on 30 &#956;M Cu display yellow cotyledons, with completely arrested \u001b[01;31m\u001b[Kroot\u001b[m\u001b[K growth.\t16367966\n",
      "AT1G63440\thma5-2\tAccumulation of Cu in both \u001b[01;31m\u001b[Kroot\u001b[m\u001b[Ks and shoots of mutant when grown on medium containing 10 &#956;M Cu.\t16367966\n",
      "AT1G63440\thma5-2\tSeedlings germination is totally arrested (both aerial parts and \u001b[01;31m\u001b[Kroot\u001b[m\u001b[Ks) when grown on 50 microM Cu.\t16367966\n",
      "AT1G63440\thma5-2\tSeedlings grown on 30 &#956;M Cu display yellow cotyledons, with completely arrested \u001b[01;31m\u001b[Kroot\u001b[m\u001b[K growth.\t16367966\n",
      "AT1G64440\tCS2257\tDecrease \u001b[01;31m\u001b[Kroot\u001b[m\u001b[K length (54% of that of wildtype) when grown on D-galactose-free medium.\t12419184\n",
      "AT1G64440\treb1-1\tBulging epidermal cells on the \u001b[01;31m\u001b[Kroot\u001b[m\u001b[Ks. The percentage of these cells appears to be dependent on environmental conditions (light intensity for example). This phenotype is not observed in the meristem but is first observed basal of the meristem.\t\n",
      "AT1G64440\treb1-1\tDecreased \u001b[01;31m\u001b[Kroot\u001b[m\u001b[K length (67% of that of wildtype) when grown on D-galactose-free medium.\t12419184\n",
      "AT1G64440\treb1-1\tLess galactose in \u001b[01;31m\u001b[Kroot\u001b[m\u001b[K cell wall compared to wildtype. No difference in shoot cell wall monosaccharide composition.\t16500990\n",
      "AT1G64440\treb1-1\t\u001b[01;31m\u001b[KRoot\u001b[m\u001b[K growth significantly diminished.\t\n",
      "AT1G64440\treb1-1\t\u001b[01;31m\u001b[KRoot\u001b[m\u001b[K length defect was restored when mutant was grown on 10mM galactose.\t16500990\n",
      "AT1G64440\treb1-1\tStructural changes of xyloglucan in \u001b[01;31m\u001b[Kroot\u001b[m\u001b[Ks, not in shoots.\t16500990\n",
      "AT1G64440\treb1-2\tAt the restrictive temperature, epidermal bulging is observed and \u001b[01;31m\u001b[Kroot\u001b[m\u001b[Ks fail to grow straight in the elongation zone although this mutation does not appear to abolish gravitropic sensitivity.\t\n",
      "AT1G64520\trpn12a-1 (C24)\tThe rpn12a-1 mutant produces both the WT RPN12a protein and a RPN12a(1-186):ARP(exon2):NPTII fusion protein. The mutant form of the protein can coelute with subunits of the 26S proteasome from the regulatory and core particles and there is no increase in total steady state levels of ubiquitinated proteins in homozygous mutant seedlings. This mutant has seedling growth defects, elevated anthocyanin levels, abnormal leaf \u001b[01;31m\u001b[Kroot\u001b[m\u001b[K development, delayed skotomorphogenesis, altered cytokinin responses, and reduced auxin sensitivity in their \u001b[01;31m\u001b[Kroot\u001b[m\u001b[Ks.\t11826296\n",
      "AT1G64780\tamt1;2-1\tThe amt1;2-1 mutant appears to grow normally on  media with different levels of ammonium or ammonium nitrate, but, seems slightly more resistant to methylammonium that wild type seedlings. High affinity ammonium uptake is reduced in the \u001b[01;31m\u001b[Kroot\u001b[m\u001b[Ks of amt1;2-2 mutants. There is no change in the level of AMT1;1, AMT1;3, or AMT2;1 transcripts for these mutants relative to wild type in low or high nitrogen conditions.\t17693533\n",
      "AT1G64780\tamt1;2-2\tThe amt1;2-2 mutant appears to grow normally on  media with different levels of ammonium or ammonium nitrate, but, seems slightly more resistant to methylammonium that wild type seedlings. High affinity ammonium uptake is reduced in the \u001b[01;31m\u001b[Kroot\u001b[m\u001b[Ks of amt1;2-2 mutants. There is no change in the level of AMT1;1, AMT1;3, or AMT2;1 transcripts for these mutants relative to wild type in low or high nitrogen conditions.\t17693533\n",
      "AT1G64990\tgtg1-1 gtg2-1\tThese double mutants are hyposensitive to ABA in seed germination, post-germination development, \u001b[01;31m\u001b[Kroot\u001b[m\u001b[K elongation, ABA-induced gene expression, and ABA-induced stomatal closure assays. However, they have a normal response to ABA in inhibition of stomatal opening assays. These mutants are smaller than wild-type plants and flower earlier. They have normal endogenous levels of ABA. No differences in the transcript levels of CHLH, FCA, or GCR2 are observed in these mutants compared to wild-type plants.\t19135895\n",
      "AT1G66340\tetr1-3\tIncreased number of lateral \u001b[01;31m\u001b[Kroot\u001b[m\u001b[Ks. Reduced acropetal auxin transport.\t18363780\n",
      "AT1G66600\tabo3\tWhen grown on MS medium with ABA, abo3 mutant was more sensitive to ABA than the wild type during seedling establishment. Mutant seedlings exhibited slower \u001b[01;31m\u001b[Kroot\u001b[m\u001b[K growth on MS medium as compared to the wild type. Mutant is impaired in ABA induced stomatal closure and more sensitive ti drought stress than the wild type.\t20487379\n",
      "AT1G67490\tknf-101\tIncreased number of \u001b[01;31m\u001b[Kroot\u001b[m\u001b[K hairs and increased stomatal density in siliques.\t18503769\n",
      "AT1G67500\trev3-1\tThe \u001b[01;31m\u001b[Kroot\u001b[m\u001b[K growth of mutant plants was inhibited after UV-B irradiation under both light and dark conditions. Mutant seedlings also were sensitive to gamma-rays and mitomycin C, which are known to inhibit DNA replication. Incorporation of bromodeoxyuridine after UV-B irradiation was less in rev3-1 than in the wild type.\t12953110\n",
      "AT1G67940\tatstar1\tatstar1 knock-out line exhibited increased sensitivity to Al. The \u001b[01;31m\u001b[Kroot\u001b[m\u001b[Ks of the knockout line were severely inhibited,in the presence of 2 mM Al whereas those of the wild type were hardly affected.\t20498340\n",
      "AT1G68460\tatipt1 atipt 3 atipt 5 atipt7\tExternal application of <i>trans</i>-zeatin partially rescues the growth of aerial parts of the mutant, and reduced its lateral \u001b[01;31m\u001b[Kroot\u001b[m\u001b[K elongation.\t17062755\n",
      "AT1G68460\tatipt1 atipt 3 atipt 5 atipt7\tReduced cambial activity and reduced secondary growth in both shoots and \u001b[01;31m\u001b[Kroot\u001b[m\u001b[Ks.\t19074290\n",
      "AT1G68460\tatipt1 atipt 3 atipt 5 atipt7\tRelative to wild type, both the number of lateral \u001b[01;31m\u001b[Kroot\u001b[m\u001b[Ks (longer than 1cm) and the total length of the lateral \u001b[01;31m\u001b[Kroot\u001b[m\u001b[Ks are increased.\t17062755\n",
      "AT1G68740\tpho1-4/pho1;h1-1\tStrong reduction in growth and in the capacity to transfer phosphate (Pi) from the \u001b[01;31m\u001b[Kroot\u001b[m\u001b[K to shoot compared with pho1.\t17461783\n",
      "AT1G69640\tsbh1-1 sbh2-1\tDwarf plants with reduced vigor, dies before expansion of the true leaves, necrotic lesions on cotyledons. When grew on agar plates, the double mutants displayed extended viability and developed into compact and epinastic rosette with small curled leaves and short petioles, however no bolting. Short \u001b[01;31m\u001b[Kroot\u001b[m\u001b[Ks on agar plate.\t18612100\n",
      "AT1G70070\tise2-1\tHomozygous mutant seeds can germinate in vitro on agar plates containing Murashige and Skoog (MS) salt plus 1% sucrose, although the  growth/developmental rate of the homozygous seedlings was slower compared with that of wild-type seedlings. Whereas wild-type seedlings displayed fully expanded green cotyledons, true leaves and a well-developed \u001b[01;31m\u001b[Kroot\u001b[m\u001b[K system by 14 d after germination, homozygous seedlings were much smaller and white or pale green in color. Underdeveloped cotyledons emerged from the homozygous seeds but expanded very slowly and sometimes showed bumpy irregular surfaces and occasional anthocyanin expression. Partial greening was observed in ise2 seedlings only after culture for several weeks. Most of the homozygous seedlings developed leaf-like structures that were translucent and contained trichomes. The aerial portions of the homozygous seedlings generally were stunted and thicker and frequently exhibited callus-like structures after extended periods of culture. Mutant seedlings often form stunted inflorescence shoot- and flower-like organs but normal-looking \u001b[01;31m\u001b[Kroot\u001b[m\u001b[Ks and \u001b[01;31m\u001b[Kroot\u001b[m\u001b[K hairs. Frequently, multiple short shoots originate from the apical dome of a single original seedling, forming a broccoli-like structure. Homozygous seedlings grown in culture with 1% sucrose are sterile and perish immediately after germinating in soil or on MS medium without sucrose.\t17601829\n",
      "AT1G70210\tcycd1;1\tDuring germination, the onset of cell proliferation in \u001b[01;31m\u001b[Kroot\u001b[m\u001b[K tips is significantly delayed and the overall numbers of dividing cells are reduced.  The delay in cell cycle activation is linked to delayed radicle emergence.\t16227434\n"
     ]
    },
    {
     "name": "stdout",
     "output_type": "stream",
     "text": [
      "AT1G70560\twei8-1\tThe hypocotyl of this mutant responds normally to ACC when grown in the dark, but, its \u001b[01;31m\u001b[Kroot\u001b[m\u001b[Ks are moderately less sensitive to ACC than wild type seedlings grown under the same conditions. This difference in sensitivity can be eliminated when the mutants are treated with ACC and low levels of IAA. wei8-1 and wild type hypocotyls and \u001b[01;31m\u001b[Kroot\u001b[m\u001b[Ks respond similarly to IAA in the absence of ACC. The \u001b[01;31m\u001b[Kroot\u001b[m\u001b[Ks of wei8-1 mutant seedlings do not display proper gravitropism. High-temperature mediated hypocotyl elongation is reduced by ~25% in these mutants compared to wild-type seedlings.\t18394997\n",
      "AT1G70560\twei8-1 tar1-1 tar2-1\tThese triple mutants do not make a primary \u001b[01;31m\u001b[Kroot\u001b[m\u001b[K, they have an extremely reduced hypocotyl, and they lack discernible vasculature in their cotyledons. These mutants have a higher propensity to develop a single cotyledon than wild-type embryos.\t18394997\n",
      "AT1G70560\twei8-1 tar2-1\tThe \u001b[01;31m\u001b[Kroot\u001b[m\u001b[Ks of this mutant show almost no sensitivity to the ethylene precursor ACC, but sensitivity is largely restored by the addition of low levels of IAA (but not tryptophan). ACC-triggered dark-grown apical hook formation is also compromised in this mutant, and it is not restored by the addition of IAA. \u001b[01;31m\u001b[KRoot\u001b[m\u001b[K gravitropism is more disrupted in this double mutant than in either single mutant. The mutant plants are shorter than wild type, have reduced venation in their leaves, exhibit reduced apical dominance, and produce abnormal flowers. DR5:GUS expression is also diminished in these double mutants, consistent with a ~50% reduction in IAA levels in these mutants. \u001b[01;31m\u001b[KRoot\u001b[m\u001b[K meristematic cells differentiate in this mutant, leading to a loss of the stem cell niche and the cessation of \u001b[01;31m\u001b[Kroot\u001b[m\u001b[K growth.\t18394997\n",
      "AT1G70560\twei8-1 tar2-2\tACC-triggered dark-grown apical hook formation is compromised in this mutant. \u001b[01;31m\u001b[KRoot\u001b[m\u001b[K meristematic cells differentiate in this mutant, leading to a loss of the stem cell niche and the cessation of \u001b[01;31m\u001b[Kroot\u001b[m\u001b[K growth. This mutant also lacks valves in the gynoecia.\t18394997\n",
      "AT1G70560\twei8-2\tThe hypocotyl of this mutant responds normally to ACC when grown in the dark, but, its \u001b[01;31m\u001b[Kroot\u001b[m\u001b[Ks are moderately less sensitive to ACC than wild type seedlings grown under the same conditions. This difference in sensitivity can be eliminated when the mutants are treated with ACC and low levels of IAA. wei8-2 and wild type hypocotyls and \u001b[01;31m\u001b[Kroot\u001b[m\u001b[Ks respond similarly to IAA in the absence of ACC.\t18394997\n",
      "AT1G71100\trsw10\tBulging of epidermal cells is observed in \u001b[01;31m\u001b[Kroot\u001b[m\u001b[Ks but not in the hypocotyl.\t17059404\n",
      "AT1G73360\tedt1\tedt1 mutant plants show enhanced drought tolerance due to overexpression of the HDG11 protein. edt1 mutants have a longer primary \u001b[01;31m\u001b[Kroot\u001b[m\u001b[K with more lateral \u001b[01;31m\u001b[Kroot\u001b[m\u001b[Ks, and have a higher \u001b[01;31m\u001b[Kroot\u001b[m\u001b[K biomass. They have larger epidermal cells and larger stomata, but a lower stomatal density. Nevertheless, they have higher levels of photosynthesis than WT seedlings. Mutant seedlings accumulate higher levels of ABA following PEG treatment, and show constitutively higher levels of Pro. Superoxide dismutase activity is also higher in edt1 mutants. Overexpression of HDG11 in tobacco also causes improved drought tolerance.\t18451323\n",
      "AT1G73370\tSALK_019129C\tThe amounts of glucose, fructose, sucrose, cellulose (\u001b[01;31m\u001b[Kroot\u001b[m\u001b[Ks) and starch in the mutant were not statistically significantly different  from those of the equivalent wild-type lines grown under the same conditions at the same time.\t17257168\n",
      "AT1G73370\tsus6 (SAIL)\tThe amounts of glucose, fructose, sucrose, cellulose (\u001b[01;31m\u001b[Kroot\u001b[m\u001b[Ks) and starch in the mutant were not statistically significantly different  from those of the equivalent wild-type lines grown under the same conditions at the same time.\t17257168\n",
      "AT1G73370\tsus6 (WISC)\tThe amounts of glucose, fructose, sucrose, cellulose (\u001b[01;31m\u001b[Kroot\u001b[m\u001b[Ks) and starch in the mutant were not statistically significantly different  from those of the equivalent wild-type lines grown under the same conditions at the same time.\t17257168\n",
      "AT1G74030\teno1-1\tTrichomes are less turgescent and are distorted with respect to the wild type.  Plants also have fewer \u001b[01;31m\u001b[Kroot\u001b[m\u001b[K hairs with respect to wild type.\t19223001\n",
      "AT1G74030\teno1-2\tTrichomes are less turgescent and are distorted with respect to the wild type.  Plants also have fewer \u001b[01;31m\u001b[Kroot\u001b[m\u001b[K hairs with respect to wild type.\t19223001\n",
      "AT1G74560\tnrp1-1 nrp2-1\tDouble mutant plants showed a short-\u001b[01;31m\u001b[Kroot\u001b[m\u001b[K phenotype: \u001b[01;31m\u001b[Kroot\u001b[m\u001b[Ks grew like the wild-type \u001b[01;31m\u001b[Kroot\u001b[m\u001b[Ks until 6 d after germination (DAG). However, after 7 DAG, the elongation of the double mutant \u001b[01;31m\u001b[Kroot\u001b[m\u001b[Ks was dramatically reduced compared with the wild-type \u001b[01;31m\u001b[Kroot\u001b[m\u001b[Ks. The aerial organs (leaves, rosettes, inflorescences, flowers, fruits, and embryos) developed normally in the double mutant plants.\n",
      "AT1G74660\t35S::MIF1\tConstitutive overexpression of MIF1 caused dramatic  developmental defects, including dwarfism, reduced apical dominance, extreme longevity, dark-green leaves,  altered flower morphology, poor fertility, reduced hypocotyl length, spoon-like cotyledons, reduced \u001b[01;31m\u001b[Kroot\u001b[m\u001b[K  growth, and ectopic \u001b[01;31m\u001b[Kroot\u001b[m\u001b[K hairs on hypocotyls and cotyledons. In addition, 35S::MIF1 seedlings underwent  constitutive photomorphogenesis in the dark, with \u001b[01;31m\u001b[Kroot\u001b[m\u001b[K growth similar to that in the light. Furthermore,  35S::MIF1 seedlings were demonstrated to be non-responsive to gibberellin (GA) for cell elongation,  hypersensitive to the GA synthesis inhibitor paclobutrazol (PAC) and abscisic acid (ABA), and hyposensitive to  auxin, brassinosteroid and cytokinin, but normally responsive to ethylene. The de-etiolation defect could not  be rescued by the hormones tested.\t16412086\n",
      "AT1G76030\tvha-B1\tInsensitive to high-glucose repression of cotyledon expansion, chlorophyll accumulation, true-leaf development and \u001b[01;31m\u001b[Kroot\u001b[m\u001b[K elongation. The response is specific to glucose but not to osmotic changes.\t17081979\n",
      "AT1G76490\thmg1\tInhibition of \u001b[01;31m\u001b[Kroot\u001b[m\u001b[K elongation, dwarf, sterile, rapid senescence in mature leaves\t14871314\n",
      "AT1G77110\tSALK_046393\tshorter visible lateral \u001b[01;31m\u001b[Kroot\u001b[m\u001b[Ks at 9 days after germination.  The proximal region of each lateral \u001b[01;31m\u001b[Kroot\u001b[m\u001b[K in the mutant is significantly swollen and often bent.  Growth and morphology of the primary \u001b[01;31m\u001b[Kroot\u001b[m\u001b[K of the puchi mutant is normal.\t17630277\n",
      "AT1G78240\ttsd2-1\tIncreased activity of axial meristems, reduced \u001b[01;31m\u001b[Kroot\u001b[m\u001b[K growth and enhanced de-etiolation.\t17461780\n",
      "AT1G79580\tSALK_143526C\tAdditional columella \u001b[01;31m\u001b[Kroot\u001b[m\u001b[K cap and lateral \u001b[01;31m\u001b[Kroot\u001b[m\u001b[K cap cell layers in the mature embryo and postembryonic \u001b[01;31m\u001b[Kroot\u001b[m\u001b[K development. \u001b[01;31m\u001b[KRoot\u001b[m\u001b[K meristem length and cell number is similar to WT. Extra layer of small, stem-cell-like cells, below the columella and lateral \u001b[01;31m\u001b[Kroot\u001b[m\u001b[K cap stem cells.\t19081078\n",
      "AT1G79580\tSALK_143526C\tDelayed maturation and shedding of lateral \u001b[01;31m\u001b[Kroot\u001b[m\u001b[K cap cells. The \u001b[01;31m\u001b[Kroot\u001b[m\u001b[K cap extends into the differentiation zone.\t20197506\n",
      "AT1G79580\tsmb-3; brn1-1; brn2-1\t\u001b[01;31m\u001b[KRoot\u001b[m\u001b[K cap cells appear as a mass lacking uniform morphology. Cells can be highly elongated and twisted.   Cells fail to stop elongation and to  adopt the rigid, rectangular morphology of COL cells.   When compared with smb-3, the triple mutant has thesame number of complete LRC layers, and the appearance of the cells in those layers closely resembles that in smb-3. However, partial remains of older LRC layers remain attached to the meristem in the triple mutant, giving it a messy appearance. Remains of old LRC cap layers can be  found still attached to the \u001b[01;31m\u001b[Kroot\u001b[m\u001b[K along its whole length.\n",
      "AT1G80100\tahp6-1\tincreased number of vascular cell files with  intervening procambial and phloem cell files; protoxylem differentiation  occurred sporadically along the \u001b[01;31m\u001b[Kroot\u001b[m\u001b[K\t16400151\n"
     ]
    },
    {
     "name": "stdout",
     "output_type": "stream",
     "text": [
      "AT1G80100\tahp6-2\tincreased number of vascular cell files with intervening procambial and phloem cell files; protoxylem differentiation occurred sporadically along the \u001b[01;31m\u001b[Kroot\u001b[m\u001b[K\t16400151\n",
      "AT1G80340\tga3ox1-3 ga3ox2-1\tSevere defect in \u001b[01;31m\u001b[Kroot\u001b[m\u001b[K length.\t16460513\n",
      "AT1G80340\tga3ox2-1\t\u001b[01;31m\u001b[KRoot\u001b[m\u001b[K length similar to that of wildtype.\t16460513\n",
      "AT2G01830\tCRE1:wol-1\tWildtype \u001b[01;31m\u001b[Kroot\u001b[m\u001b[Ks.\t15053761\n",
      "AT2G01830\tCRE1:wol-2\tWildtype \u001b[01;31m\u001b[Kroot\u001b[m\u001b[Ks.\t15053761\n",
      "AT2G01830\tCS6563\tReduced sensitivity to cytokinin in \u001b[01;31m\u001b[Kroot\u001b[m\u001b[K growth assay (exogenous application of cytokinins inhibits wildtype \u001b[01;31m\u001b[Kroot\u001b[m\u001b[K elongation).\t\n",
      "AT2G01830\tahk2-1cu ahk3-1cu ahk4-1cu\tAborted vascular system containing few protoxylem cells in the primary \u001b[01;31m\u001b[Kroot\u001b[m\u001b[K. Normal adventitious \u001b[01;31m\u001b[Kroot\u001b[m\u001b[K-vascular system.\t16357038\n",
      "AT2G01830\tahk2-1cu ahk3-1cu ahk4-1cu\tAdventitious \u001b[01;31m\u001b[Kroot\u001b[m\u001b[Ks are normal.\t16357038\n",
      "AT2G01830\tahk2-1cu ahk3-1cu ahk4-1cu\tDoes not produce lateral \u001b[01;31m\u001b[Kroot\u001b[m\u001b[Ks from the primary \u001b[01;31m\u001b[Kroot\u001b[m\u001b[K. However, 10 days after germination, lateral \u001b[01;31m\u001b[Kroot\u001b[m\u001b[Ks are formed at the upper part of the hypocotyl rather than at the \u001b[01;31m\u001b[Kroot\u001b[m\u001b[K-hypocotyl junction.\t16357038\n",
      "AT2G01830\tahk2-1cu ahk3-1cu ahk4-1cu\tNormal vascular system in adventitious \u001b[01;31m\u001b[Kroot\u001b[m\u001b[Ks, although the hypocotyl and primary \u001b[01;31m\u001b[Kroot\u001b[m\u001b[K develop aborted vascular tissues.\t16357038\n",
      "AT2G01830\tahk2-1cu ahk3-1cu ahk4-1cu\tPostembryonic growth of \u001b[01;31m\u001b[Kroot\u001b[m\u001b[Ks (primary and lateral) severely impaired.\t11479382\n",
      "AT2G01830\tahk2-1cu ahk3-1cu ahk4-1cu\tReduced seedling size with small cotyledons, slightly shortened hypocotyls (65% of wildtype) and significantly reduced \u001b[01;31m\u001b[Kroot\u001b[m\u001b[K length.\t11479382\n",
      "AT2G01830\tahk2-5 ahk3-7 cre1-2\tIncreased seed size, largely due to increased size of the embryo. Embryonic \u001b[01;31m\u001b[Kroot\u001b[m\u001b[K epidermal cells increased 15% in number and 30% in size compared to wild-type.\t16361392\n",
      "AT2G01830\tahk2-5 cre1-2\tDisplays secondary lateral \u001b[01;31m\u001b[Kroot\u001b[m\u001b[K branching (not seen in wild-type).\t16361392\n",
      "AT2G01830\tahk3-7 cre1-2\tDisplays secondary lateral \u001b[01;31m\u001b[Kroot\u001b[m\u001b[K branching (not seen in wild-type).\t16361392\n",
      "AT2G01830\tahk4-1\tAddition of IAA to the medium completely inhibits \u001b[01;31m\u001b[Kroot\u001b[m\u001b[K elongation, indicating normal auxin responsiveness.\t11479382\n",
      "AT2G01830\tahk4-1\t\u001b[01;31m\u001b[KRoot\u001b[m\u001b[K elongation not severely inhibited by cytokinins.\t11479382\n",
      "AT2G01830\tcre1-10 ahk2-1ms\tReduced sensitivity to cytokinin in \u001b[01;31m\u001b[Kroot\u001b[m\u001b[K growth assay (exogenous application of cytokinins inhibits wildtype \u001b[01;31m\u001b[Kroot\u001b[m\u001b[K elongation).\t\n",
      "AT2G01830\tcre1-10 ahk2-1ms ahk3-1ms\tShoot and \u001b[01;31m\u001b[Kroot\u001b[m\u001b[K growth is very slow and leaf number is decreased compared to wildtype.\t\n",
      "AT2G01830\tcre1-10 ahk3-1ms\tReduced sensitivity to cytokinin in \u001b[01;31m\u001b[Kroot\u001b[m\u001b[K growth assay (exogenous application of cytokinins inhibits wildtype \u001b[01;31m\u001b[Kroot\u001b[m\u001b[K elongation).\t\n",
      "AT2G01830\tcre1-11\tNo defect in \u001b[01;31m\u001b[Kroot\u001b[m\u001b[K vasculature morphology.\t16753566\n",
      "AT2G01830\tcre1-11\tReduced sensitivity to cytokinin in \u001b[01;31m\u001b[Kroot\u001b[m\u001b[K growth assay (exogenous application of cytokinins inhibits wildtype \u001b[01;31m\u001b[Kroot\u001b[m\u001b[K elongation).\t\n",
      "AT2G01830\tcre1-12\tReduced cytokinin-induced inhibition of adventitious \u001b[01;31m\u001b[Kroot\u001b[m\u001b[K formation compared to wildtype.\t\n",
      "AT2G01830\tcre1-12\tReduced sensitivity to cytokinin in \u001b[01;31m\u001b[Kroot\u001b[m\u001b[K growth assay (exogenous application of cytokinins inhibits wildtype \u001b[01;31m\u001b[Kroot\u001b[m\u001b[K elongation).\t\n",
      "AT2G01830\tcre1-12 ahk2-2tk\tReduced sensitivity to cytokinin in \u001b[01;31m\u001b[Kroot\u001b[m\u001b[K growth assay (exogenous application of cytokinins inhibits wildtype \u001b[01;31m\u001b[Kroot\u001b[m\u001b[K elongation).\t\n",
      "AT2G01830\tcre1-12 ahk2-2tk ahk3-3\tShoot and \u001b[01;31m\u001b[Kroot\u001b[m\u001b[K growth is very slow and leaf number is decreased compared to wildtype.\t\n",
      "AT2G01830\tcre1-12 ahk2-2tk ahk3-3\tShorter \u001b[01;31m\u001b[Kroot\u001b[m\u001b[K than wildtype plant.\t\n",
      "AT2G01830\tcre1-12 ahk2-2tk ahk3-3\tThe size and activity of the \u001b[01;31m\u001b[Kroot\u001b[m\u001b[K apical meristem is decreased with respect to wildtype.\t\n",
      "AT2G01830\tcre1-12 ahk3-3\tNo cytokinin-induced inhibition of adventitious \u001b[01;31m\u001b[Kroot\u001b[m\u001b[K formation.\t\n",
      "AT2G01830\tcre1-12 ahk3-3\tReduced sensitivity to cytokinin in \u001b[01;31m\u001b[Kroot\u001b[m\u001b[K growth assay (exogenous application of cytokinins inhibits wildtype \u001b[01;31m\u001b[Kroot\u001b[m\u001b[K elongation).\t\n",
      "AT2G01830\tcre1-2\tResistant to cytokinin in \u001b[01;31m\u001b[Kroot\u001b[m\u001b[K elongation assay and in callus growth and shoot formation assays.\t11234017\n",
      "AT2G01830\tcre1-3\tIn the presence of kinetin, lateral \u001b[01;31m\u001b[Kroot\u001b[m\u001b[K formation is not greatly inhibited, even at high concentrations.\t12410813\n",
      "AT2G01830\tcre1-3\t\u001b[01;31m\u001b[KRoot\u001b[m\u001b[K elongation is indistinguisable from that of wildtype.\t15053761\n",
      "AT2G01830\tcre1-4\tIn the presence of kinetin, lateral \u001b[01;31m\u001b[Kroot\u001b[m\u001b[K formation is not greatly inhibited, even at high concentrations.\t12410813\n",
      "AT2G01830\tstip-d ahk2-2 ahk3-3 cre1-12\tSmall SAM and limited \u001b[01;31m\u001b[Kroot\u001b[m\u001b[K growth.\t20110319\n",
      "AT2G01830\twol\tAbsence of periclinal cell divisions in the primary \u001b[01;31m\u001b[Kroot\u001b[m\u001b[K meristem.\t11114883\n",
      "AT2G01830\twol\tDefect in cell division in the \u001b[01;31m\u001b[Kroot\u001b[m\u001b[K and lower hypocotyl region soon after the embryo torpedo stage.\t11114883\n",
      "AT2G01830\twol\tReduced cell number and exclusive xylem differentiation within the \u001b[01;31m\u001b[Kroot\u001b[m\u001b[K vasculature.\t11114883\n",
      "AT2G01830\twol\t\u001b[01;31m\u001b[KRoot\u001b[m\u001b[K elongation markedly reduced in the presence of kinetin.\t15053761\n",
      "AT2G01830\twol-1:cre1-4\tWildtype \u001b[01;31m\u001b[Kroot\u001b[m\u001b[Ks.\t15053761\n",
      "AT2G01830\twol-1:wol-2\t\u001b[01;31m\u001b[KRoot\u001b[m\u001b[K cross-sections are identical to those of wildtype: observed re-appearance of a bipolar xylem strand and phloem tissue on each side.\t15053761\n",
      "AT2G01830\twol-1:wol-2\t\u001b[01;31m\u001b[KRoot\u001b[m\u001b[K elongation is indistinguisable from that of wildtype.\t15053761\n",
      "AT2G01830\twol-2\tRapidly accumulate anthocyanins due to the loss of \u001b[01;31m\u001b[Kroot\u001b[m\u001b[K functionality.\t15053761\n",
      "AT2G01830\twol-2\tShort \u001b[01;31m\u001b[Kroot\u001b[m\u001b[K phenotype.\t15053761\n",
      "AT2G01830\twol-2\tViability depends on the ability to develop adventitious \u001b[01;31m\u001b[Kroot\u001b[m\u001b[K before plant dies.\t15053761\n",
      "AT2G01830\twol-2:cre1-4\tWildtype \u001b[01;31m\u001b[Kroot\u001b[m\u001b[Ks.\t15053761\n",
      "AT2G01830\twol-3\tAborted vascular system containing few protoxylem cells in the primary \u001b[01;31m\u001b[Kroot\u001b[m\u001b[K. Normal adventitious \u001b[01;31m\u001b[Kroot\u001b[m\u001b[K-vascular system.\t16357038\n",
      "AT2G01830\twol-3\tAddition of IAA results in the formation of laterals from the primary \u001b[01;31m\u001b[Kroot\u001b[m\u001b[K as is the case for wildtype. Both the laterals and primary \u001b[01;31m\u001b[Kroot\u001b[m\u001b[K show retarded growth and reduced amounts of vascular tissue. Similar phenotypes were obtained with NAA instead of IAA.\t16357038\n",
      "AT2G01830\twol-3\tAdventitious \u001b[01;31m\u001b[Kroot\u001b[m\u001b[Ks are normal.\t16357038\n",
      "AT2G01830\twol-3\tDoes not produce lateral \u001b[01;31m\u001b[Kroot\u001b[m\u001b[Ks from the primary \u001b[01;31m\u001b[Kroot\u001b[m\u001b[K. However, 10 days after germination, lateral \u001b[01;31m\u001b[Kroot\u001b[m\u001b[Ks are formed at the upper part of the hypocotyl rather than at the \u001b[01;31m\u001b[Kroot\u001b[m\u001b[K-hypocotyl junction.\t16357038\n",
      "AT2G01830\twol-3\tNormal vascular system in adventitious \u001b[01;31m\u001b[Kroot\u001b[m\u001b[Ks, although the hypocotyl and primary \u001b[01;31m\u001b[Kroot\u001b[m\u001b[K develop aborted vascular tissues.\t16357038\n",
      "AT2G01830\twol-3\tReduction in primary \u001b[01;31m\u001b[Kroot\u001b[m\u001b[K length (about 5-fold compared to wildtype).\t16357038\n",
      "AT2G01940\tsgr5-1\tInflorescence stems of mutant plants showed abnormal gravitropic response, while gravitropism in hypocotyls and \u001b[01;31m\u001b[Kroot\u001b[m\u001b[Ks was not altered.\t9210330\n",
      "AT2G01940\tsgr5-3\tInflorescence stems of mutant plants showed abnormal gravitropic response, while gravitropism in hypocotyls and \u001b[01;31m\u001b[Kroot\u001b[m\u001b[Ks was not altered.\t16813575\n",
      "AT2G02220\tpskr1-1\tWhen grown on B5 agar, the mutant seedlings were indistinguishable from wildtype, albeit with a slight reduction in \u001b[01;31m\u001b[Kroot\u001b[m\u001b[K growth. After three weeks of culture, the mutant was morphologically identical from above-ground widltype plants.\t16829587\n",
      "AT2G02950\tpks1-1\tNo obvious \u001b[01;31m\u001b[Kroot\u001b[m\u001b[K growth phenotypes.\t14615593\n",
      "AT2G03680\tCS6546\tDefective in directional cell elongation processes; abnormal cortical microtubule function; exhibits right-handed helical growth in \u001b[01;31m\u001b[Kroot\u001b[m\u001b[Ks and etiolated hypocotyls; epidermal cell files of \u001b[01;31m\u001b[Kroot\u001b[m\u001b[Ks are twisted to form right-handed helices; on vertically oriented hard agar plates, \u001b[01;31m\u001b[Kroot\u001b[m\u001b[Ks grow to the right when viewed from above the agar plates; this skewed \u001b[01;31m\u001b[Kroot\u001b[m\u001b[K growth is driven by the friction between agar surface and helical epidermal cell files; phenotype is enhanced under the conditions that accelerate cell elongation, under such conditions, epidermal cells undergo isotropic cell expansion, resulting in spherically shaped cells protruding from the organ surface.\t15084720\n"
     ]
    },
    {
     "name": "stdout",
     "output_type": "stream",
     "text": [
      "AT2G03680\tCS6547\tDefective in directional cell elongation processes; abnormal cortical microtubule function; exhibits right-handed helical growth in \u001b[01;31m\u001b[Kroot\u001b[m\u001b[Ks and etiolated hypocotyls; epidermal cell files of \u001b[01;31m\u001b[Kroot\u001b[m\u001b[Ks are twisted to form right-handed helices; on vertically oriented hard agar plates, \u001b[01;31m\u001b[Kroot\u001b[m\u001b[Ks grow to the right when viewed from above the agar plates; this skewed \u001b[01;31m\u001b[Kroot\u001b[m\u001b[K growth is driven by the friction between agar surface and helical epidermal cell files; phenotype is enhanced under the conditions that accelerate cell elongation, under such conditions, epidermal cells undergo isotropic cell expansion, resulting in spherically shaped cells protruding from the organ surface.\t15084720\n",
      "AT2G03680\tspr1-6\tMutant plants exhibit altered patterns of \u001b[01;31m\u001b[Kroot\u001b[m\u001b[K and organ growth as a result of defective anisotropic cell expansion. \u001b[01;31m\u001b[KRoot\u001b[m\u001b[Ks, etiolated hypocotyls, and leaf petioles exhibit right-handed axial twisting, and \u001b[01;31m\u001b[Kroot\u001b[m\u001b[K growth on inclined agar media is strongly right skewed. Cortical microtubules reoriented. The touch-dependent helical growth of \u001b[01;31m\u001b[Kroot\u001b[m\u001b[Ks is suppressed by the antimicrotubule drugs propyzamide and oryzalin, and right skewing is exacerbated by cold treatment.\t15155883\n",
      "AT2G11810\tmgd2 mgd3\tUnder Pi starved conditions, reduced DGDG content is observed, the proportion of phosphatidylethanolamine and phosphatidylcholine increased approximately two-fold in shoot and large differences in fatty acid compositions of galactolipids are seen in shoots and particularly \u001b[01;31m\u001b[Kroot\u001b[m\u001b[Ks. Under these conditions, the fresh weight of shoots and \u001b[01;31m\u001b[Kroot\u001b[m\u001b[Ks was reduced.\t18808455\n",
      "AT2G11810\tmgd3-1\tUnder Pi starved conditions, reduced DGDG content is observed, the proportion of phosphatidylethanolamine and phosphatidylcholine increased approximately two-fold in shoot and large differences in fatty acid compositions of galactolipids are seen in shoots and particularly \u001b[01;31m\u001b[Kroot\u001b[m\u001b[Ks. Under these conditions, the fresh weight of shoots and \u001b[01;31m\u001b[Kroot\u001b[m\u001b[Ks was reduced.\t18808455\n",
      "AT2G15290\tcia5-3\t\u001b[01;31m\u001b[KRoot\u001b[m\u001b[Ks were smaller than in wild-type plants.  However, no significant phenotype in \u001b[01;31m\u001b[Kroot\u001b[m\u001b[Ks of mutants maintained on sucrose-supplemented medium was observed.\t17337631\n",
      "AT2G15290\tpic1-2\t\u001b[01;31m\u001b[KRoot\u001b[m\u001b[Ks were smaller than in wild-type plants.  However, no significant phenotype in \u001b[01;31m\u001b[Kroot\u001b[m\u001b[Ks of mutants maintained on sucrose-supplemented medium was observed.\t17337631\n",
      "AT2G17420\tntra ntrb rml1\tntra ntrb rml1 plants do not show any shoot and \u001b[01;31m\u001b[Kroot\u001b[m\u001b[K  meristematic activity. Meristematic  activities of most ntra ntrb rml1 plants are rescued when  transferred to Murashige and Skoog (MS) medium containing  GSH. The germination rate of the ntra ntrb  rml1 seeds is also perturbed.\n",
      "AT2G18470\tSALK_034666\tMutant plants showed decreased  sensitivity to ABA during \u001b[01;31m\u001b[Kroot\u001b[m\u001b[K tip growth. Seed germination and seedling growth were less  sensitive to ABA in the perk4 mutants than in wild types.\n",
      "AT2G19560\teer5-1\teer5-1 mutant hypocotyls show hypersensitivity to ethylene, but the hypocotyls grow similarly to wild type hypocotyls when etyhlene signaling is blocked using silver nitrate. eer5-1 mutant \u001b[01;31m\u001b[Kroot\u001b[m\u001b[Ks are shorter than wild-type \u001b[01;31m\u001b[Kroot\u001b[m\u001b[Ks when neither are subjected to ethylene treatment, but eer5-1 \u001b[01;31m\u001b[Kroot\u001b[m\u001b[Ks do not show altered sensitivity to ethylene. Transcript levels for certain ethylene-responsive genes are aberrant in the eer5-1 mutant. For instance, AtEBP expression is lower in eer5-1 than in WT dark-grown seedlings. But, EBF1 and EBF2 transcript levels are not altered in the mutant. Dark-grown eer5-1 seedlings do not produce significantly more ethylene than WT seedlings. Although EER5 can interact with members of the signalosome, EIN3 protein accumulation is not changed in eer5-1 mutants. Adult eer5-1 mutant plants resemble WT Col-0 plants.\t18429939\n",
      "AT2G20000\thbt_2311\tThe \u001b[01;31m\u001b[Kroot\u001b[m\u001b[Ks in mutants was more than ten-fold shorter in length than the \u001b[01;31m\u001b[Kroot\u001b[m\u001b[Ks in the wild-type (Col-0).\t9425146\n",
      "AT2G20000\thbt_5721\tThe \u001b[01;31m\u001b[Kroot\u001b[m\u001b[Ks in mutants was more than ten-fold shorter in length than the \u001b[01;31m\u001b[Kroot\u001b[m\u001b[Ks in the wild-type (Col-0).\t9425146\n",
      "AT2G20000\thbt_5859\tThe \u001b[01;31m\u001b[Kroot\u001b[m\u001b[Ks in mutants was more than ten-fold shorter in length than the \u001b[01;31m\u001b[Kroot\u001b[m\u001b[Ks in the wild-type (Col-0).\t9425146\n",
      "AT2G20000\thbt_e65\tMutant plants have residual \u001b[01;31m\u001b[Kroot\u001b[m\u001b[K meristem activity (weak allele). The \u001b[01;31m\u001b[Kroot\u001b[m\u001b[K length in mutants was less than half of the \u001b[01;31m\u001b[Kroot\u001b[m\u001b[K length in the wild-type (Col-0).\t9425146\n",
      "AT2G20190\tclasp-1\tSignificant dwarfing at all stages of development compared with wild type.  Cell expansion in leaves, \u001b[01;31m\u001b[Kroot\u001b[m\u001b[Ks and hypocotyls is affected.\t17873093\n",
      "AT2G20890\tthf1-1\tthf1-1 \u001b[01;31m\u001b[KRoot\u001b[m\u001b[K Growth Is Hypersensitive  to Increased D-Glucose\t16582010\n",
      "AT2G21170\tpdtpi\tThis mutant is severely stunted in growth. The seeds germinate at a rate comparable to wild type seeds but they begin to show aberrant phenotypes 3 to 4 days post-germination. Their cotyledons are paler and their primary \u001b[01;31m\u001b[Kroot\u001b[m\u001b[Ks are shorter than in wild type seedlings. The mutants have fewer chloroplasts per cell and the chloroplast differentiation seems to be delayed. They have fewer starch granules in their stroma. These mutants grow like wild type seedlings under dark-grown conditions. Light-grown pdtpi mutant tissue has roughly 40% less triose phosphate isomerase activity than comparable wild-type tissue. pdtpi seedlings also have elevated levels of glycerol, glycerol-3-phosphate, and dihydroxyacetone phosphate (DHAP) and reduced levels of glyceraldehyde-3-phosphate. The level of methylglyoxal (MG) is doubled in mutant seedlings. Total lipid content is slightly reduced, but there are notable differences between various lipid components (e.g. MGDG vs. DGDG). Overall the changes in composition indicate an enhancement of the eukaryotic galactolipid biosynthesis pathway and a decrease in the prokaryotic pathway variant. DHAP and MG accumulation in the mutant may be responsible for many of the aberrant phenotypes.\t20097871\n",
      "AT2G21790\tcls8-1\tHomozygous cls8-1 plants had crinkled leaves that showed slight yellowing at 4C  (also apparent under normal growth conditions)  Germination and cotyledon development are indistinguishable from wild type (Columbia), however the first developing true leaves appear bleached. Subsequent leaves emerge curled and ?ruffled?, with bleached edges. The rosette leaves expand some become crinkled and show patches of white or pits on the surface. There is often a degree of asymmetry along the axis of the main vein, with one half of the leaf failing to fully expand. The bleaching is localized to the petiole and the base of the leaf, and extends along the edges of the leaf. As they continue to expand, the leaves become greener, although the crinkling remains. Following bolting, the  cauline leaves show similar characteristics to rosette leaves.  Flowers produced by cls8-1 plants can be asymmetrical and the petals crinkled in appearance. Siliques grow  to a normal size, but are slightly pale in colour with patches of white, and exhibit ?pits? like those present on the leaves.  \u001b[01;31m\u001b[KRoot\u001b[m\u001b[K growth is reduced in cls8-1 compared with wild type by approximately 20%.\t17346262\n",
      "AT2G22125\tpom2-1\tCallus-induced \u001b[01;31m\u001b[Kroot\u001b[m\u001b[Ks from the mutant displayed the mutant phenotype when they grew under restrictive conditions. All the mutants responded to a gravitropic stimulus in a manner similar to wild type although the change of the direction of growth was slower than wild type.\t7743935\n",
      "AT2G24270\tnp-gapdh\tDelay in growth when grown under normal conditions. No significant morphological differences in leaves, \u001b[01;31m\u001b[Kroot\u001b[m\u001b[Ks, stems and flowers between mutant and wildtype.\t16927206\n",
      "AT2G24490\tror1-1 ros1-1\tIncreased sensitivity to DNA damage,decreased gene silencing as measured by expression of reporter genes, small plants, decreased trichome number, early flowering in long days,decreased cell division, short \u001b[01;31m\u001b[Kroot\u001b[m\u001b[Ks.\t16326925\n"
     ]
    },
    {
     "name": "stdout",
     "output_type": "stream",
     "text": [
      "AT2G24790\tcol3\tMutant plants have longer hypocotyls in red  light and in short days. Unlike constans, the col3 mutant flowers early and shows a reduced number of lateral branches in  short days. The mutant also exhibits reduced formation of lateral \u001b[01;31m\u001b[Kroot\u001b[m\u001b[Ks. The col3 mutation partially suppresses the cop1 and  deetiolated1 (det1) mutations in the dark\t16339850\n",
      "AT2G25180\tCS6978\tMutant \u001b[01;31m\u001b[Kroot\u001b[m\u001b[K meristems are larger than those of wild type already at 2 dpg, but they stopped growing after reaching a fixed number of cells at 5 dpg.\t17363254\n",
      "AT2G25180\tahk3-3 arr12-2\tThe \u001b[01;31m\u001b[Kroot\u001b[m\u001b[K-meristem size of the double mutant was indistinguishable from that of the ahk3 mutant.\t17363254\n",
      "AT2G25180\tarr1-3 arr10-5 arr12-1\tsevere primary \u001b[01;31m\u001b[Kroot\u001b[m\u001b[K abnormalities; premature termination of primary \u001b[01;31m\u001b[Kroot\u001b[m\u001b[K growth; substantially reduced sensitivity to cytokinin in the hypocotyl growth response assay; smaller rosette diameter; altered chlorophyll and anthocyanin production.\t18723577\n",
      "AT2G25180\tarr1-4 arr12-2\tThe development and size of the double mutant \u001b[01;31m\u001b[Kroot\u001b[m\u001b[K meristems were comparable to those of ahk3-3 meristems.\n",
      "AT2G25180\tarr12-2\tMutant \u001b[01;31m\u001b[Kroot\u001b[m\u001b[K meristems are larger than those of wild type already at 2 dpg, but they stopped growing after reaching a fixed number of cells at 5 dpg.\t17363254\n",
      "AT2G25490\tebf1-1 ebf2-1\tThe mutant shows dwarfed growth, supernumerary epinastically curled leaves, early senescence, and abnormal flowers with the gynoecium protruding from the unopened floral buds. However, the phenotypes seen in double mutant plants are more severe than those seen in ctr1. This becomes apparent at about two weeks after germination, except for the reduced \u001b[01;31m\u001b[Kroot\u001b[m\u001b[K growth, which is already obvious at three days after germination. Moreover, unlike the ctr1 mutation that has a reduced transmission of the ctr1 allele relative to wild-type and infertile early flowers, the double mutants have a greatly reduced fertility but can readily be pollinated with wild-type pollen.\t14675533\n",
      "AT2G25490\tebf1-1 ebf2-1\tWhen germinated in the dark, the mutant display a ctr1-like phenotype (short hypocotyls, short \u001b[01;31m\u001b[Kroot\u001b[m\u001b[Ks, and exaggerated apical hooks).\t14675533\n",
      "AT2G25490\tebf1-1 ebf2-1\tWhen grown in the light, the double mutants display slightly longer hypocotyls, curled unexpanded cotyledons, and short and thicker \u001b[01;31m\u001b[Kroot\u001b[m\u001b[Ks with ectopic \u001b[01;31m\u001b[Kroot\u001b[m\u001b[K hairs, similar to the ctr1 mutant. Moreover, the average area of the leaf epidermal cells was reduced 5-fold compared to wild type.\t14675533\n",
      "AT2G25490\tebf1-2 ebf2-1\tctr1-like phenotype (short hypocotyls, short \u001b[01;31m\u001b[Kroot\u001b[m\u001b[Ks, and exaggerated apical hooks).\t14675533\n",
      "AT2G25490\tebf1-3 ebf2-3 eil1-3\tModest rescue of the ebf1-3 ebf2-3 phenotype. Seedlings continue grow and develop at a slow pace after germination. Cotyledons partially expanded and turned pale green. Stunted \u001b[01;31m\u001b[Kroot\u001b[m\u001b[K densely covered with \u001b[01;31m\u001b[Kroot\u001b[m\u001b[K hair. Plants never flowered or set seeds.\t17307926\n",
      "AT2G25680\tCS859718\tmolybdate concentrations in shoot and \u001b[01;31m\u001b[Kroot\u001b[m\u001b[K were reduced to 10% and 20%, respectively, of that in the wild type. Shoot and \u001b[01;31m\u001b[Kroot\u001b[m\u001b[K growth under Mo-limiting condition was reduced to 35% and 70%, respectively.\t18003916\n",
      "AT2G25680\tSALK_069683\tmolybdate concentrations in shoot and \u001b[01;31m\u001b[Kroot\u001b[m\u001b[K were reduced to 20% and 25%, respectively, of that in the wild type. Shoot and \u001b[01;31m\u001b[Kroot\u001b[m\u001b[K growth under Mo-limiting condition was reduced to 80% and 75%, respectively.\t18003916\n",
      "AT2G26300\tCS3910\tReduced cell division  throughout development; increase in cell expansion compensates the reduction in cell division; light-grown plants exhibit a rotundifolia-like leaf shape (round leaves); dark-grown seedlings have short hypocotyls (because of a reduced number of elongated cells) and open hooks typical of light-irradiated seedlings; \u001b[01;31m\u001b[Kroot\u001b[m\u001b[Ks and cotyledons have the appearance of dark-grown wild type; reduced brassinolide responsiveness; stomatal opening is insensitive to inhibition by ABA, and the rate of water loss is greater than from wild type.\t11408654\n",
      "AT2G26300\tCS3911\tReduced cell division  throughout development; increase in cell expansion compensates the reduction in cell division; light-grown plants exhibit a rotundifolia-like leaf shape (round leaves); dark-grown seedlings have short hypocotyls (because of a reduced number of elongated cells) and open hooks typical of light-irradiated seedlings; \u001b[01;31m\u001b[Kroot\u001b[m\u001b[Ks and cotyledons have the appearance of dark-grown wild type; reduced brassinolide responsiveness; stomatal opening is insensitive to inhibition by ABA, and the rate of water loss is greater than from wild type.\t11408654\n",
      "AT2G27050\tebf1-3 ebf2-3 eil1-3\tModest rescue of the ebf1-3 ebf2-3 phenotype. Seedlings continue grow and develop at a slow pace after germination. Cotyledons partially expanded and turned pale green. Stunted \u001b[01;31m\u001b[Kroot\u001b[m\u001b[K densely covered with \u001b[01;31m\u001b[Kroot\u001b[m\u001b[K hair. Plants never flowered or set seeds.\t17307926\n",
      "AT2G27228\tSALK_079402 homozygous\tReduced \u001b[01;31m\u001b[Kroot\u001b[m\u001b[K vascular population.  \u001b[01;31m\u001b[KRoot\u001b[m\u001b[Ks lose bilateral symmetry and are monarch instead of diarch.\t17626058\n",
      "AT2G27230\tSALK_079402 homozygous\tReduced \u001b[01;31m\u001b[Kroot\u001b[m\u001b[K vascular population.  \u001b[01;31m\u001b[KRoot\u001b[m\u001b[Ks lose bilateral symmetry and are monarch instead of diarch.\t17626058\n",
      "AT2G27230\tlhw-1\tReduced \u001b[01;31m\u001b[Kroot\u001b[m\u001b[K vascular population.  \u001b[01;31m\u001b[KRoot\u001b[m\u001b[Ks lose bilateral symmetry and are monarch instead of diarch.\t17626058\n",
      "AT2G27230\tlhw-2\tReduced \u001b[01;31m\u001b[Kroot\u001b[m\u001b[K vascular population.  \u001b[01;31m\u001b[KRoot\u001b[m\u001b[Ks lose bilateral symmetry and are monarch instead of diarch.\t17626058\n",
      "AT2G27230\tlhw-3\tReduced \u001b[01;31m\u001b[Kroot\u001b[m\u001b[K vascular population.  \u001b[01;31m\u001b[KRoot\u001b[m\u001b[Ks lose bilateral symmetry and are monarch instead of diarch.\t17626058\n",
      "AT2G27230\tlhw-4\tReduced \u001b[01;31m\u001b[Kroot\u001b[m\u001b[K vascular population.  \u001b[01;31m\u001b[KRoot\u001b[m\u001b[Ks lose bilateral symmetry and are monarch instead of diarch.\t17626058\n",
      "AT2G27300\tCS106660\tReduced growth of lateral \u001b[01;31m\u001b[Kroot\u001b[m\u001b[Ks.Delayed flowering in long and short days.\t17410378\n",
      "AT2G28160\tfit1-1\tSeedlings are chlorotic,  consistent with iron starvation, are smaller than their wildtype  counterparts, and die 2 to 3 weeks post-germination.  Watering with supplemental iron overcomes lethality.  \u001b[01;31m\u001b[KRoot\u001b[m\u001b[Ks contain less iron than wt.\t15539473\n",
      "AT2G29130\tSALK_025690C\treduced \u001b[01;31m\u001b[Kroot\u001b[m\u001b[K elongation under PEG-induced dehydration\t16804053\n",
      "AT2G30250\tSAIL_529B11\tWT phenotype.  \u001b[01;31m\u001b[KRoot\u001b[m\u001b[K bending and \u001b[01;31m\u001b[Kroot\u001b[m\u001b[K elongation assays under salt, osmotic and ABA treatments showed no significant difference compared to WT.\n",
      "AT2G30250\twrky25-1; wrky33-1\tDouble mutant \u001b[01;31m\u001b[Kroot\u001b[m\u001b[Ks were significantly shorter than WT toots when under salt-stress.\t18839316\n",
      "AT2G30330\tblos1 rna1\tLonger primary \u001b[01;31m\u001b[Kroot\u001b[m\u001b[Ks and increased number of lateral \u001b[01;31m\u001b[Kroot\u001b[m\u001b[Ks as compared to WT. Increased levels of PIN1 and PIN2 proteins on the plasma membrane.\t20971704\n",
      "AT2G30410\tkis-T1\tNo cell division defects are found in the \u001b[01;31m\u001b[Kroot\u001b[m\u001b[K.\t12215519\n",
      "AT2G30410\tkis-T1\t\u001b[01;31m\u001b[KRoot\u001b[m\u001b[K cortical cells and epidermal hypocotyl cells of the mutant are indistinguishable from the wild type under normal growth conditions.\n",
      "AT2G32410\tAXL/axl-1 axr1-12\tHomozygous axr1-12 plants that are heterozygous for axl-1 display severe growth defects. These seedlings developed short, slow growing \u001b[01;31m\u001b[Kroot\u001b[m\u001b[Ks compared with wild-type \u001b[01;31m\u001b[Kroot\u001b[m\u001b[Ks, and were arrested at the late seedling stage.\t17655650\n",
      "AT2G32410\tAXL/axl-1 axr1-12\tThe columella of AXL/axl-1 axr1-12/axr1-12 \u001b[01;31m\u001b[Kroot\u001b[m\u001b[K tips is highly disorganized during early seedling \u001b[01;31m\u001b[Kroot\u001b[m\u001b[K growth, and is completely disrupted at the time when \u001b[01;31m\u001b[Kroot\u001b[m\u001b[K growth ceases.\t17655650\n",
      "AT2G32700\tluh-1\tReduced germination (80% of normal), slow initial growth, short \u001b[01;31m\u001b[Kroot\u001b[m\u001b[Ks.\t18390806\n",
      "AT2G32950\tcop1-6\t\u001b[01;31m\u001b[KRoot\u001b[m\u001b[Ks of the mutant contained ~20-fold the amount of chlorophyll of the wild type.\t9367981\n"
     ]
    },
    {
     "name": "stdout",
     "output_type": "stream",
     "text": [
      "AT2G33880\tstip-1\tWhen grown in the absence of sugars plants exhibit growth arrest after germination. Seedling lethal. Shoots exhibit reduced sensitivity to cytokinins but \u001b[01;31m\u001b[Kroot\u001b[m\u001b[Ks appear normal.\t20110319\n",
      "AT2G33880\tstip-2\tHypomorphic allele identified as an intragenic supressor of stip-d activation tagged allele. Homozyous plants show about 80% seedling lethality. Other phenotypes include hyponastic cotyledon and reduced \u001b[01;31m\u001b[Kroot\u001b[m\u001b[K size. Expression of WUS is reduced and the domain of STM (a marker of meristems)reduced.Heterozygotes have 25% abnormal embryos with smaller meristems. Phenotype can be rescued with the addition of sucrose in the growth media.\t15753038\n",
      "AT2G33880\tstip-d ahk2-2 ahk3-3 cre1-12\tSmall SAM and limited \u001b[01;31m\u001b[Kroot\u001b[m\u001b[K growth.\t20110319\n",
      "AT2G35600\tSALK_038885\tNo visible \u001b[01;31m\u001b[Kroot\u001b[m\u001b[K phenotype.\t16514016\n",
      "AT2G36120\tdot1-1\tdot1-1 mutants display an open-class leaf and cotyledon venation patterning defect with low penetrance. Post-genital fusions of aerial organs also occur in dot1-1 mutants, and they produce cup-shaped leaves with a reduced number of trichomes. Normal epidermal cell wall formation is disrupted at the site of the organ fusions. These mutants have reduced water permeability compared to wild type plants, but they have normal levels of fertility and normal patterns of \u001b[01;31m\u001b[Kroot\u001b[m\u001b[K and stem development.\t18643975\n",
      "AT2G36450\thrd-D\thrd-D mutants produce elevated levels of the HRD transcript. Moreover, the expression domain of HRD expands from inflorescence tissue into vegetative tissue in the hrd-D mutants. The mutants have smaller, thicker green leaves with extra palisade and spongy mesophyll cell layers. Their \u001b[01;31m\u001b[Kroot\u001b[m\u001b[K network is more dense and the \u001b[01;31m\u001b[Kroot\u001b[m\u001b[Ks have more cortical cell layers. The mutants tolerate drought and salt stress better than wild type plants. A number of genes related to drought are differentially expressed in wild type and hrd-D mutants\t17881564\n",
      "AT2G36490\tCS66099\tWhen three-week-old seedlings were treated with the cytosine methylation inhibitor 5-aza-2'-deoxycytine (5Aza-dC), newly grown \u001b[01;31m\u001b[Kroot\u001b[m\u001b[Ks in ros1-1 were found to have a strong luminescence response similar to that in wild-type plants.\t12526807\n",
      "AT2G36490\tror1-1 ros1-1\tIncreased sensitivity to DNA damage,decreased gene silencing as measured by expression of reporter genes, small plants, decreased trichome number, early flowering in long days,decreased cell division, short \u001b[01;31m\u001b[Kroot\u001b[m\u001b[Ks.\t16326925\n",
      "AT2G38120\tCS3074\t\u001b[01;31m\u001b[KRoot\u001b[m\u001b[K agravitropic phenotype.\t15486104\n",
      "AT2G38120\tCS8040\tauxin resistant; narrow, irregular rosette leaves, slightly curled around leaf axis; \u001b[01;31m\u001b[Kroot\u001b[m\u001b[Ks elongate on auxin-containing medium; defective \u001b[01;31m\u001b[Kroot\u001b[m\u001b[K gravitropism; reduced number of lateral \u001b[01;31m\u001b[Kroot\u001b[m\u001b[Ks - greater reduction than for either single mutant; dwarf, bushy plants; reduced plant height; ethylene resistant; reduced fertility.\t7704045\n",
      "AT2G38120\taux1-100\t\u001b[01;31m\u001b[KRoot\u001b[m\u001b[K agravitropic phenotype.\t15486104\n",
      "AT2G38120\taux1-102\t\u001b[01;31m\u001b[KRoot\u001b[m\u001b[K agravitropic phenotype.\t15486104\n",
      "AT2G38120\taux1-103\t\u001b[01;31m\u001b[KRoot\u001b[m\u001b[K agravitropic phenotype.\t15486104\n",
      "AT2G38120\taux1-104\t\u001b[01;31m\u001b[KRoot\u001b[m\u001b[K agravitropic phenotype.\t15486104\n",
      "AT2G38120\taux1-105\t\u001b[01;31m\u001b[KRoot\u001b[m\u001b[K agravitropic phenotype.\t15486104\n",
      "AT2G38120\taux1-106\t\u001b[01;31m\u001b[KRoot\u001b[m\u001b[K agravitropic phenotype.\t15486104\n",
      "AT2G38120\taux1-108\t\u001b[01;31m\u001b[KRoot\u001b[m\u001b[K agravitropic phenotype.\t15486104\n",
      "AT2G38120\taux1-109\t\u001b[01;31m\u001b[KRoot\u001b[m\u001b[K agravitropic phenotype.\t15486104\n",
      "AT2G38120\taux1-111\t\u001b[01;31m\u001b[KRoot\u001b[m\u001b[K agravitropic phenotype.\t15486104\n",
      "AT2G38120\taux1-112\t\u001b[01;31m\u001b[KRoot\u001b[m\u001b[K agravitropic phenotype.\t15486104\n",
      "AT2G38120\taux1-113\tPartial \u001b[01;31m\u001b[Kroot\u001b[m\u001b[K gravitropic phenotype.\t15486104\n",
      "AT2G38120\taux1-114\tPartial \u001b[01;31m\u001b[Kroot\u001b[m\u001b[K gravitropic phenotype.\t15486104\n",
      "AT2G38120\taux1-115\t\u001b[01;31m\u001b[KRoot\u001b[m\u001b[K agravitropic phenotype.\t15486104\n",
      "AT2G38120\taux1-116\tPartial \u001b[01;31m\u001b[Kroot\u001b[m\u001b[K gravitropic phenotype.\t15486104\n",
      "AT2G38120\taux1-117\t\u001b[01;31m\u001b[KRoot\u001b[m\u001b[K agravitropic phenotype.\t15486104\n",
      "AT2G38120\taux1-118\t\u001b[01;31m\u001b[KRoot\u001b[m\u001b[K agravitropic phenotype.\t15486104\n",
      "AT2G38120\taux1-120\t\u001b[01;31m\u001b[KRoot\u001b[m\u001b[K agravitropic phenotype.\t15486104\n",
      "AT2G38120\taux1-21\t\u001b[01;31m\u001b[KRoot\u001b[m\u001b[K agravitropic phenotype.\t15486104\n",
      "AT2G38120\taux1-22\t\u001b[01;31m\u001b[KRoot\u001b[m\u001b[K agravitropic phenotype.\t15486104\n",
      "AT2G38120\taxr4-1 aux1-7\tauxin resistant; narrow, irregular rosette leaves, slightly curled around leaf axis; \u001b[01;31m\u001b[Kroot\u001b[m\u001b[Ks elongate on auxin-containing medium; defective \u001b[01;31m\u001b[Kroot\u001b[m\u001b[K gravitropism; reduced number of lateral \u001b[01;31m\u001b[Kroot\u001b[m\u001b[Ks - greater reduction than for either single mutant; dwarf, bushy plants; reduced plant height; ethylene resistant; reduced fertility.\t7704045\n",
      "AT2G38120\twav5-33\t\u001b[01;31m\u001b[KRoot\u001b[m\u001b[K agravitropic phenotype.\t15486104\n",
      "AT2G38290\tamt2;1-1\tThis mutant was used to construct a quadruple mutant: amt1;1-1, amt1;2-1, amt1;3-1, amt2;1-1. When this qko (quadruple knockout) was compared with a triple knockout with WT AMT2;1, it provided little evidence for a role of AMT2;1 in ammonium uptake in Arabidopsis \u001b[01;31m\u001b[Kroot\u001b[m\u001b[Ks.\t17693533\n",
      "AT2G38470\tSALK_006603\tHomozygotes have a WT phenotype. \u001b[01;31m\u001b[KRoot\u001b[m\u001b[K bending and \u001b[01;31m\u001b[Kroot\u001b[m\u001b[K elongation assays under osmotic and ABA treatments showed no significant difference compared to WT. However, primary \u001b[01;31m\u001b[Kroot\u001b[m\u001b[K elongation was inhibited by salt stress. Relative electrolyte leakage was significantly higher in salt - stressed plants as compared to WT.\t18839316\n",
      "AT2G38470\twrky25-1; wrky33-1\tDouble mutant \u001b[01;31m\u001b[Kroot\u001b[m\u001b[Ks were significantly shorter than WT toots when under salt-stress.\t18839316\n",
      "AT2G39450\tmtp11\tThe mutant was visually indistinguishable from wild type when grown in potting mix. However, when grown on nutrient agar with a basal supply of Mn2+, the mutant accumulated more Mn2+ in shoots and \u001b[01;31m\u001b[Kroot\u001b[m\u001b[Ks (45-60% greater concentrations) than the wild type, whereas the concentrations of other mineral nutrients did not differ between the lines.\t17559518\n",
      "AT2G39800\tp5cs1-1\tp5cs1-1 mutants accumulate less proline in response to salt stress than wild-type seedlings. Their \u001b[01;31m\u001b[Kroot\u001b[m\u001b[Ks are hypersensitive to salt stress and they have increased evidence of oxdative stress and lipid peroxidation under salt stress than wild type plants.\t17971042\n",
      "AT2G39800\tp5cs1-4\tDecreased \u001b[01;31m\u001b[Kroot\u001b[m\u001b[K elongation and decreased dry weight for plants grown under low water potential conditions.\t21791601\n",
      "AT2G39800\tp5cs1-4\tp5cs1-4 mutants accumulate less proline in response to salt stress than wild-type seedlings. Their \u001b[01;31m\u001b[Kroot\u001b[m\u001b[Ks are hypersensitive to salt stress and they have increased evidence of oxdative stress and lipid peroxidation under salt stress than wild type plants. Some genes involved in ROS detoxification are differentially expressed in  WT and p5cs1-4 mutants.\t17971042\n",
      "AT2G39940\tcoi1-1\tSeedlings have green leaves and well-developed  \u001b[01;31m\u001b[Kroot\u001b[m\u001b[Ks when grown on MS medium [mineral salts and sucrose, 3% (w/v), solidified with agar, 0.6% (w/v)] supplemented with 50uM methyl jasmonate.\t9582125\n",
      "AT2G39940\tcoi1-15\tSeedlings have green leaves and well-developed  \u001b[01;31m\u001b[Kroot\u001b[m\u001b[Ks when grown on MS medium [mineral salts and sucrose, 3% (w/v), solidified with agar, 0.6% (w/v)] supplemented with 50uM methyl jasmonate.\t9582125\n",
      "AT2G39940\tcoi1-18\tSeedlings have green leaves and well-developed  \u001b[01;31m\u001b[Kroot\u001b[m\u001b[Ks when grown on MS medium [mineral salts and sucrose, 3% (w/v), solidified with agar, 0.6% (w/v)] supplemented with 50uM methyl jasmonate.\t9582125\n",
      "AT2G40220\tCS3837\tMutant \u001b[01;31m\u001b[Kroot\u001b[m\u001b[K growth was already somewhat reduced compared to WT plants under normal growth conditions but was significantly less sensitive to inhibition by 25 mM trehalose. \u001b[01;31m\u001b[KRoot\u001b[m\u001b[K length was reduced only by 46% compared to 90% in WT plants (Fig. 1B). The  germination rates on trehalose were identical to those on medium without trehalose indicating that the smaller \u001b[01;31m\u001b[Kroot\u001b[m\u001b[Ks are not caused by delayed or deficient germination.\n",
      "AT2G40220\tCS3837\tThe inhibition of \u001b[01;31m\u001b[Kroot\u001b[m\u001b[K growth in WT plants by trehalose could be overcome by bypassing the need for starch breakdown through continuous light. Partial effects were observed with long day conditions (16 h/8 h light/dark regime). However, continuous light could not overcome the effects of trehalose on gene expression (AT1G10760, AT4G17090, AT5G16150), or starch accumulation in the cotyledons.\t17031512\n"
     ]
    },
    {
     "name": "stdout",
     "output_type": "stream",
     "text": [
      "AT2G40890\tcyp98A3\tbackground Wassilewskija hypocotyls with shortened length and increased diameter, \u001b[01;31m\u001b[Kroot\u001b[m\u001b[Ks had a swollen aspect with increased initiation from the crown and showed reduced growth and gravitropism   in soil plant maintained the dwarfed phenotype with a rosette never exceeding 1 to 1.5 cm in diameter, developed a bushy miniature rosette of round leaves, growth of cyp98A3 plants was arrested latest at the onset of primary stem development (2 weeks later than wild-type), showed darker leaf coloration , severe alteration of lignin content and composition - mainly H units (95% to 3.5% in wild-type), ectopic lignification in \u001b[01;31m\u001b[Kroot\u001b[m\u001b[Ks\n",
      "AT2G40950\tzip17\tzip17 mutants exhibit a greater inhibition of primary \u001b[01;31m\u001b[Kroot\u001b[m\u001b[K elongation in response to NaCl than wild type seedlings. The salt-sensitive phenotype co-segregates with the zip17 T-DNA and can be rescued by a 35S:AtbZIP17 construct. Several salt-responsive genes, such as ATHB-7, that showed a reduced transcriptional response to salt in s1p-3 mutants, also show a reduced transcriptional response to a salt treatment in zip17 mutants\t17662035\n",
      "AT2G41660\tmiz1\tMutant \u001b[01;31m\u001b[Kroot\u001b[m\u001b[Ks are defective in hydrotropism, and have slightly reduced phototropism and modified wavy growth response. Has normal gravitropism and \u001b[01;31m\u001b[Kroot\u001b[m\u001b[K elongation.\t17360591\n",
      "AT2G42430\tlbd16-1\tMutant plants appeared very similar to wild-type plants at both seedling and adult stages. \u001b[01;31m\u001b[KRoot\u001b[m\u001b[K growth was inhibited to almost the same extent in both wild-type and mutant seedlings in response to exogenous auxin. In addition, the lbd16-1 mutation did not affect auxin-regulated gene expression, because auxin-induced IAA5, IAA19, LBD29, and LBD33 to a similar degree in mutant and wild-type seedlings.\t17259263\n",
      "AT2G42430\tlbd16-1\tThe number of lateral \u001b[01;31m\u001b[Kroot\u001b[m\u001b[Ks was reduced slightly in 7-d old  mutant seedlings compared to the wild type. Although exogenous auxin induced lateral \u001b[01;31m\u001b[Kroot\u001b[m\u001b[K formation in mutant as in wild-type seedlings, there were fewer lateral \u001b[01;31m\u001b[Kroot\u001b[m\u001b[Ks in auxin-treated mutant than in the wild type.\t17259263\n",
      "AT2G43790\tmpk6-1\tDefects in \u001b[01;31m\u001b[Kroot\u001b[m\u001b[K development. Short \u001b[01;31m\u001b[Kroot\u001b[m\u001b[Ks and sometimes even no \u001b[01;31m\u001b[Kroot\u001b[m\u001b[Ks.Ectopic cell divisions in the \u001b[01;31m\u001b[Kroot\u001b[m\u001b[Ks and disorganized cells and cell files.\t19832943\n",
      "AT2G43790\tmpk6-2\tDefects in \u001b[01;31m\u001b[Kroot\u001b[m\u001b[K development. Short \u001b[01;31m\u001b[Kroot\u001b[m\u001b[Ks and sometimes even no \u001b[01;31m\u001b[Kroot\u001b[m\u001b[Ks.Ectopic cell divisions in the \u001b[01;31m\u001b[Kroot\u001b[m\u001b[Ks and disorganized cells and cell files.\t19832943\n",
      "AT2G43790\tmpk6-3\tDefects in \u001b[01;31m\u001b[Kroot\u001b[m\u001b[K development. Short \u001b[01;31m\u001b[Kroot\u001b[m\u001b[Ks and sometimes even no \u001b[01;31m\u001b[Kroot\u001b[m\u001b[Ks.Ectopic cell divisions in the \u001b[01;31m\u001b[Kroot\u001b[m\u001b[Ks and disorganized cells and cell files.\t19484493\n",
      "AT2G44900\tarabidillo-1/-2\tMutant plants grown on vertical plates had fewer lateral \u001b[01;31m\u001b[Kroot\u001b[m\u001b[Ks were developed than wild type or either single mutant, despite having similar primary \u001b[01;31m\u001b[Kroot\u001b[m\u001b[K lengths to wild type. Significant decrease in number of lateral \u001b[01;31m\u001b[Kroot\u001b[m\u001b[K primordia was found in double mutant \u001b[01;31m\u001b[Kroot\u001b[m\u001b[Ks, with no differences in later stages of lateral \u001b[01;31m\u001b[Kroot\u001b[m\u001b[K development.\t16434475\n",
      "AT2G44950\thub1-1\tThe mutant primary \u001b[01;31m\u001b[Kroot\u001b[m\u001b[Ks grew much more slowly than those of the wild type. No differences between mutant and WT were seen regarding cellular organization or cell wall formation in the \u001b[01;31m\u001b[Kroot\u001b[m\u001b[K apical meristem. However, a clear reduction in meristem size was detected. The \u001b[01;31m\u001b[Kroot\u001b[m\u001b[K growth rate of the mutant was severely reduced and no acceleration of growth took place. The average mature cortex cell length was significantly (P < 0.001) reduced from 171 &mu;m in WT to 104 &mu;m in hub1-1, whereas the cell production per hour had decreased by 65%, from 1.26 in Ler to 0.44 in hub1-1.\t17329565\n",
      "AT2G44950\thub1-3\tMutant growth was defective compared with  that of wild type. The mutants were reduced in size and had pale-green laminas with an  irregular blade surface and thinner inflorescence stems, but \u001b[01;31m\u001b[Kroot\u001b[m\u001b[K growth was not  visibly reduced. Furthermore, the fresh weight of mutant was approximately half of that of wild type.\t17329565\n",
      "AT2G44950\thub1-4\tMutant growth was defective compared with  that of wild type. The mutants were reduced in size and had pale-green laminas with an  irregular blade surface and thinner inflorescence stems, but \u001b[01;31m\u001b[Kroot\u001b[m\u001b[K growth was not  visibly reduced. Furthermore, the fresh weight of mutant was approximately half of that of wild type.\t17329565\n",
      "AT2G45770\tfrd4-1\tIn contrast to chloroplasts in the leaves, wild-type and mutant \u001b[01;31m\u001b[Kroot\u001b[m\u001b[K plastids do not differ significantly in appearance. The \u001b[01;31m\u001b[Kroot\u001b[m\u001b[K plastids appear to be some type of immature plastid or proplastid, as they contain a rudimentary internal membrane structure.\n",
      "AT2G46020\tatbrm-1\tSmaller than wt plants, slow growing with downwards curled leaves.  Flowers fail to open at maturity and exhibit organ fusions.  \u001b[01;31m\u001b[KRoot\u001b[m\u001b[Ks are significantly shorter than wt.\t16854978\n",
      "AT2G46020\tbrm-1\tCompletely sterile with homeotic transformations in the second and thried floral whorls.  Slow growth, delayed development and a dramatic reduction in plant size. Rosette and cauline leaves are small and curled downwards as well as coiled in the proximodistal axes, both under short and long day conditions.  \u001b[01;31m\u001b[KRoot\u001b[m\u001b[K development is strongly impaired. Late flowering under both SD and LD conditions, with less leaves than WT.  Some mutants never flower.  Maintenance of the inflorescence shoot meristem is impaired.\t16845477\n",
      "AT2G46020\tbrm-2\tCompletely sterile with homeotic transformations in the second and thried floral whorls.  Slow growth, delayed development and a dramatic reduction in plant size. Rosette and cauline leaves are small and curled downwards as well as coiled in the proximodistal axes, both under short and long day conditions.  \u001b[01;31m\u001b[KRoot\u001b[m\u001b[K development is strongly impaired. Late flowering under both SD and LD conditions, with less leaves than WT.  Some mutants never flower.  Maintenance of the inflorescence shoot meristem is impaired.\t16845477\n",
      "AT2G46240\tSALK_009534\tMutant plants exhibited earlier flowering and shorter vegetative and reproductive phases, producing more branched \u001b[01;31m\u001b[Kroot\u001b[m\u001b[Ks and inflorescences compared to wild-type plants. Senescence occurred earlier in mutants than the wild-type plants.\t16636050\n",
      "AT2G46240\tSALK_058290\tMutant plants exhibited earlier flowering and shorter vegetative and reproductive phases, producing more branched \u001b[01;31m\u001b[Kroot\u001b[m\u001b[Ks and inflorescences compared to wild-type plants. Senescence occurred earlier in mutants than the wild-type plants.\t16636050\n",
      "AT2G46370\tCS8072\tJA-Ile levels are seven-fold lower in the jar1-1 mutant compared to wild type plants. The levels of JA, JA-Val, and JA-Leu are similar in the wild-type and mutant backgrounds, whereas the level of JA-Phe and JA-ACC are higher in the mutant. Although this mutant is moderately insensitive to MeJA in \u001b[01;31m\u001b[Kroot\u001b[m\u001b[K growth assays, it is sensitive to JA-Ile.\t15258265\n",
      "AT2G46370\tCS8072\tThe jar1-1 mutant shows moderate insensitivity to MeJA in \u001b[01;31m\u001b[Kroot\u001b[m\u001b[K growth  inhibition assays, but it has normal male fertility.\n",
      "AT2G46370\tjar1-11\tThe mutant has reduced sensitivity to methyl jasmonate in \u001b[01;31m\u001b[Kroot\u001b[m\u001b[K growth inhibition experiements. It also produces lower levels of jasmonyl-isoleucine (JA-Ile) than wild-type plants in response to wounding.\t18247047\n",
      "AT2G46370\tjar1-8\tThe jar1-8 mutant shows moderate insensitivity to MeJA in \u001b[01;31m\u001b[Kroot\u001b[m\u001b[K growth  inhibition assays.\n",
      "AT2G47000\tmdr4-1\tAlthough mutant seedlings display normal acropetal auxin transport in the \u001b[01;31m\u001b[Kroot\u001b[m\u001b[K, basipetal auxin transport is reduced by about 50%. \u001b[01;31m\u001b[KRoot\u001b[m\u001b[K waving proceeds normally in the mutant seedlings, but gravitropic curvature is enhanced, occurring more quickly and to a greater degree than in wild type seedlings.\t17557805\n",
      "AT2G47000\tmdr4-1\tmdr4-1 mutants display normal \u001b[01;31m\u001b[Kroot\u001b[m\u001b[K architecture and have wild type rates of lateral \u001b[01;31m\u001b[Kroot\u001b[m\u001b[K elongation.\t17557807\n"
     ]
    },
    {
     "name": "stdout",
     "output_type": "stream",
     "text": [
      "AT2G47000\tmdr4-2\tAlthough mutant seedlings display normal acropetal auxin transport in the \u001b[01;31m\u001b[Kroot\u001b[m\u001b[K, basipetal auxin transport is reduced by about 50%. \u001b[01;31m\u001b[KRoot\u001b[m\u001b[K waving proceeds normally in the mutant seedlings, but gravitropic curvature is enhanced, occurring more quickly and to a greater degree than in wild type seedlings.\t17557805\n",
      "AT2G47000\tmdr4-2\tmdr4-2 mutants display normal \u001b[01;31m\u001b[Kroot\u001b[m\u001b[K architecture and have wild type rates of lateral \u001b[01;31m\u001b[Kroot\u001b[m\u001b[K elongation.\t17557807\n",
      "AT2G47000\tpgp4-1\tThe \u001b[01;31m\u001b[Kroot\u001b[m\u001b[K lengths of 10-d pgp4 seedlings were 30% shorter than those of the wild type, and the number of lateral \u001b[01;31m\u001b[Kroot\u001b[m\u001b[Ks was also significantly reduced under moderate light levels (100 to 120 mmolm2s1) using sucrose concentrations of 0.5 to 1%. Under high light or on sucrose concentrations >1.5%, the \u001b[01;31m\u001b[Kroot\u001b[m\u001b[K lengths and number of lateral \u001b[01;31m\u001b[Kroot\u001b[m\u001b[Ks observed were greater than or equal to those of the wild type. No obvious morphological differences between pgp4 and wild-type plants were observed in the aerial parts of seedlings and adult plants. Seedlings exhibited reductions in the rate of \u001b[01;31m\u001b[Kroot\u001b[m\u001b[K gravitropic bending.\t16243904\n",
      "AT2G47000\tpgp4-1\tpgp4-1 mutants have 25% longer \u001b[01;31m\u001b[Kroot\u001b[m\u001b[K hairs than wild type plants.\t18156217\n",
      "AT2G47000\tpgp4-3\tThe \u001b[01;31m\u001b[Kroot\u001b[m\u001b[K lengths of 10-d pgp4 seedlings were 30% shorter than those of the wild type, and the number of lateral \u001b[01;31m\u001b[Kroot\u001b[m\u001b[Ks was also significantly reduced under moderate light levels (100 to 120 mmolm2s1) using sucrose concentrations of 0.5 to 1%. Under high light or on sucrose concentrations >1.5%, the \u001b[01;31m\u001b[Kroot\u001b[m\u001b[K lengths and number of lateral \u001b[01;31m\u001b[Kroot\u001b[m\u001b[Ks observed were greater than or equal to those of the wild type. No obvious morphological differences between pgp4 and wild-type plants were observed in the aerial parts of seedlings and adult plants. Seedlings exhibited reductions in the rate of \u001b[01;31m\u001b[Kroot\u001b[m\u001b[K gravitropic bending.\t16243904\n",
      "AT2G47000\tpgp4-4\tThe \u001b[01;31m\u001b[Kroot\u001b[m\u001b[K lengths of 10-d pgp4 seedlings were 30% shorter than those of the wild type, and the number of lateral \u001b[01;31m\u001b[Kroot\u001b[m\u001b[Ks was also significantly reduced under moderate light levels (100 to 120 mmolm2s1) using sucrose concentrations of 0.5 to 1%. Under high light or on sucrose concentrations >1.5%, the \u001b[01;31m\u001b[Kroot\u001b[m\u001b[K lengths and number of lateral \u001b[01;31m\u001b[Kroot\u001b[m\u001b[Ks observed were greater than or equal to those of the wild type. No obvious morphological differences between pgp4 and wild-type plants were observed in the aerial parts of seedlings and adult plants. Seedlings exhibited reductions in the rate of \u001b[01;31m\u001b[Kroot\u001b[m\u001b[K gravitropic bending.\t16243904\n",
      "AT2G47270\tSALK_115536\tlonger \u001b[01;31m\u001b[Kroot\u001b[m\u001b[K than the wild type; significant increase in cortex cell number indicating enlargement of the meristem.\t21074051\n",
      "AT2G47750\tgh3.9-1\tgh3.9-1 mutants had greater primary \u001b[01;31m\u001b[Kroot\u001b[m\u001b[K length, increased sensitivity to indole-3-acetic acid (IAA)-mediated \u001b[01;31m\u001b[Kroot\u001b[m\u001b[K growth inhibition, but no obvious effects on apical dominance or leaf morphology.\t17216483\n",
      "AT3G01650\trglg1 rglg2\tAuxin (IAA) concentration was almost twofold lower in \u001b[01;31m\u001b[Kroot\u001b[m\u001b[Ks of 2-week-old mutant seedlings compared to wild type.\n",
      "AT3G01650\trglg1 rglg2\t\u001b[01;31m\u001b[KRoot\u001b[m\u001b[Ks of wild-type and mutant plants were similar in spite of a moderate (14%) reduction in the main \u001b[01;31m\u001b[Kroot\u001b[m\u001b[K length of plantlets grown on plates.\t17586653\n",
      "AT3G02680\tatnbs1-1\tSignificantly smaller when grown in the presence of methyl methanosulfonate (MMS) with \u001b[01;31m\u001b[Kroot\u001b[m\u001b[K growth.  Normal growth under standard growth conditions.\t17672843\n",
      "AT3G05040\tCS24280\tleaves up-rolled, precocious expression of adult traits, reduced leaf number, small \u001b[01;31m\u001b[Kroot\u001b[m\u001b[K system, reduced fertility as both a male and female parent.\t9550721\n",
      "AT3G05120\tgid1a-1\tOnly slight differences between mutant and wild type plants with regard to rosette radius and \u001b[01;31m\u001b[Kroot\u001b[m\u001b[K length.\t17194763\n",
      "AT3G05120\tgid1a-1 gid1b-1\tOnly slight differences between mutant and wild type plants with regard to rosette radius and \u001b[01;31m\u001b[Kroot\u001b[m\u001b[K length.\t17194763\n",
      "AT3G05120\tgid1a-1 gid1b-1 gid1c-1\tDramatic reduction in rosette radius and \u001b[01;31m\u001b[Kroot\u001b[m\u001b[K length compared to wild type (87 and 74% reduction, respectively).\t17194763\n",
      "AT3G05120\tgid1a-1 gid1c-1\tOnly slight differences between mutant and wild type plants with regard to rosette radius and \u001b[01;31m\u001b[Kroot\u001b[m\u001b[K length.\t17194763\n",
      "AT3G05630\tSALK_119084\tLess sensitive to auxin. Reduced \u001b[01;31m\u001b[Kroot\u001b[m\u001b[K gravitropism.  Suppressed auxin-dependent hypocotyl elongation at 29C.\t17259265\n",
      "AT3G05630\tpldz2\tmutant is defective in the hydrolysis of phospholipids and has a reduced capacity to accumulate galactolipids under limiting Pi conditions. Morphological analysis of the pldz2 \u001b[01;31m\u001b[Kroot\u001b[m\u001b[K system shows a premature change in \u001b[01;31m\u001b[Kroot\u001b[m\u001b[K architecture in response to Pi starvation.\n",
      "AT3G05630\tpldzeta1 pldzeta2\tUnder limited phosphate, primary \u001b[01;31m\u001b[Kroot\u001b[m\u001b[K elongation is retarded and lateral \u001b[01;31m\u001b[Kroot\u001b[m\u001b[Ks are longer with respect to wild type.\t16384909\n",
      "AT3G06030\tanp2 anp3\tDelayed growth,short \u001b[01;31m\u001b[Kroot\u001b[m\u001b[Ks, multiply branched \u001b[01;31m\u001b[Kroot\u001b[m\u001b[K hairs.Radially expanded \u001b[01;31m\u001b[Kroot\u001b[m\u001b[K and hypocotyl cells.Aberrant microtuble organization and resistance to oryzalin.\t20215588\n",
      "AT3G06810\tSALK_004657\t\u001b[01;31m\u001b[KRoot\u001b[m\u001b[Ks moderately resistant to elongation inhibition by 2,4-DB (2,4-Dichlorophenoxybutyric acid) but remained sensitive to inhibition by 2,4-D (2,4-Dichlorophenoxyacetic acid). Fewer lateral \u001b[01;31m\u001b[Kroot\u001b[m\u001b[Ks are produced without induction which becomes more pronounced in response to IBA (Indole-3-butyric acid) treatment.\t17277896\n",
      "AT3G06810\tSALK_033467\t\u001b[01;31m\u001b[KRoot\u001b[m\u001b[Ks moderately resistant to elongation inhibition by 2,4-DB (2,4-Dichlorophenoxybutyric acid) but remained sensitive to inhibition by 2,4-D (2,4-Dichlorophenoxyacetic acid). Fewer lateral \u001b[01;31m\u001b[Kroot\u001b[m\u001b[Ks are produced without induction which becomes more pronounced in response to IBA (Indole-3-butyric acid) treatment.\t17277896\n",
      "AT3G06810\tibr3-1\t\u001b[01;31m\u001b[KRoot\u001b[m\u001b[Ks moderately resistant to elongation inhibition by 2,4-DB (2,4-Dichlorophenoxybutyric acid) but remained sensitive to inhibition by 2,4-D (2,4-Dichlorophenoxyacetic acid). Fewer lateral \u001b[01;31m\u001b[Kroot\u001b[m\u001b[Ks are produced without induction which becomes more pronounced in response to IBA (Indole-3-butyric acid) treatment.\t17277896\n",
      "AT3G06810\tibr3-11\t\u001b[01;31m\u001b[KRoot\u001b[m\u001b[Ks moderately resistant to elongation inhibition by 2,4-DB (2,4-Dichlorophenoxybutyric acid) but remained sensitive to inhibition by 2,4-D (2,4-Dichlorophenoxyacetic acid). Fewer lateral \u001b[01;31m\u001b[Kroot\u001b[m\u001b[Ks are produced without induction which becomes more pronounced in response to IBA (Indole-3-butyric acid) treatment.\t17277896\n",
      "AT3G06810\tibr3-2\t\u001b[01;31m\u001b[KRoot\u001b[m\u001b[Ks moderately resistant to elongation inhibition by 2,4-DB (2,4-Dichlorophenoxybutyric acid) but remained sensitive to inhibition by 2,4-D (2,4-Dichlorophenoxyacetic acid). Fewer lateral \u001b[01;31m\u001b[Kroot\u001b[m\u001b[Ks are produced without induction which becomes more pronounced in response to IBA (Indole-3-butyric acid) treatment.\t17277896\n",
      "AT3G07780\tobe1-1 obe2-1\tPremature termination and loss of the shoot apical meristem. Failure to establish or maintain the \u001b[01;31m\u001b[Kroot\u001b[m\u001b[K apical meristem.  Aberrant embryonic development.\t18403411\n",
      "AT3G08040\tCS6584\tdefective in iron translocation; chlorotic plants; expression of iron deficiency responses under conditions of iron sufficiency; overaccumulation of iron and other metals (plants accumulate approximately two-fold excess iron, four-fold excess manganesse and two-fold excess zinc in their shoots); detached \u001b[01;31m\u001b[Kroot\u001b[m\u001b[Ks are capable of repressing iron uptake responses when cultured under iron-sufficient conditions; when shoots are appropriately supplied with iron, they regreen and the plants are capable of correctly regulating \u001b[01;31m\u001b[Kroot\u001b[m\u001b[K iron uptake responses; isolated protoplasts have lower iron levels than those from wild type plants; plants accumulate abnormal levels of ferric iron in their \u001b[01;31m\u001b[Kroot\u001b[m\u001b[K vasculature, FRD3 is expressed in the pericycle and other vascular cylinder cells in the mature portion of the \u001b[01;31m\u001b[Kroot\u001b[m\u001b[K; lacks trichomes on stems and leaves.\t12172022\n"
     ]
    },
    {
     "name": "stdout",
     "output_type": "stream",
     "text": [
      "AT3G08040\tCS6585\tdefective in iron translocation; chlorotic plants; expression of iron deficiency responses under conditions of iron sufficiency; overaccumulation of iron and other metals (plants accumulate approximately two-fold excess iron, four-fold excess manganesse and two-fold excess zinc in their shoots); detached \u001b[01;31m\u001b[Kroot\u001b[m\u001b[Ks are capable of repressing iron uptake responses when cultured under iron-sufficient conditions; when shoots are appropriately supplied with iron, they regreen and the plants are capable of correctly regulating \u001b[01;31m\u001b[Kroot\u001b[m\u001b[K iron uptake responses; isolated protoplasts have lower iron levels than those from wild type plants; plants accumulate abnormal levels of ferric iron in their \u001b[01;31m\u001b[Kroot\u001b[m\u001b[K vasculature, FRD3 is expressed in the pericycle and other vascular cylinder cells in the mature portion of the \u001b[01;31m\u001b[Kroot\u001b[m\u001b[K; lacks trichomes on stems and leaves.\t12172022\n",
      "AT3G08710\ttrx h9\t\u001b[01;31m\u001b[KRoot\u001b[m\u001b[Ks and leaves of  the homozygous mutants were significantly shorter and smaller  than wild-type. \u001b[01;31m\u001b[KRoot\u001b[m\u001b[K tips of 7-day-old mutant seedlings  grown on MS medium with 1% sucrose had a shortened apical  meristem and, cells were more compact, in keeping with noticeably  shorter \u001b[01;31m\u001b[Kroot\u001b[m\u001b[Ks. When grown in soil, mutant  plants were dwarf with small yellowish leaves.\n",
      "AT3G09780\tacr4-2/ccr1-3\tIncreased number of lateral \u001b[01;31m\u001b[Kroot\u001b[m\u001b[K meristems, greater than acr4 single mutant alone.\t18948541\n",
      "AT3G09840\tcdc48-1\tSeedling lethal.Mutants have disorganized \u001b[01;31m\u001b[Kroot\u001b[m\u001b[Ks.\t18660433\n",
      "AT3G09920\tpip5k9-d\tConcentration of sucrose in the mutant \u001b[01;31m\u001b[Kroot\u001b[m\u001b[Ks are lower than in wild type. The concentration of <i>myo</i>-inositol is increased, as are those of glucose and fructose.\t17220200\n",
      "AT3G09920\tpip5k9-d\tShortened primary \u001b[01;31m\u001b[Kroot\u001b[m\u001b[K (~30% compared to wild type). Shortening is more pronounced 6d after germination. Phenotype results from a reduction in cell elongation.\t17220200\n",
      "AT3G10870\tSALK_092550c\tmes17-1 mutant \u001b[01;31m\u001b[Kroot\u001b[m\u001b[Ks are less responsive to MeIAA than wild type \u001b[01;31m\u001b[Kroot\u001b[m\u001b[Ks, but they show a normal \u001b[01;31m\u001b[Kroot\u001b[m\u001b[K growth inhibition in response to IAA, and also grow like wild type \u001b[01;31m\u001b[Kroot\u001b[m\u001b[Ks under normal conditions. Light-grown mes17-1 mutants have hypocotyls that are 32% longer than wild-type hypocotyls when they are on soil, and 29% longer when they are on half strength MS media. In the dark, mes17-1 hypocotyls are the same length as wild type hypocotyls when both are grown on half-strength MS media. In other aspects of plant growth, mes17-1 mutants appear phenotypically normal, but they do have higher levels of DR5:GUS expression suggesting that they might have higher levels of auxin, auxin flow, or auxin signaling. mes17-1 mutants also appear to have a reduced ability to hydrolyze [14C]MeIAA compared to wild type plants in feeding assays.\t18467465\n",
      "AT3G10870\tmes17-2\tmes17-2 mutant \u001b[01;31m\u001b[Kroot\u001b[m\u001b[Ks are less responsive to MeIAA than wild type \u001b[01;31m\u001b[Kroot\u001b[m\u001b[Ks, but they show a normal \u001b[01;31m\u001b[Kroot\u001b[m\u001b[K growth inhibition in response to IAA, and also grow like wild type \u001b[01;31m\u001b[Kroot\u001b[m\u001b[Ks under normal conditions. Light-grown mes17-2 mutants have hypocotyls that are 29% longer when they are on half strength MS media. In the dark, mes17-2 hypocotyls are the same length as wild type hypocotyls when both are grown on half-strength MS media. In other aspects of plant growth mes17-2 mutants appear phenotypically normal.\t18467465\n",
      "AT3G11430\tSALK_018117\tThe mutant has a 50% reduction in aliphatic suberin in young \u001b[01;31m\u001b[Kroot\u001b[m\u001b[Ks, and several fold reduction in aliphatic suberin monomers in seed coats. The seed coats are more fragile, have a darker appearance, and increased permeability to dyes. The mutant seeds have a reduced germination rate under high salt. The seedlings have lower tolerance to salt stress.\t17259262\n",
      "AT3G11430\tSALK_142456\tThe mutant has a 50% reduction in aliphatic suberin in young \u001b[01;31m\u001b[Kroot\u001b[m\u001b[Ks, and several fold reduction in aliphatic suberin monomers in seed coats. The seed coats are more fragile, have a darker appearance, and increased permeability to dyes. The mutant seeds have a reduced germination rate under high salt. The seedlings have lower tolerance to salt stress.\t17259262\n",
      "AT3G13300\tVCS:vcs1/VCS:vcs7\tThe transheterozygote was indistinguishable from vcs-1; it produced green organs, a longer \u001b[01;31m\u001b[Kroot\u001b[m\u001b[K, and leaves that expanded to become broad and pointed.\t17513503\n",
      "AT3G13300\tvcs-6\tNull mutants of DCP1, DCP2, and VCS accumulate capped mRNAs with a reduced degradation rate. The homozygous progeny of these mutants also share a similar lethal phenotype at the seedling cotyledon stage, with disorganized veins, swollen \u001b[01;31m\u001b[Kroot\u001b[m\u001b[K hairs, and altered epidermal cell morphology.\t17158604\n",
      "AT3G13360\twip1-1 wip2-1 wip3-1\tBoth endogenous RanGAP1 and RanGAP1-GFP were absent from the nuclear envelope in \u001b[01;31m\u001b[Kroot\u001b[m\u001b[K-tip cells of the triple mutant.\t17600715\n",
      "AT3G13360\twip1-1 wip2-1 wip3-1\tMutant plants had no observable defect in growth or development under standard laboratory conditions and no change in auxin sensitivity was observed in a standard \u001b[01;31m\u001b[Kroot\u001b[m\u001b[K-elongation assay.\t17600715\n",
      "AT3G13870\twvd6\tReduced rates of \u001b[01;31m\u001b[Kroot\u001b[m\u001b[K elongation.  \u001b[01;31m\u001b[KRoot\u001b[m\u001b[K hairs are significantly shorter than wild-type \u001b[01;31m\u001b[Kroot\u001b[m\u001b[K hairs.  \u001b[01;31m\u001b[KRoot\u001b[m\u001b[Ks do not wave or skew on hard-agar surfaces.\t15908600\n",
      "AT3G14000\tbrxl2\tNo visible \u001b[01;31m\u001b[Kroot\u001b[m\u001b[K phenotype.\t16514016\n",
      "AT3G14370\twag1-1/wag2-1\tMorphologically similar to wild type. When seedlings were grown on vertical plates, \u001b[01;31m\u001b[Kroot\u001b[m\u001b[K exhibited pronounced wavy pattern.\t16460509\n",
      "AT3G14370\twag1-2/wag2-1\tMorphologically similar to double mutant wag1-1/wag2-1. When seedlings were grown on vertical plates, \u001b[01;31m\u001b[Kroot\u001b[m\u001b[K exhibited pronounced wavy pattern. Gravitropism was not affected in mutant plants. Double mutant plants were more resistant to inhibition of \u001b[01;31m\u001b[Kroot\u001b[m\u001b[K curling by auxin transport inhibitor NPA than wild type plants.\t16460509\n",
      "AT3G14370\twag2-1\tMorphologically similar to wild type. When seedlings were grown on vertical plates, \u001b[01;31m\u001b[Kroot\u001b[m\u001b[K exhibited wavy pattern.\t16460509\n",
      "AT3G16150\tCS67896\tIncreased sensitivity to delay in \u001b[01;31m\u001b[Kroot\u001b[m\u001b[K hair emergence in response to exogenous asparagine. Increased accumulation of asparagine in \u001b[01;31m\u001b[Kroot\u001b[m\u001b[K when grown on medium containing asparagine as a single nitrogen source. Increased seed size under conditions of nitrogen deficiency. Increased concentration of free asparagine and other free amino acids in seed when grown under low illumination.\t21800258\n",
      "AT3G16150\tCS67896\tincreased sensitivity to inhibition of \u001b[01;31m\u001b[Kroot\u001b[m\u001b[K elongation by exogenous asparagine\t21800258\n",
      "AT3G16150\tSALK_082112\tincreased sensitivity to inhibition of \u001b[01;31m\u001b[Kroot\u001b[m\u001b[K elongation by exogenous asparagine\t21800258\n",
      "AT3G16150\tWiscDsLox382A10\tincreased sensitivity to inhibition of \u001b[01;31m\u001b[Kroot\u001b[m\u001b[K elongation by exogenous asparagine\t21800258\n",
      "AT3G16785\tpldzeta1 pldzeta2\tUnder limited phosphate, primary \u001b[01;31m\u001b[Kroot\u001b[m\u001b[K elongation is retarded and lateral \u001b[01;31m\u001b[Kroot\u001b[m\u001b[Ks are longer with respect to wild type.\t16384909\n",
      "AT3G16857\tahk3-3 arr1-4\tThe \u001b[01;31m\u001b[Kroot\u001b[m\u001b[K-meristem size of the double mutant was indistinguishable from that of the ahk3 mutant.\t17363254\n",
      "AT3G16857\tarr1-3 arr10-5 arr12-1\tsevere primary \u001b[01;31m\u001b[Kroot\u001b[m\u001b[K abnormalities; premature termination of primary \u001b[01;31m\u001b[Kroot\u001b[m\u001b[K growth; substantially reduced sensitivity to cytokinin in the hypocotyl growth response assay; smaller rosette diameter; altered chlorophyll and anthocyanin production.\t18723577\n",
      "AT3G16857\tarr1-4\tThe \u001b[01;31m\u001b[Kroot\u001b[m\u001b[K meristems of the mutant were indistinguishable from those of the wild type up to 4 dpg but became larger at 5 dpg and kept increasing in size thereafter.\n",
      "AT3G16857\tarr1-4 arr12-2\tThe development and size of the double mutant \u001b[01;31m\u001b[Kroot\u001b[m\u001b[K meristems were comparable to those of ahk3-3 meristems.\n",
      "AT3G17360\tpok1-1/pok2-1\tAt seedling stage pok1/pok2 double mutants differ from wild-type by having smaller cotyledons as well as shorter, wider \u001b[01;31m\u001b[Kroot\u001b[m\u001b[Ks and hypocotyls. Adult plants exhibit a dwarfed stature, but all organs are present, although miniaturized. Plants are fertile but produce reduced numbers of seeds. Microscopic observation revealed highly disordered \u001b[01;31m\u001b[Kroot\u001b[m\u001b[K meristem cell patterns, with most walls lacking parallel or perpendicular alignment to the longitudinal axis of the \u001b[01;31m\u001b[Kroot\u001b[m\u001b[K and most cells exhibiting irregular shapes. Examination of cell wall patterns suggested that misoriented cell divisions were largely responsible for the irregular cell patterns. In pok1/pok2 double mutant embryos, misplaced cell walls were observed as early as the octant stage of embryogenesis. Throughout embryogenesis, the mispositioning of cell walls continues, eventually giving rise to slightly misshapen mature embryos with a stubby appearance, compared to wild-type. However, incomplete cell walls and wall stubs, a common feature of cytokinesis-defective mutants, were not observed in Toluidine blue-stained sections of double mutant embryos.\t16682350\n"
     ]
    },
    {
     "name": "stdout",
     "output_type": "stream",
     "text": [
      "AT3G18780\tact2-1\tMutants have abnormal \u001b[01;31m\u001b[Kroot\u001b[m\u001b[K hairs that are stunted, bulging or may be branched. The orientation of microtubules is abnormal.\t19304937\n",
      "AT3G18780\tact2-1/act7-4\tPlants are dwarf and reach only 15% of the height of wild type. \u001b[01;31m\u001b[KRoot\u001b[m\u001b[Ks lack \u001b[01;31m\u001b[Kroot\u001b[m\u001b[K hairs- the initiate but do not develop further than a bulge. Leaves are small with reduced surface area and fewer lobes. Leaf trichomes are abnormal and contain fewer branches. Also defects in flower morphology, reduced fertility, abnormal inflorescence structure and abnormal silique development.\t19304937\n",
      "AT3G18780\tact2-1/act8-2\tLacks \u001b[01;31m\u001b[Kroot\u001b[m\u001b[K hairs.\u001b[01;31m\u001b[KRoot\u001b[m\u001b[K hairs initiate but do not develop further.\t19304937\n",
      "AT3G19050\tpok1-1/pok2-1\tAt seedling stage pok1/pok2 double mutants differ from wild-type by having smaller cotyledons as well as shorter, wider \u001b[01;31m\u001b[Kroot\u001b[m\u001b[Ks and hypocotyls. Adult plants exhibit a dwarfed stature, but all organs are present, although miniaturized. Plants are fertile but produce reduced numbers of seeds. Microscopic observation revealed highly disordered \u001b[01;31m\u001b[Kroot\u001b[m\u001b[K meristem cell patterns, with most walls lacking parallel or perpendicular alignment to the longitudinal axis of the \u001b[01;31m\u001b[Kroot\u001b[m\u001b[K and most cells exhibiting irregular shapes. Examination of cell wall patterns suggested that misoriented cell divisions were largely responsible for the irregular cell patterns. In pok1/pok2 double mutant embryos, misplaced cell walls were observed as early as the octant stage of embryogenesis. Throughout embryogenesis, the mispositioning of cell walls continues, eventually giving rise to slightly misshapen mature embryos with a stubby appearance, compared to wild-type. However, incomplete cell walls and wall stubs, a common feature of cytokinesis-defective mutants, were not observed in Toluidine blue-stained sections of double mutant embryos.\t16682350\n",
      "AT3G20630\tper1\tper1 plants show normal \u001b[01;31m\u001b[Kroot\u001b[m\u001b[K hair development under control conditions but displayed an inhibited \u001b[01;31m\u001b[Kroot\u001b[m\u001b[K hair elongation phenotype upon Pi deficiency. The per1 mutant exhibits a pleiotropic phenotype under control conditions, resembling Pi-deficient plants in several aspects.\t19969521\n",
      "AT3G20780\trhl3-1\tComplete absence of \u001b[01;31m\u001b[Kroot\u001b[m\u001b[K hairs, abnormal patterning of leaf epidermis, and dwarfism.\t9165126\n",
      "AT3G20840\tplt1-1\tThe mutation causes extra cells in the columella \u001b[01;31m\u001b[Kroot\u001b[m\u001b[K cap and the QC.\t15454085\n",
      "AT3G20840\tplt1-2\tThe mutation causes extra cells in the columella \u001b[01;31m\u001b[Kroot\u001b[m\u001b[K cap and the QC.\t15454085\n",
      "AT3G20840\tplt3-1/plt2-2/plt1-4\t\u001b[01;31m\u001b[KRoot\u001b[m\u001b[Kless.Embryonic \u001b[01;31m\u001b[Kroot\u001b[m\u001b[K differentiates 3 days after germination. Adventitious \u001b[01;31m\u001b[Kroot\u001b[m\u001b[Ks arrest 6 days after germination.\t17960244\n",
      "AT3G22200\tCS6385\tHypersensitivity to NaCl and LiCl but not to mannitol in \u001b[01;31m\u001b[Kroot\u001b[m\u001b[K growth assays. Under NaCl stress, pop2-1 mutant did not overaccumulate Na+ and Cl- but showed a slight decrease in K+ content. Additionally, mutant \u001b[01;31m\u001b[Kroot\u001b[m\u001b[Ks exhibited substantial metabolic changes upon salt stress, including overaccumulation of amino acids and decrease in carbohydrates content.\t20122158\n",
      "AT3G22200\tCS6385\tPollen tube growth defects in vivo. Primary \u001b[01;31m\u001b[Kroot\u001b[m\u001b[K and dark-grown hypocotyl growth inhibition, at least in part due to cell elongation defects, upon exogenous GABA exposure.\t21471118\n",
      "AT3G22200\tCS860071\tPrimary \u001b[01;31m\u001b[Kroot\u001b[m\u001b[K and dark-grown hypocotyl growth inhibition, at least in part due to cell elongation defects, upon exogenous GABA exposure.\t21471118\n",
      "AT3G22400\tSALK_044826\tdeveloped more emergent (stage VIII) and lateral \u001b[01;31m\u001b[Kroot\u001b[m\u001b[Ks at 10 d. has a moderate increase in the length of the primary \u001b[01;31m\u001b[Kroot\u001b[m\u001b[K.\t17369372\n",
      "AT3G22650\tceg\tincreased lateral \u001b[01;31m\u001b[Kroot\u001b[m\u001b[K formation\t16525894\n",
      "AT3G23050\tCS3077\tStronger inhibition of \u001b[01;31m\u001b[Kroot\u001b[m\u001b[K elongation by brassinolide compared to wildtype.\t16367964\n",
      "AT3G23490\tcyn-1\tcyn-1 seedlings are more sensitive to cyanate stress than wild type seedlings based on \u001b[01;31m\u001b[Kroot\u001b[m\u001b[K growth assays in the presence of KCNO.\t21494323\n",
      "AT3G23490\tcyn-7\tcyn-7 seedlings are more sensitive to cyanate stress than wild type seedlings based on \u001b[01;31m\u001b[Kroot\u001b[m\u001b[K growth assays in the presence of KCNO.\t21494323\n",
      "AT3G23630\tatipt1 atipt 3 atipt 5 atipt7\tExternal application of <i>trans</i>-zeatin partially rescues the growth of aerial parts of the mutant, and reduced its lateral \u001b[01;31m\u001b[Kroot\u001b[m\u001b[K elongation.\t17062755\n",
      "AT3G23630\tatipt1 atipt 3 atipt 5 atipt7\tReduced cambial activity and reduced secondary growth in both shoots and \u001b[01;31m\u001b[Kroot\u001b[m\u001b[Ks.\t19074290\n",
      "AT3G23630\tatipt1 atipt 3 atipt 5 atipt7\tRelative to wild type, both the number of lateral \u001b[01;31m\u001b[Kroot\u001b[m\u001b[Ks (longer than 1cm) and the total length of the lateral \u001b[01;31m\u001b[Kroot\u001b[m\u001b[Ks are increased.\t17062755\n",
      "AT3G23630\tatipt3 atipt 5 atipt 7\tEnhanced \u001b[01;31m\u001b[Kroot\u001b[m\u001b[K growth rate resulting in longer \u001b[01;31m\u001b[Kroot\u001b[m\u001b[Ks.\t17363254\n",
      "AT3G23630\tatipt3 atipt 5 atipt 7\tMutant \u001b[01;31m\u001b[Kroot\u001b[m\u001b[K meristems showed an increased number of meristematic cells already at two days after germination (dpg) and accumulated cells also after five dpg, vastly exceeding the fixed number of cells of wild-type meristems.\t17363254\n",
      "AT3G23630\tatipt3 atipt 5 atipt 7\tRelative to wild type, both the number of lateral \u001b[01;31m\u001b[Kroot\u001b[m\u001b[Ks (longer than 1cm) and the total length of the lateral \u001b[01;31m\u001b[Kroot\u001b[m\u001b[Ks are increased.\t17062755\n",
      "AT3G25520\toli5-1\tShorter primary \u001b[01;31m\u001b[Kroot\u001b[m\u001b[Ks with respect to the wild type.\t19392710\n",
      "AT3G25710\tSALK_013517C\tMutants showed elevated expression of PPCK under Pi starvation. Under high levels of Pi, \u001b[01;31m\u001b[Kroot\u001b[m\u001b[K hair formation is not suppressed in mutants and they contained significantly  more total Pi and more anthocyanin than the wild-type. DFR  expression in Pi-sufficient conditions was substantially increased  in the bhlh32 mutant.\n",
      "AT3G26090\tCS6537\tAltered cell proliferation; increased cell elongation in hypocotyls in darkness (longer hypocotyls than wild type); increased cell production in \u001b[01;31m\u001b[Kroot\u001b[m\u001b[Ks grown in light (longer \u001b[01;31m\u001b[Kroot\u001b[m\u001b[Ks than wild type); altered sugar sensing; kanamycin resistant or silenced. Tolerant to high glucose concentration (6%).\t14500984\n",
      "AT3G26090\tCS6538\tAltered cell proliferation; increased cell elongation in hypocotyls in darkness (longer hypocotyls than wild type); increased cell production in \u001b[01;31m\u001b[Kroot\u001b[m\u001b[Ks grown in light (longer \u001b[01;31m\u001b[Kroot\u001b[m\u001b[Ks than wild type); altered sugar sensing; kanamycin resistant or silenced. Tolerant to high glucose concentration (6%).\t14500984\n",
      "AT3G27060\ttso2-1\tAt the seedling stage, tso2-1 mutants were similar to the wild type, with normal \u001b[01;31m\u001b[Kroot\u001b[m\u001b[Ks, cotyledons, and young leaves. Abnormalities first appeared in the fifth rosette leaf and persisted in all subsequent leaves, floral  organs, and siliques. The abnormalities included white sectors in green organs, uneven thickness, rough surfaces, and irregular margins of leaves or floral organs. Stamens occasionally exhibited carpel characteristics indicating homeotic transformation. The rough and uneven sepals apparently resulted from abnormally enlarged  cells as well as cell clusters projecting above the epidermis. The white sectors appeared to result from an absence of chloroplasts in patches of mesophyll cells and the formation of large air spaces or tiny cells in subepidermal cell layers. Occasionally, tso2 mutants exhibited  fasciated stems on which a single SAM, a group of self-renewing cells at the shoot tip, was enlarged and split into multiple SAMs. Finally, tso2 mutants exhibited reduced fertility, with ;29% aborted seeds. tso2-1 floral tissues were found to contain significantly reduced levels of all four dNTPs. tso2-1 exhibited slightly  increased sensitivity to UV-C light, but only at high UV-C light levels.\t16399800\n",
      "AT3G27580\td6pkl3-2/d6pkl2-2/d6plk1-1/d6pk-1\tQuadruple mutant displays defects in many aspects of development. Defects include:abnormal leaves, leaves are narrow and twisted; reduced number of axillary shoots and reduced fertility. In addition, mutants also display single or fused cotyldons, reduced number of lateral \u001b[01;31m\u001b[Kroot\u001b[m\u001b[Ks and are mildy agravitropic.\t19168677\n"
     ]
    },
    {
     "name": "stdout",
     "output_type": "stream",
     "text": [
      "AT3G27920\taba2-2\tMutant showed a similar sensitivity to 25 mM trehalose as wild type (inhibition of \u001b[01;31m\u001b[Kroot\u001b[m\u001b[K growth).\t17031512\n",
      "AT3G27920\tsos3-1 siz1-1\tDecrease of macronutrients concentration in the MS salt formulation to 1/20X results in a substantial reduction in primary \u001b[01;31m\u001b[Kroot\u001b[m\u001b[K growth.\t15894620\n",
      "AT3G27920\tsos3-1 siz1-1\tMutant grown in greenhouse or growth chamber exhibits reduced shoot and \u001b[01;31m\u001b[Kroot\u001b[m\u001b[K biomass relative to the wild-type.\t15894620\n",
      "AT3G27920\tsos3-1 siz1-1\tSubstantially more pronounced prototypical Pi starvation \u001b[01;31m\u001b[Kroot\u001b[m\u001b[K architecture responses than sos3-1 or wild-type seedlings. On Pi-limited medium, mutant seedlings exhibit an inhibition of primary \u001b[01;31m\u001b[Kroot\u001b[m\u001b[K growth, an increase of lateral \u001b[01;31m\u001b[Kroot\u001b[m\u001b[K development and length, and higher \u001b[01;31m\u001b[Kroot\u001b[m\u001b[K/shoot fresh weight ratio than wild-type.  Enhanced resistance to Pseudomonas syringae DC3000.  Smaller in stature.  Impaired drought tolerance.\t15894620\n",
      "AT3G28860\tmdr1-1\tLateral \u001b[01;31m\u001b[Kroot\u001b[m\u001b[Ks initiate and emerge at normal rates in mdr1-1 mutants, but they elongate ~50% more slowly than wild type lateral \u001b[01;31m\u001b[Kroot\u001b[m\u001b[Ks, and have a 60% reduction in acropetal auxin transport. Primary \u001b[01;31m\u001b[Kroot\u001b[m\u001b[K elongation is not impaired in the mutants.\t17557807\n",
      "AT3G28860\tmdr1-1\tMutant mdr1-1 seedlings show an 80% reduction in acropetal auxin transport, but have normal levels of basipetal transport in their primary \u001b[01;31m\u001b[Kroot\u001b[m\u001b[Ks. Although gravitropism occurs normally in these mutants, they have a pronounced increase in \u001b[01;31m\u001b[Kroot\u001b[m\u001b[K waviness resulting in a threefold increase in absolute curvature  relative to wild type seedlings.\n",
      "AT3G28860\tmdr1-2\tLateral \u001b[01;31m\u001b[Kroot\u001b[m\u001b[Ks initiate and emerge at normal rates in mdr1-2 mutants, but they elongate ~50% more slowly than wild type lateral \u001b[01;31m\u001b[Kroot\u001b[m\u001b[Ks, and have a 60% reduction in acropetal auxin transport. Primary \u001b[01;31m\u001b[Kroot\u001b[m\u001b[K elongation is not impaired in the mutants.\t17557807\n",
      "AT3G28860\tmdr1-2\tMutant mdr1-2 seedlings show an 80% reduction in acropetal auxin transport, but have normal levels of basipetal transport in their primary \u001b[01;31m\u001b[Kroot\u001b[m\u001b[Ks. Although gravitropism occurs normally in these mutants, they have a pronounced increase in \u001b[01;31m\u001b[Kroot\u001b[m\u001b[K waviness resulting in a threefold increase in absolute curvature  relative to wild type seedlings.\n",
      "AT3G30775\tpdh1-2\tDecreased \u001b[01;31m\u001b[Kroot\u001b[m\u001b[K elongation and decreased dry weight for plants grown under low water potential conditions.\t21791601\n",
      "AT3G42170\tdaysleeper\tSeedlings homozygous for the T-DNA insertion completely lacked expression of DAYSLEEPER. Mutant seedlings grew very slowly, and showed no expansion of the cotyledons or development of normal leaves or floral organs. The \u001b[01;31m\u001b[Kroot\u001b[m\u001b[K remained short and had an excess of abnormal \u001b[01;31m\u001b[Kroot\u001b[m\u001b[K hairs. The main and lateral \u001b[01;31m\u001b[Kroot\u001b[m\u001b[K meristems appeared to have a normal organization when young, but as they matured became increasingly disorganized. After prolonged growth on plates, a few seedlings (1%) produced some photosynthetic tissue.\t16015335\n",
      "AT3G43190\tsus1 sus4\tThe activity of SUS was reduced to 10% of wild-type levels in leaves of the mutant, and was undetectable (reduced to less than 10% of wild-type levels) in \u001b[01;31m\u001b[Kroot\u001b[m\u001b[Ks. The activity of invertase was unaffected in \u001b[01;31m\u001b[Kroot\u001b[m\u001b[Ks of this mutant, but in leaves neutral invertase activity was elevated by about 40%.\n",
      "AT3G43190\tsus1 sus4\tThe double mutant line was much more  severely affected by flooding. After the 4 days of flooding, \u001b[01;31m\u001b[Kroot\u001b[m\u001b[K weight had increased by only 44% (compared to 72% for wild type), and there was not statistically significant gain in \u001b[01;31m\u001b[Kroot\u001b[m\u001b[K weight in the 3 days following flooding. At the end of the 7-day period, the flooding treatment had reduced the gain in \u001b[01;31m\u001b[Kroot\u001b[m\u001b[K weight by  71% relative to unflooded control plants (compared to 33% for wild type).\t17257168\n",
      "AT3G43190\tsus4\tThe amounts of glucose, fructose, sucrose, cellulose (\u001b[01;31m\u001b[Kroot\u001b[m\u001b[Ks) and starch in the mutant were not statistically significantly different  from those of the equivalent wild-type lines grown under the same conditions at the same time.\t17257168\n",
      "AT3G47450\tCS6511\tReduced nitric oxide synthase (NOS) production in leaves and \u001b[01;31m\u001b[Kroot\u001b[m\u001b[K tips; impaired organ growth: yellowish first true leaves, reduced \u001b[01;31m\u001b[Kroot\u001b[m\u001b[K and inflorescence growth, reduced fertility; defective abscisic acid- induced stomatal movements; kanamycin resistant\t14526079\n",
      "AT3G47690\teb1a-1\tWhen plants are grown on inclined agar plates \u001b[01;31m\u001b[Kroot\u001b[m\u001b[K growth is skewed to the left forming clockwise loops with twisted epidermal cell files.\t18281505\n",
      "AT3G50080\tvfb1-1/vfb2-1/vfb3-1/vfb4rnai\tDefects in lateral \u001b[01;31m\u001b[Kroot\u001b[m\u001b[K formation, delayed \u001b[01;31m\u001b[Kroot\u001b[m\u001b[K elongation and delayed plant growth. Reduced cell size.\t17435085\n",
      "AT3G50500\tsnrk2.2 snrk2.3\tsnrk2.2 snrk2.3 was found to be ABA-insensitive in seed germination and early seedling growth  snrk2.2 snrk2.3 seeds showed green cotyledons at 5 d after sowing (non of the wild-type seeds had germinated at this time)  snrk2.2 snrk2.3 had decreased seed dormancy  snrk2.2 snrk2.3 was insensitive to the stimulating effect of low ABA concentration (<1 uM)on \u001b[01;31m\u001b[Kroot\u001b[m\u001b[K growth  snrk2.2 snrk2.3 had a greatly reduced level of a 42-kD kinase activity capable of phosphorylating peptides from ABF (for ABA Response Element Binding Factor) transcription factors\n",
      "AT3G51160\tCS6243\tContains less than 2% of wild-type amount of fucose in aerial parts of the plant body. Fucose content in total \u001b[01;31m\u001b[Kroot\u001b[m\u001b[K polysaccharides is only reduced by about 40%.\t\n",
      "AT3G51160\tCS6243\tMutant grown axenically in the presence of 10 mM L-fucose contain WT amounts of fucose in both \u001b[01;31m\u001b[Kroot\u001b[m\u001b[K- and leaf-derived cell wall material.\t\n",
      "AT3G51160\tCS6244\tContains less than 2% of wild-type amount of fucose in aerial parts of the plant body. Fucose content in total \u001b[01;31m\u001b[Kroot\u001b[m\u001b[K polysaccharides is only reduced by about 40%.\t\n",
      "AT3G51160\tCS6244\tMutant grown axenically in the presence of 10 mM L-fucose contain WT amounts of fucose in both \u001b[01;31m\u001b[Kroot\u001b[m\u001b[K- and leaf-derived cell wall material.\t\n",
      "AT3G51780\tSAIL_144_A10\tMutant plants exhibited earlier flowering and shorter vegetative and reproductive phases, producing more branched \u001b[01;31m\u001b[Kroot\u001b[m\u001b[Ks and inflorescences compared to wild-type plants. Senescence occurred earlier in mutants than the wild-type plants.\t16636050\n",
      "AT3G51780\tSAIL_418_B09\tMutant plants exhibited earlier flowering and shorter vegetative and reproductive phases, producing more branched \u001b[01;31m\u001b[Kroot\u001b[m\u001b[Ks and inflorescences compared to wild-type plants. Senescence occurred earlier in mutants than the wild-type plants.\t16636050\n",
      "AT3G51780\tSALK_033845\tMutant plants exhibited earlier flowering and shorter vegetative and reproductive phases, producing more branched \u001b[01;31m\u001b[Kroot\u001b[m\u001b[Ks and inflorescences compared to wild-type plants. Senescence occurred earlier in mutants than the wild-type plants.\t16636050\n",
      "AT3G53020\tCS11180\tDefects in apical-basal gynoecium patterning (similar to ett and mp mutants). Mutant plant gynoecia had shorter ovaries and longer gynophores than the wild type, but the total length of the gynoecium is normal before pollination. After pollination, the gynoecium of failed to elongate, resulting in shorter siliques which contained arrested seeds, resulting in lower fertility. The stv1-1 ovules had shorter integuments than wild-type ones, and in some extreme cases, the gametophyte was protruding from the integuments. Mutant plants had defects in vascular system and embryo organization, which are also associated with auxin signaling. Most cotyledons in mutant plants had abnormal vascular patterns that were asymmetric and/or disconnected. Cotyledons were occasionally fused or single, indicating that stv1-1 is associated with defects in embryo patterning. Growth was retarded in both aerial and underground parts of stv1-1 mutants, resulting in plants that were smaller overall than the wild type. In stv1-1 \u001b[01;31m\u001b[Kroot\u001b[m\u001b[Ks, growth rates were reduced, while leaves were smaller than wild-type ones and pointed. These phenotypic observations suggested that STV1 had pleiotropic effects on whole-plant development in addition to specific effects on organs and tissues affected by known auxin signaling mutations.\t16227452\n"
     ]
    },
    {
     "name": "stdout",
     "output_type": "stream",
     "text": [
      "AT3G53020\tstv1-1\tDefects in apical-basal gynoecium patterning (similar to ett and mp mutants). Mutant plant gynoecia had shorter ovaries and longer gynophores than the wild type, but the total length of the gynoecium is normal before pollination. After pollination, the gynoecium of failed to elongate, resulting in shorter siliques which contained arrested seeds, resulting in lower fertility. The stv1-1 ovules had shorter integuments than wild-type ones, and in some extreme cases, the gametophyte was protruding from the integuments. Mutant plants had defects in vascular system and embryo organization, which are also associated with auxin signaling. Most cotyledons in mutant plants had abnormal vascular patterns that were asymmetric and/or disconnected. Cotyledons were occasionally fused or single, indicating that stv1-1 is associated with defects in embryo patterning. Growth was retarded in both aerial and underground parts of stv1-1 mutants, resulting in plants that were smaller overall than the wild type. In stv1-1 \u001b[01;31m\u001b[Kroot\u001b[m\u001b[Ks, growth rates were reduced, while leaves were smaller than wild-type ones and pointed. These phenotypic observations suggested that STV1 had pleiotropic effects on whole-plant development in addition to specific effects on organs and tissues affected by known auxin signaling mutations.\t16227452\n",
      "AT3G53900\tupp-1\tdramatic growth retardation; pale green to albino; flimsy \u001b[01;31m\u001b[Kroot\u001b[m\u001b[Ks with less branching; chloroplastic disorder.\t19563437\n",
      "AT3G54140\tCS859493\tThe ptr1-1 mutant grows normally on soil and on AM medium. Its pollen tubes germinate and elongate normally on germination media and in the presence of 100uM alanyl-ethionine (Ala-Eth), a toxic dipeptide. \u001b[01;31m\u001b[KRoot\u001b[m\u001b[K growth of ptr1-1 mutants exceeds wild type \u001b[01;31m\u001b[Kroot\u001b[m\u001b[K growth when Ala-Eth is present in the growth media. The dry weight of ptr1-1 mutants is lower than that of wild type plants when both are grown with Pro-Ala or Ala-Ala dipeptides as the nitrogen source.\t18753286\n",
      "AT3G54140\tSALK_130803C\tThe ptr1-2 mutant grows normally on soil and on AM medium. Its pollen tubes germinate and elongate normally on germination media. The tubes can germinate and elongate normally in the presence of 100uM alanyl-ethionine (Ala-Eth), a toxic dipeptide. \u001b[01;31m\u001b[KRoot\u001b[m\u001b[K growth of ptr1-2 mutants exceeds wild type \u001b[01;31m\u001b[Kroot\u001b[m\u001b[K growth when Ala-Eth is present in the growth media. The dry weight of ptr1-2 mutants is lower than that of wild type plants when both are grown with Pro-Ala or Ala-Ala dipeptides as the nitrogen source.\t18753286\n",
      "AT3G54140\tatptr1-2 atptr5-1\tThe ptr1-2 ptr5-2 double mutant grows normally on soil and on AM medium. Its pollen tubes germinate and elongate normally on germination media. The tubes can germinate normally in the presence of 100uM alanyl-ethionine (Ala-Eth), a toxic dipeptide, but they elongate more than wild type pollen tubes.  \u001b[01;31m\u001b[KRoot\u001b[m\u001b[K growth of ptr1-2 ptr5-1 mutants exceeds wild type \u001b[01;31m\u001b[Kroot\u001b[m\u001b[K growth when Ala-Eth is present in the growth media. The dry weight of ptr1-2 ptr5-1 double mutants is lower than that of wild type plants when both are grown with Pro-Ala or Ala-Ala dipeptides as the nitrogen source.\t18753286\n",
      "AT3G55830\tSALK_014479\tMutant plants have dramatically reduced growth habit, defects in vascular formation and reduced cell-cell adhesion properties in hypocotyl and cotyledon tissues. Secondary growth is enhanced in epc1 hypocotyl tissues. When germinated on MS agar plates, cotyledon and leaf expansion, primary \u001b[01;31m\u001b[Kroot\u001b[m\u001b[K elongation and hypocotyl elongation of the mutant seedlings were reduced compared with the wild type. Epidermal cells of hypocotyls and \u001b[01;31m\u001b[Kroot\u001b[m\u001b[Ks exhibited a left-handed spiraled organization which was not present in the wild type. Cotyledons of epc1 were curled at the edges, thicker and more fragile than the wild type. Vascular patterning was disrupted in the epc1 mutants. Callose deposition in the vasculature of epc1 cotyledons was reduced compared to the wild type and the majority of seedlings showed no vascular-specific deposition. However, the majority of epc1 seedlings showed ectopic callose deposition seen as extensive punctate distribution of fluorescent signal throughout the cotyledons, leaves, hypocotyl and \u001b[01;31m\u001b[Kroot\u001b[m\u001b[K tissues.\t16045474\n",
      "AT3G55830\tSALK_046781\tMutant plants have dramatically reduced growth habit, defects in vascular formation and reduced cell-cell adhesion properties in hypocotyl and cotyledon tissues. Secondary growth is enhanced in epc1 hypocotyl tissues. When germinated on MS agar plates, cotyledon and leaf expansion, primary \u001b[01;31m\u001b[Kroot\u001b[m\u001b[K elongation and hypocotyl elongation of the mutant seedlings were reduced compared with the wild type. Epidermal cells of hypocotyls and \u001b[01;31m\u001b[Kroot\u001b[m\u001b[Ks exhibited a left-handed spiraled organization which was not present in the wild type. Cotyledons of epc1 were curled at the edges, thicker and more fragile than the wild type. Vascular patterning was disrupted in the epc1 mutants. Callose deposition in the vasculature of epc1 cotyledons was reduced compared to the wild type and the majority of seedlings showed no vascular-specific deposition. However, the majority of epc1 seedlings showed ectopic callose deposition seen as extensive punctate distribution of fluorescent signal throughout the cotyledons, leaves, hypocotyl and \u001b[01;31m\u001b[Kroot\u001b[m\u001b[K tissues.\t16045474\n",
      "AT3G55830\tepc1-WiscDsLOX293-296invM1\tMutant plants have dramatically reduced growth habit, defects in vascular formation and reduced cell-cell adhesion properties in hypocotyl and cotyledon tissues. Secondary growth is enhanced in epc1 hypocotyl tissues. When germinated on MS agar plates, cotyledon and leaf expansion, primary \u001b[01;31m\u001b[Kroot\u001b[m\u001b[K elongation and hypocotyl elongation of the mutant seedlings were reduced compared with the wild type. Epidermal cells of hypocotyls and \u001b[01;31m\u001b[Kroot\u001b[m\u001b[Ks exhibited a left-handed spiraled organization which was not present in the wild type. Cotyledons of epc1 were curled at the edges, thicker and more fragile than the wild type. Vascular patterning was disrupted in the epc1 mutants. Callose deposition in the vasculature of epc1 cotyledons was reduced compared to the wild type and the majority of seedlings showed no vascular-specific deposition. However, the majority of epc1 seedlings showed ectopic callose deposition seen as extensive punctate distribution of fluorescent signal throughout the cotyledons, leaves, hypocotyl and \u001b[01;31m\u001b[Kroot\u001b[m\u001b[K tissues.\t16045474\n",
      "AT3G59420\tacr4-2\tIncreased number of lateral \u001b[01;31m\u001b[Kroot\u001b[m\u001b[K meristems initate.\t18948541\n",
      "AT3G59420\tacr4-2/ccr1-3\tIncreased number of lateral \u001b[01;31m\u001b[Kroot\u001b[m\u001b[K meristems, greater than acr4 single mutant alone.\t18948541\n",
      "AT3G59770\tsac9-1\tslow growing, small leaves with short petioles, accumulates anthocyanin in the leaves, small and constitutively closed guard cells, shorter primary \u001b[01;31m\u001b[Kroot\u001b[m\u001b[Ks, fewer lateral \u001b[01;31m\u001b[Kroot\u001b[m\u001b[Ks, hypersensitive to osmotic stress, cold stress and high-light stress\t15923324\n",
      "AT3G59770\tsac9-2\tslow growing, small leaves with short petioles, accumulates anthocyanin in the leaves, small and constitutively closed guard cells, shorter primary \u001b[01;31m\u001b[Kroot\u001b[m\u001b[Ks, fewer lateral \u001b[01;31m\u001b[Kroot\u001b[m\u001b[Ks, hypersensitive to osmotic stress, cold stress and high-light stress\t15923324\n",
      "AT3G61650\tTUBG1-1/tubg1-1 TUBG2-2/tubg2-2\tDuring early seedling growth, cotyledons were small and distorted, and only two leaf primordia were inittaited at the shoot apex. Dome-shape soot apical meristem was distorted. \u001b[01;31m\u001b[KRoot\u001b[m\u001b[K growth was inhibited, and \u001b[01;31m\u001b[Kroot\u001b[m\u001b[K apex was swollen.\t16698945\n",
      "AT3G61890\tathb12-1\tDecreased sensitivity to ABA in a \u001b[01;31m\u001b[Kroot\u001b[m\u001b[K elongation assay with respect to wild type.  The response was consistently approximately 10% less than the wild-type response.\t15604708\n",
      "AT3G62980\tCS3798\tresistant to auxin inhibition of \u001b[01;31m\u001b[Kroot\u001b[m\u001b[K elongation; deficient in auxin-regulated growth processes including: reduced lateral \u001b[01;31m\u001b[Kroot\u001b[m\u001b[K formation, reduced temperature-induced hypocotyl elongation, and a modest reduction in apical dominance.\t9436980\n"
     ]
    },
    {
     "name": "stdout",
     "output_type": "stream",
     "text": [
      "AT3G63010\tgid1a-1 gid1b-1\tOnly slight differences between mutant and wild type plants with regard to rosette radius and \u001b[01;31m\u001b[Kroot\u001b[m\u001b[K length.\t17194763\n",
      "AT3G63010\tgid1a-1 gid1b-1 gid1c-1\tDramatic reduction in rosette radius and \u001b[01;31m\u001b[Kroot\u001b[m\u001b[K length compared to wild type (87 and 74% reduction, respectively).\t17194763\n",
      "AT3G63010\tgid1b-1\tOnly slight differences between mutant and wild type plants with regard to rosette radius and \u001b[01;31m\u001b[Kroot\u001b[m\u001b[K length.\t17194763\n",
      "AT3G63010\tgid1b-1 gid1c-1\tOnly slight differences between mutant and wild type plants with regard to rosette radius and \u001b[01;31m\u001b[Kroot\u001b[m\u001b[K length.\t17194763\n",
      "AT3G63110\tatipt1 atipt 3 atipt 5 atipt7\tExternal application of <i>trans</i>-zeatin partially rescues the growth of aerial parts of the mutant, and reduced its lateral \u001b[01;31m\u001b[Kroot\u001b[m\u001b[K elongation.\t17062755\n",
      "AT3G63110\tatipt1 atipt 3 atipt 5 atipt7\tReduced cambial activity and reduced secondary growth in both shoots and \u001b[01;31m\u001b[Kroot\u001b[m\u001b[Ks.\t19074290\n",
      "AT3G63110\tatipt1 atipt 3 atipt 5 atipt7\tRelative to wild type, both the number of lateral \u001b[01;31m\u001b[Kroot\u001b[m\u001b[Ks (longer than 1cm) and the total length of the lateral \u001b[01;31m\u001b[Kroot\u001b[m\u001b[Ks are increased.\t17062755\n",
      "AT3G63110\tatipt3 atipt 5 atipt 7\tEnhanced \u001b[01;31m\u001b[Kroot\u001b[m\u001b[K growth rate resulting in longer \u001b[01;31m\u001b[Kroot\u001b[m\u001b[Ks.\t17363254\n",
      "AT3G63110\tatipt3 atipt 5 atipt 7\tMutant \u001b[01;31m\u001b[Kroot\u001b[m\u001b[K meristems showed an increased number of meristematic cells already at two days after germination (dpg) and accumulated cells also after five dpg, vastly exceeding the fixed number of cells of wild-type meristems.\t17363254\n",
      "AT3G63110\tatipt3 atipt 5 atipt 7\tRelative to wild type, both the number of lateral \u001b[01;31m\u001b[Kroot\u001b[m\u001b[Ks (longer than 1cm) and the total length of the lateral \u001b[01;31m\u001b[Kroot\u001b[m\u001b[Ks are increased.\t17062755\n",
      "AT4G00710\tSALK_096500C\tshorter hypocotyl length when grown in the dark on regular medium or medium containing the BR biosynthetic inhibitor brassinazole (BRZ).  reduced responses to BL in hypocotyl elongation, \u001b[01;31m\u001b[Kroot\u001b[m\u001b[K inhibition, and expression of the BZR1 target gene DWF4 and the BES1 target gene SAUR-Ac.\t18653891\n",
      "AT4G01100\tCS333468\tHomozygotes have shorter \u001b[01;31m\u001b[Kroot\u001b[m\u001b[Ks than WT. Respiration rates are significantly lower than in WT \u001b[01;31m\u001b[Kroot\u001b[m\u001b[Ks.\t18923018\n",
      "AT4G01370\tmpk4\tDwarf, delayed growth, short \u001b[01;31m\u001b[Kroot\u001b[m\u001b[Ks. Defective \u001b[01;31m\u001b[Kroot\u001b[m\u001b[K hairs that are branched and swollen.Ectopic \u001b[01;31m\u001b[Kroot\u001b[m\u001b[K hairs.In epidermal cells, cortical microtubules are bundled and disorganized.\t20215588\n",
      "AT4G02280\tsus2 sus3\tActivity of SUS was reduced by about one-third in \u001b[01;31m\u001b[Kroot\u001b[m\u001b[Ks of the double mutant relative to Col-0, but otherwise the mutant was indistinguishable from Col-0.\t17257168\n",
      "AT4G02280\tsus3 (SALK)\tThe amounts of glucose, fructose, sucrose, cellulose (\u001b[01;31m\u001b[Kroot\u001b[m\u001b[Ks) and starch in the mutant were not statistically significantly different  from those of the equivalent wild-type lines grown under the same conditions at the same time.\t17257168\n",
      "AT4G02280\tsus3 (WISC)\tThe amounts of glucose, fructose, sucrose, cellulose (\u001b[01;31m\u001b[Kroot\u001b[m\u001b[Ks) and starch in the mutant were not statistically significantly different  from those of the equivalent wild-type lines grown under the same conditions at the same time.\t17257168\n",
      "AT4G02780\tga1-3 (Col-0)\tGA-signaling promoting \u001b[01;31m\u001b[Kroot\u001b[m\u001b[K and leaf expansion is not completely abolished.\t17194763\n",
      "AT4G05530\tibr1-1\tThe ibr1 mutants are resistant to the inhibitory effects of indole-3-butyric acid on \u001b[01;31m\u001b[Kroot\u001b[m\u001b[K elongation, but their \u001b[01;31m\u001b[Kroot\u001b[m\u001b[Ks show the normal response to indole-3-acetic acid.\t18725356\n",
      "AT4G05530\tibr1-2\tThe ibr1-2 mutants are resistant to the inhibitory effects of intermediate levels of indole-3-butyric acid on \u001b[01;31m\u001b[Kroot\u001b[m\u001b[K elongation, but their \u001b[01;31m\u001b[Kroot\u001b[m\u001b[Ks show the normal response to indole-3-acetic acid, NAA, and 2.4-D. Their \u001b[01;31m\u001b[Kroot\u001b[m\u001b[K growth is also resistant to 2,4-DB, a compound that can be processed to produce 2,4-D via beta-oxidation. Lateral \u001b[01;31m\u001b[Kroot\u001b[m\u001b[K proliferation in response to IBA is also reduced dramatically in ibr1-2 mutants, although they still produce normal numbers of lateral \u001b[01;31m\u001b[Kroot\u001b[m\u001b[Ks in response to NAA. ibr1-2 mutants do not require sucrose for dark-grown hypocotyl elongation suggesting that they do not have a general defect in peroxisomal beta-oxidation. And their \u001b[01;31m\u001b[Kroot\u001b[m\u001b[K growth is not inhibited by propionate or isobutyrate suggesting that IBR1 is not required for the metabolism of these compounds. ibr1-2 mutants are fertile, suggesting that IBR1 is not required for JA metabolism, and they also have a wild-type size, morphology, and pigmentation.\t18725356\n",
      "AT4G05530\tibr1-4\tThe ibr1 mutants are resistant to the inhibitory effects of indole-3-butyric acid on \u001b[01;31m\u001b[Kroot\u001b[m\u001b[K elongation, but their \u001b[01;31m\u001b[Kroot\u001b[m\u001b[Ks show the normal response to indole-3-acetic acid.\t18725356\n",
      "AT4G05530\tibr1-5\tThe ibr1 mutants are resistant to the inhibitory effects of indole-3-butyric acid on \u001b[01;31m\u001b[Kroot\u001b[m\u001b[K elongation, but their \u001b[01;31m\u001b[Kroot\u001b[m\u001b[Ks show the normal response to indole-3-acetic acid.\t18725356\n",
      "AT4G05530\tibr1-7\tThe ibr1 mutants are resistant to the inhibitory effects of indole-3-butyric acid on \u001b[01;31m\u001b[Kroot\u001b[m\u001b[K elongation, but their \u001b[01;31m\u001b[Kroot\u001b[m\u001b[Ks show the normal response to indole-3-acetic acid.\t18725356\n",
      "AT4G05530\tibr1-8\tThe ibr1 mutants are resistant to the inhibitory effects of indole-3-butyric acid on \u001b[01;31m\u001b[Kroot\u001b[m\u001b[K elongation, but their \u001b[01;31m\u001b[Kroot\u001b[m\u001b[Ks show the normal response to indole-3-acetic acid.\t18725356\n",
      "AT4G07400\tvfb1-1/vfb2-1/vfb3-1/vfb4rnai\tDefects in lateral \u001b[01;31m\u001b[Kroot\u001b[m\u001b[K formation, delayed \u001b[01;31m\u001b[Kroot\u001b[m\u001b[K elongation and delayed plant growth. Reduced cell size.\t17435085\n",
      "AT4G08950\texo-1\tReduced biomass. Plants are smaller due to defects in cell expansion. \u001b[01;31m\u001b[KRoot\u001b[m\u001b[K length is decreased. Slightly delayed flowering.\t19216774\n",
      "AT4G10310\tathtk1-3\tathtk1-3 mutants have no obvious phenotypic abnormalities when grown in typical greenhouse conditions. But, across a range of different hydroponically-provided sodium concentrations, these mutants accumulate less sodium in their \u001b[01;31m\u001b[Kroot\u001b[m\u001b[Ks than wild type plants and more sodium in their leaves than wild type plants. Accordingly, the \u001b[01;31m\u001b[Kroot\u001b[m\u001b[Ks of these mutants are less sensitive to salt in \u001b[01;31m\u001b[Kroot\u001b[m\u001b[K elongation assays, and the leaves are hypersensitive to salt in plant growth assays.\t12417304\n",
      "AT4G10350\tbrn1-1; brn2-1\tColumella \u001b[01;31m\u001b[Kroot\u001b[m\u001b[K cap cells fail to detach.\t20197506\n",
      "AT4G10350\tsmb-3; brn1-1; brn2-1\t\u001b[01;31m\u001b[KRoot\u001b[m\u001b[K cap cells appear as a mass lacking uniform morphology. Cells can be highly elongated and twisted.   Cells fail to stop elongation and to  adopt the rigid, rectangular morphology of COL cells.   When compared with smb-3, the triple mutant has thesame number of complete LRC layers, and the appearance of the cells in those layers closely resembles that in smb-3. However, partial remains of older LRC layers remain attached to the meristem in the triple mutant, giving it a messy appearance. Remains of old LRC cap layers can be  found still attached to the \u001b[01;31m\u001b[Kroot\u001b[m\u001b[K along its whole length.\n",
      "AT4G10380\tSALK_122287C\tInhibition \u001b[01;31m\u001b[Kroot\u001b[m\u001b[K, shoot, flowers and siliques growth when Boron was supplied at concentrations of <10 uM.\t16679457\n",
      "AT4G14550\tslr-1\tAbsence of lateral \u001b[01;31m\u001b[Kroot\u001b[m\u001b[Ks. Defective response to auxin stimulus in the \u001b[01;31m\u001b[Kroot\u001b[m\u001b[K.\t11862947\n",
      "AT4G14850\tloi1-1\tloi1-1 mutants are less sensitive to inhibitors of the MEP and MVA pathways of isoprenoid biosynthesis than wild type plants. Lovastatin (an inhibitor of HMG CoA reductase and the MVA pathway), normally inhibits \u001b[01;31m\u001b[Kroot\u001b[m\u001b[K, growth alters \u001b[01;31m\u001b[Kroot\u001b[m\u001b[K tip morphology, halts lateral \u001b[01;31m\u001b[Kroot\u001b[m\u001b[K development, causes cotyledon contraction, and arrests true leaf development. But, all of these phenotypes are less prominent in loi1-1 mutants treated with lovastatin. Sterol levels are reduced less in loi1-1 mutants than in wild-type plants following treatment with lovastatin. HMG1 and HMG2 transcript levels are not altered in loi1-1 mutants, however, there is increased HMG CoA reductase activity in loi1-1 mutants compared to wild type when the plants are treated with lovastatin. Clomazone (an inhibitor of DXS and the MEP pathway) normally causes albinoism and defects in thylakoid development in wild type plants, but loi1-1 mutants treated with the same concentration of clomazone can develop green leaves and normal chloroplasts. The transcript and protein levels for DXS are the same for wild-type and loi1-1 mutants.\t17213228\n"
     ]
    },
    {
     "name": "stdout",
     "output_type": "stream",
     "text": [
      "AT4G16760\tacx1-3\tPlants display decreased sensitivity to the inhibitory effect of indole-3-butyric acid (IBA) on \u001b[01;31m\u001b[Kroot\u001b[m\u001b[K elongation, while remaining sensitive to inhibitory concentrations of indole-3-acetic acid.  They maintain their ability to initiate lateral \u001b[01;31m\u001b[Kroot\u001b[m\u001b[Ks in response to IBA.\t15743450\n",
      "AT4G17615\tcbl1 cbl9\tgrowth of the cbl1  cbl9 double mutant was significantly more inhibited than the  growth of wild-type \u001b[01;31m\u001b[Kroot\u001b[m\u001b[Ks under low-K+ conditions. Double mutants lost  water significantly more slowly than the ecotype hybrid  plants. Hypersensitive to ABA treatmnet.\n",
      "AT4G18750\tdot4-1\tdot4-1 mutants have an aberrant midgap leaf and cotyledon venation pattern and their \u001b[01;31m\u001b[Kroot\u001b[m\u001b[Ks are slightly shorter than wild type \u001b[01;31m\u001b[Kroot\u001b[m\u001b[Ks.\t18643975\n",
      "AT4G18780\tCS18\tWith the exception of the collapsed xylem phenotype, both the organization of the vascular tissue and the organization of the entire stem of the three irx mutants are identical to that of the wild type. In addition to stems, the collapsed xylem phenotype of irx plants has been observed in mature hypocotyls and in the primary \u001b[01;31m\u001b[Kroot\u001b[m\u001b[K and petioles.\t9165747\n",
      "AT4G24400\tcipk8-1\tIncreased primary \u001b[01;31m\u001b[Kroot\u001b[m\u001b[K length in the cipk8 mutants. Expression of AttDT, BOR1, CHL1 and NRT2.1, NIA1, NIA2 and NiR was reduced in the mutant.\t18798873\n",
      "AT4G24670\tSALK_021258C\tThis mutant does not have any obvious morphological defects and it responds normally to ACC and IAA in hypocotyl and \u001b[01;31m\u001b[Kroot\u001b[m\u001b[K elongation assays.\t18394997\n",
      "AT4G24670\twei8-1 tar1-1 tar2-1\tThese triple mutants do not make a primary \u001b[01;31m\u001b[Kroot\u001b[m\u001b[K, they have an extremely reduced hypocotyl, and they lack discernible vasculature in their cotyledons. These mutants have a higher propensity to develop a single cotyledon than wild-type embryos.\t18394997\n",
      "AT4G24670\twei8-1 tar2-1\tThe \u001b[01;31m\u001b[Kroot\u001b[m\u001b[Ks of this mutant show almost no sensitivity to the ethylene precursor ACC, but sensitivity is largely restored by the addition of low levels of IAA (but not tryptophan). ACC-triggered dark-grown apical hook formation is also compromised in this mutant, and it is not restored by the addition of IAA. \u001b[01;31m\u001b[KRoot\u001b[m\u001b[K gravitropism is more disrupted in this double mutant than in either single mutant. The mutant plants are shorter than wild type, have reduced venation in their leaves, exhibit reduced apical dominance, and produce abnormal flowers. DR5:GUS expression is also diminished in these double mutants, consistent with a ~50% reduction in IAA levels in these mutants. \u001b[01;31m\u001b[KRoot\u001b[m\u001b[K meristematic cells differentiate in this mutant, leading to a loss of the stem cell niche and the cessation of \u001b[01;31m\u001b[Kroot\u001b[m\u001b[K growth.\t18394997\n",
      "AT4G24670\twei8-1 tar2-2\tACC-triggered dark-grown apical hook formation is compromised in this mutant. \u001b[01;31m\u001b[KRoot\u001b[m\u001b[K meristematic cells differentiate in this mutant, leading to a loss of the stem cell niche and the cessation of \u001b[01;31m\u001b[Kroot\u001b[m\u001b[K growth. This mutant also lacks valves in the gynoecia.\t18394997\n",
      "AT4G24730\tatnrt3.2-1\tWhen grown on plates containing 250 &#956;M NO3- as the sole source of available N for 10 days, mutant plants grew poorly, shoot growth being particularly affected. \u001b[01;31m\u001b[KRoot\u001b[m\u001b[Ks and shoots accumulated significantly less NO3- than wild type. Nitrate influx into \u001b[01;31m\u001b[Kroot\u001b[m\u001b[Ks of mutant plants was reduced.\t16415212\n",
      "AT4G26080\tCS22\tMutant showed a similar sensitivity to 25 mM trehalose as wild type (inhibition of \u001b[01;31m\u001b[Kroot\u001b[m\u001b[K growth).\t17031512\n",
      "AT4G26080\tabi1td\tmutant showed ABA-hypersensitive regulation of seed germination and \u001b[01;31m\u001b[Kroot\u001b[m\u001b[K growth; increased sensitivity to salt and osmotic stress during germination; increased sensitivity to glucose during germination; reduced leaf transpiration rate; increased ABA-induced stomatal closure; stomatal responses to 0.5 mM H2O2 and Ca2+ as WT; WT sensitivity to GA, NAA and ACC; mutant plants had decreased ABA content in response to drought and ozone; increased ACC production in response to ozone.\t19705149\n",
      "AT4G26455\twip1-1 wip2-1 wip3-1\tBoth endogenous RanGAP1 and RanGAP1-GFP were absent from the nuclear envelope in \u001b[01;31m\u001b[Kroot\u001b[m\u001b[K-tip cells of the triple mutant.\t17600715\n",
      "AT4G26455\twip1-1 wip2-1 wip3-1\tMutant plants had no observable defect in growth or development under standard laboratory conditions and no change in auxin sensitivity was observed in a standard \u001b[01;31m\u001b[Kroot\u001b[m\u001b[K-elongation assay.\t17600715\n",
      "AT4G26610\td6pkl2-2/d6plk1-1/d6pk-1\tQuadruple mutant displays defects in many aspects of development. Defects include:abnormal leaves, leaves are narrow and twisted; reduced number of axillary shoots and reduced fertility. In addition, mutants also display single or fused cotyldons, reduced number of lateral \u001b[01;31m\u001b[Kroot\u001b[m\u001b[Ks and are mildy agravitropic.\t19168677\n",
      "AT4G26610\td6pkl3-2/d6pkl2-2/d6plk1-1/d6pk-1\tQuadruple mutant displays defects in many aspects of development. Defects include:abnormal leaves, leaves are narrow and twisted; reduced number of axillary shoots and reduced fertility. In addition, mutants also display single or fused cotyldons, reduced number of lateral \u001b[01;31m\u001b[Kroot\u001b[m\u001b[Ks and are mildy agravitropic.\t19168677\n",
      "AT4G26690\tRIKEN 15-1096-1\tHomozygotes: Tip growth in almost all \u001b[01;31m\u001b[Kroot\u001b[m\u001b[K hair cells was blocked due to rupture of the tip.\t18718934\n",
      "AT4G26690\tSALK_024208\tHomozygotes: Tip growth in almost all \u001b[01;31m\u001b[Kroot\u001b[m\u001b[K hair cells was blocked due to rupture of the tip.\t18718934\n",
      "AT4G26690\tshv3-1\tHomozygotes: Tip growth in almost all \u001b[01;31m\u001b[Kroot\u001b[m\u001b[K hair cells was blocked due to rupture of the tip.\t18718934\n",
      "AT4G26690\tshv3-2;svl1-1\tIncreased anthocyanin accumulation. Collapsed trichomes.Brown discoloration around endodermis in the hypocotyl and \u001b[01;31m\u001b[Kroot\u001b[m\u001b[K due to ectopic lignification. Guard cells are larger than WT due to swollen ventral sides. Swollen hypocotyl epidermis with uneven surface. Four-day old dark-grown seedlings have shorter, thicker hypocotyls than WT.   Cell wall analysis: reduced crystalline cellulose. Increased starch content. Neutral sugar content is same as WT. Increases protein. Increased uronic acid and decreased amount of methyl esterification.\n",
      "AT4G27630\tgtg1-1 gtg2-1\tThese double mutants are hyposensitive to ABA in seed germination, post-germination development, \u001b[01;31m\u001b[Kroot\u001b[m\u001b[K elongation, ABA-induced gene expression, and ABA-induced stomatal closure assays. However, they have a normal response to ABA in inhibition of stomatal opening assays. These mutants are smaller than wild-type plants and flower earlier. They have normal endogenous levels of ABA. No differences in the transcript levels of CHLH, FCA, or GCR2 are observed in these mutants compared to wild-type plants.\t19135895\n",
      "AT4G29040\thlr-1\tThe hlr-1 (halted \u001b[01;31m\u001b[Kroot\u001b[m\u001b[K-1) mutant has defective cell organization in the post-embryonic \u001b[01;31m\u001b[Kroot\u001b[m\u001b[K and shoot apical meristems. Quiescent center cell identity in the \u001b[01;31m\u001b[Kroot\u001b[m\u001b[K is lost after germination and expression of the organizing center marker WUSCHEL in the shoot is disrupted. However, cells in differentiated tissues maintain their normal identities. hlr-1 mutants have shorter \u001b[01;31m\u001b[Kroot\u001b[m\u001b[Ks, aberrant lateral \u001b[01;31m\u001b[Kroot\u001b[m\u001b[K primordia positioning, abnormal leaf shape and phyllotaxy, and irregular shoot structure.\t15073153\n",
      "AT4G29040\thlr-2\tThe hlr-2 mutant is reported to share the same morphological characteristics with the hlr-1 mutant, but to have a slightly milder phenotype. hlr-1 has defects in \u001b[01;31m\u001b[Kroot\u001b[m\u001b[K and shoot apical meristem organization, and \u001b[01;31m\u001b[Kroot\u001b[m\u001b[K and shoot development.\t15073153\n",
      "AT4G29040\thlr-2\tThe rpt2a-2 mutant has modest defects in ubiquitin-mediated proteolysis via the 26S proteasome, rendering it somewhat more sensitive to misfolded proteins that are degraded in a 26S-proteasome / Ub-dependent manner. However, it also has modestly increased levels of the 20S core particle of the proteasome, and exhibits some reduced sensitivity to oxidative stress, presumably since oxidatively damaged proteins can be degraded in a 20S proteasome-dependent, but 26S proteasome /Ub-independent manner. The mutant has shorter \u001b[01;31m\u001b[Kroot\u001b[m\u001b[Ks than WT plants.\t17971041\n"
     ]
    },
    {
     "name": "stdout",
     "output_type": "stream",
     "text": [
      "AT4G29130\tCS6383\tAt the flowering stage, the mutant has a smaller \u001b[01;31m\u001b[Kroot\u001b[m\u001b[K system, tiny leaves with delayed senescence, shorter petioles and inflorescences, and a reduced number of flowers and siliques. Trichomes are normal and flower size and shape, and produced fertile seeds (albeit in reduced number).\t12690200\n",
      "AT4G29130\tCS6383\tDefect in elongation of hypocotyl, \u001b[01;31m\u001b[Kroot\u001b[m\u001b[Ks, and cotyledons in dim light (15 &mu;mol/m2/s).\t12690200\n",
      "AT4G29130\tCS6383\tInsensitive to high-glucose repression of cotyledon expansion, chlorophyll accumulation, true-leaf development and \u001b[01;31m\u001b[Kroot\u001b[m\u001b[K elongation. The response is specific to glucose but not to osmotic changes.\t17081979\n",
      "AT4G29170\tAtmnd1-delta1\tMutant plants had normal vegetative development, but flowers failed to produce pollen and seeds; no viable pollen was found in the anthers. In developing pollen mother cells, meiotic progression was interrupted at anaphase I, where chromosomes are randomly distributed and some appear fragmented. Normal embryo sac development was disrupted too, compared to the wild type. AtRAD51 gene was accumulated in the inflorescence nuclei of homozygous plants, while it was absent in the inflorescence nuclei in wild type plants. After exposure to gamma-rays, the levels of AtRAD51 was unchanged in the inflorescence nuclei in mutant plants, while in the wild type nuclei AtRAD51 expression was strongly induced. Compared to the wild type, mutant seedlings were hypersensitive to gamma-irradiation, had shorter \u001b[01;31m\u001b[Kroot\u001b[m\u001b[Ks and fewer leaves.\t16442857\n",
      "AT4G29210\tggt4-1\tThese mutant plants have reduced levels of gamma-glutamyl transpeptidase activity, especially in the \u001b[01;31m\u001b[Kroot\u001b[m\u001b[Ks, compared with wild-type plants.\t17316176\n",
      "AT4G29860\ttan-1\tembryo and seedling defective. Mutant plants had defects in both embryo and seedling development. Mutant seeds accumulate anthocyanin, are intolerant to desiccation, cotyledons did not curl, and had often fused along one side of their margins. Trichomes were formed on the cotyledons during embryogenesis, and the accumulation of storage proteins and lipids were reduced. Tan mutants die as embryos, but immature mutant seeds can be germinated in culture. However, tan mutant seedlings are defective in shoot and \u001b[01;31m\u001b[Kroot\u001b[m\u001b[K development with stunted \u001b[01;31m\u001b[Kroot\u001b[m\u001b[Ks and hypocotyls that fail to elongate in the dark. True leaves rarely emerged and plants die at seedling stage.\t16113228\n",
      "AT4G31920\tarr1-3 arr10-5 arr12-1\tsevere primary \u001b[01;31m\u001b[Kroot\u001b[m\u001b[K abnormalities; premature termination of primary \u001b[01;31m\u001b[Kroot\u001b[m\u001b[K growth; substantially reduced sensitivity to cytokinin in the hypocotyl growth response assay; smaller rosette diameter; altered chlorophyll and anthocyanin production.\t18723577\n",
      "AT4G32040\tSALK_000339\tNo visible \u001b[01;31m\u001b[Kroot\u001b[m\u001b[K phenotype.\t16463096\n",
      "AT4G32700\tSALK_018851\tSimilar to teb-1, with a typical short-\u001b[01;31m\u001b[Kroot\u001b[m\u001b[K phenotype and the aerial system that is reduced in size, with highly serrated and asymmetric leaves and a fasciated stem.\t16517762\n",
      "AT4G32700\tSALK_035610\tSimilar to teb-1, with a typical short-\u001b[01;31m\u001b[Kroot\u001b[m\u001b[K phenotype and the aerial system that is reduced in size, with highly serrated and asymmetric leaves and a fasciated stem.\t16517762\n",
      "AT4G32700\tteb-1\tA short-\u001b[01;31m\u001b[Kroot\u001b[m\u001b[K phenotype with the phenotype in the aerial part that is similar to those of the tsk mutant. The \u001b[01;31m\u001b[Kroot\u001b[m\u001b[Ks in mutant seedlings were approximately one-third as long as those from wild type plants. This reduced growth became more pronounced at later time points. The \u001b[01;31m\u001b[Kroot\u001b[m\u001b[K apical meristem was disorganized, and individual cell types, such as QC or initial cells, were difficult to discern. The aerial part of teb-1 plants also showed defects in morphology, such as abnormal phyllotaxy, highly serrated and asymmetric leaves and a fasciated stem. The cellular organization of the SAM was severely disturbed - L1 and L2 layers showed irregular cell division in mutant plants.\t16517762\n",
      "AT4G32700\tteb-1\tEmbryonic phenotype: altered pattern of cell division became pronounced in mutant embryos at the early globular stage. Abnormal, transverse cell division of the hypophysis and extra rounds of division of the suspensor cells. In the heart stage, most of the teb-1 embryos showed an asymmetric and misshaped morphology as well as an aberrant cell division pattern, especially in the hypophysis descendents in the \u001b[01;31m\u001b[Kroot\u001b[m\u001b[K pole.\t16517762\n",
      "AT4G32700\tteb-1\tSensitive to DNA damaging agent (0.2 mg.l MMS); mutant \u001b[01;31m\u001b[Kroot\u001b[m\u001b[Ks were half of that on control medium without MMC.\t16517762\n",
      "AT4G33430\tbak1-4\tMutant exhibited reduced leaf growth (~20%), shorter hypocotyls in the dark, and partial BL insensitivity in \u001b[01;31m\u001b[Kroot\u001b[m\u001b[K-growth assays.\t17583510\n",
      "AT4G33430\tserk3\tMutant exhibited reduced leaf growth (~20%), shorter hypocotyls in the dark, and partial BL insensitivity in \u001b[01;31m\u001b[Kroot\u001b[m\u001b[K-growth assays.\t\n",
      "AT4G33470\thda14\tIncreased \u001b[01;31m\u001b[Kroot\u001b[m\u001b[K hair density.\t16176989\n",
      "AT4G33480\thda14\tIncreased \u001b[01;31m\u001b[Kroot\u001b[m\u001b[K hair density.\t16176989\n",
      "AT4G33495\trpd1-2\ttemperature sensitive, impaired in adventitious \u001b[01;31m\u001b[Kroot\u001b[m\u001b[K formation in hypocotyl. Similar to rpd1-1 mutation\t16407439\n",
      "AT4G33650\tdrp3a-1\tElongated mitochondria which sometimes form interconnected networks. Enlarged leaf peroxisomes. Elongated \u001b[01;31m\u001b[Kroot\u001b[m\u001b[K peroxisomes.\t18559960\n",
      "AT4G34350\tispH-1\tPlants with albino phenotype which exhibit purple-tinted phenotype superimposed on the albino phenotype when grown sucrose-containing medium. ispH-1 plants develop normal \u001b[01;31m\u001b[Kroot\u001b[m\u001b[Ks, rosette leaves and inflorescences.\t15863698\n",
      "AT4G35090\tcat2-1\tReduced stature, pale green color and reduced number of secondary \u001b[01;31m\u001b[Kroot\u001b[m\u001b[Ks. Decreased catalase activity. Increased H2O2 and increased sensitivity to H2O2. Also, increased uptake of Li+, Na+ and norspermine. Decreased sensitivity to litium most likely due to decrease in sensitivity to ethylene.\t17931347\n",
      "AT4G35460\tntra ntrb rml1\tntra ntrb rml1 plants do not show any shoot and \u001b[01;31m\u001b[Kroot\u001b[m\u001b[K  meristematic activity. Meristematic  activities of most ntra ntrb rml1 plants are rescued when  transferred to Murashige and Skoog (MS) medium containing  GSH. The germination rate of the ntra ntrb  rml1 seeds is also perturbed.\n",
      "AT4G35920\tmca1-null\tprimary \u001b[01;31m\u001b[Kroot\u001b[m\u001b[Ks failed to penetrate a harder agar medium from a softer medium.\t17360695\n",
      "AT4G36380\tCS3728\tThe average length of the hypocotyl and primary \u001b[01;31m\u001b[Kroot\u001b[m\u001b[K of the rot3-2 mutant 9 days after sowing did not differ from those of the wild type, as was true also for the rot3-1 mutant. However, cotyledons of the rot3-2 mutant were slightly larger than those of the wild type, whereas the rot3-1 mutant had normal cotyledons.\n",
      "AT4G38130\thda19-1\tTemperature sensitive phenotype.  When grown at 24 degrees C, seedlings have narrow cotyledons compared to wt.  When grown at 29 degrees C, seedlings display several tpl-1-like phenotypes, including monocots, tubes and pins.  Both shott and \u001b[01;31m\u001b[Kroot\u001b[m\u001b[K can be disorganized.\t16763149\n",
      "AT4G38240\tSALK_073650\tstrongly repressed \u001b[01;31m\u001b[Kroot\u001b[m\u001b[K growth when exposed to salt or manitol, callose accumulation at \u001b[01;31m\u001b[Kroot\u001b[m\u001b[K tips exposed to salt.\t18408158\n",
      "AT4G39350\tixr2-1 cesa2\tThe cesa2/cesa6 double mutant has reduced hypocotyl length in the dark, reduced \u001b[01;31m\u001b[Kroot\u001b[m\u001b[K length in the light, strong dwarf and bushy.\t17878303\n",
      "AT4G39350\tprc1-1 cesa2-1\tThe double mutant seedlings had significantly shorter and swollen \u001b[01;31m\u001b[Kroot\u001b[m\u001b[Ks. The plants had stunted growth and reduced size.\t17878302\n",
      "AT5G01180\tatptr1-2 atptr5-1\tThe ptr1-2 ptr5-2 double mutant grows normally on soil and on AM medium. Its pollen tubes germinate and elongate normally on germination media. The tubes can germinate normally in the presence of 100uM alanyl-ethionine (Ala-Eth), a toxic dipeptide, but they elongate more than wild type pollen tubes.  \u001b[01;31m\u001b[KRoot\u001b[m\u001b[K growth of ptr1-2 ptr5-1 mutants exceeds wild type \u001b[01;31m\u001b[Kroot\u001b[m\u001b[K growth when Ala-Eth is present in the growth media. The dry weight of ptr1-2 ptr5-1 double mutants is lower than that of wild type plants when both are grown with Pro-Ala or Ala-Ala dipeptides as the nitrogen source.\t18753286\n"
     ]
    },
    {
     "name": "stdout",
     "output_type": "stream",
     "text": [
      "AT5G01180\tatptr5-1\tThe ptr5-1 mutant grows normally on soil and on AM medium. Its pollen tubes germinate and elongate normally on germination media. The tubes can germinate normally in the presence of 100uM alanyl-ethionine (Ala-Eth), a toxic dipeptide, but they elongate more than wild type pollen tubes. Their \u001b[01;31m\u001b[Kroot\u001b[m\u001b[Ks can also grow normally in the presence of Ala-Eth. ptr5-1 mutants have a similar nitrogen content to wild type plants. ptr5-1 mutants and wild type plants have a similar dry weight when both are grown with Pro-Ala or Ala-Ala dipeptides as the nitrogen source.\t18753286\n",
      "AT5G01180\tatptr5-2\tThe ptr5-2 mutant grows normally on soil and on AM medium. Its pollen tubes germinate and elongate normally on germination media. The tubes can germinate normally in the presence of 100uM alanyl-ethionine (Ala-Eth), a toxic dipeptide, but they elongate more than wild type pollen tubes. Their \u001b[01;31m\u001b[Kroot\u001b[m\u001b[Ks can also grow normally in the presence of Ala-Eth. ptr5-2 mutants have a similar nitrogen content to wild type plants. ptr5-2 mutants and wild type plants have a similar dry weight when both are grown with Pro-Ala or Ala-Ala dipeptides as the nitrogen source.\t18753286\n",
      "AT5G01410\tpdx1.3\tSensitive to osmotic and salt stress. Slower growing \u001b[01;31m\u001b[Kroot\u001b[m\u001b[Ks.\t16236150\n",
      "AT5G01410\tpdx1.3\tThe overall development is markedly delayed for the overall plants, but retardation of \u001b[01;31m\u001b[Kroot\u001b[m\u001b[K growth is even more pronounced than that of shoot.\t17227548\n",
      "AT5G01410\tpdx1.3\tWhen grown on media devoid of vitamin B6, the mutant seedlings have a reduced shoot growth and a distinct pale green phenotype, and a marked reduction in primary \u001b[01;31m\u001b[Kroot\u001b[m\u001b[K growth.\t17227548\n",
      "AT5G01410\trsr4-1\tEarly development of lateral \u001b[01;31m\u001b[Kroot\u001b[m\u001b[Ks, often at the base of the hypocotyl. In the absence of vitamin B6, it was also observed that lateral \u001b[01;31m\u001b[Kroot\u001b[m\u001b[Ks frequently initiated closer to each other in comparison with the wild type.\n",
      "AT5G01410\trsr4-1\tMutant plants display several prominent aerial and \u001b[01;31m\u001b[Kroot\u001b[m\u001b[K phenotypes. Flowering time under long-day conditions (16 h light) was  delayed, in comparison with wild-type C24 plants, but mutant plants displayed no change in leaf number at the time of flowering, with an average of 22 rosette leaves. However, leaf size was reduced in the mutant, resulting in  decreased rosette growth and reduced fresh weight.\t16766694\n",
      "AT5G01410\trsr4-1\tStrong reduction in primary \u001b[01;31m\u001b[Kroot\u001b[m\u001b[K growth in sterile culture on minimal medium. Addition of different vitamins to the medium revealed that this phenotype was fully complemented by the provision of pyridoxine (vitamin B6) to the mutant.\n",
      "AT5G03150\tSALK_054242C\tjkd-4 mutants have slightly shorter \u001b[01;31m\u001b[Kroot\u001b[m\u001b[Ks than wild type seedlings, and about 15% of them show premature lateral \u001b[01;31m\u001b[Kroot\u001b[m\u001b[K initiation. They have fewer \u001b[01;31m\u001b[Kroot\u001b[m\u001b[K meristem cells than wild type seedlings at 5 and 12 days post-germination. But, there is a higher number of cells in the endodermal and cortical layers of the \u001b[01;31m\u001b[Kroot\u001b[m\u001b[K in jkd-4 mutants than in WT seedlings. A loss of expression of SCR in the QC can be detected in jkd-4 mutants at the early heart stage and torpedo stages of embryonic development. A GFP:SHR fusion protein, normally confined to the nuclei of QC cells, is present in the cytoplasm most QC cells in jkd-4 mutants. However, GFP:SHR is observed in the nuclei of ground tissue cells in jkd-4 mutants.\t17785527\n",
      "AT5G03150\tjkd-2\tjkd-2 mutants have slightly shorter \u001b[01;31m\u001b[Kroot\u001b[m\u001b[Ks than wild type seedlings, and about 15% of them show premature lateral \u001b[01;31m\u001b[Kroot\u001b[m\u001b[K initiation. They have fewer \u001b[01;31m\u001b[Kroot\u001b[m\u001b[K meristem cells than wild type seedlings at 5 and 12 days post-germination.\t17785527\n",
      "AT5G03280\tein2-5\tIncreased number of lateral \u001b[01;31m\u001b[Kroot\u001b[m\u001b[Ks. Reduced acropetal auxin transport.\t18363780\n",
      "AT5G03280\tein2-5\t\u001b[01;31m\u001b[KRoot\u001b[m\u001b[K growth inhibition by ABA on ein2-5 seedlings increased when the concentrations of ABA were elevated. At the ABA concentrations (0.1-0.25 &#956;M) which stimulate \u001b[01;31m\u001b[Kroot\u001b[m\u001b[K growth of wild-type plants, \u001b[01;31m\u001b[Kroot\u001b[m\u001b[K inhibition of the ein2-5  plants started to be observed, and the most profound inhibitory effect was observed at 0.25 &#956;M and higher concentrations of ABA.\t17533512\n",
      "AT5G03280\tein2-5\t\u001b[01;31m\u001b[KRoot\u001b[m\u001b[Ks of the ein2-5 mutant seedlings showed enhanced sensitivity, although to a lesser extent, to salt and mannitol compared with the wild-type seedlings over the same period. \u001b[01;31m\u001b[KRoot\u001b[m\u001b[Ks of ein2-5 seedlings were longer than those of the wild type in the absence of salt and osmotic stress condition.\n",
      "AT5G03280\tein2-5\tWhen the mutant was grown on increasing concentrations of ABA, cotyledon greening of ein2-5 seedlings was inhibited dramatically, and the inhibitory effects were increased in a dose-dependent manner. Reduction in percentage of cotyledons turning green of ein2-5 seedlings was more than 10% at as low as 0.1 &mu;M ABA. At 0.5 &mu;M ABA, only about 20% of ein2-5 germinated seedlings turned green while 100% of wild-type seedlings were green at 10 days in light. The \u001b[01;31m\u001b[Kroot\u001b[m\u001b[K elongation of ein2-5 seedlings was also supersensitive to ABA.\n",
      "AT5G03280\tseo2\tCompared with the parent ein2 and EIN3ox plants, etiolated EIN3ox ein2 seedlings exhibited an intermediate phenotype in terms of hypocotyl and \u001b[01;31m\u001b[Kroot\u001b[m\u001b[K lengths. A reduced EIN3 protein levels were detected in EIN3ox ein2-5 progeny compared with that of EIN3ox parent plants. The EIN3ox ein2 and five seo seedlings were completely unresponsive to ethylene application, similar to ein2. In addition, treatment with ACC failed to enhance the accumulation of EIN3 protein in EIN3ox ein2-5. The expression levels of ERF1 and EBF2 were not further increased by ethylene in the EIN3ox ein2 plant. By contrast, ethylene application enhanced EIN3 protein accumulation and ERF1 and EBF2 gene expression in the EIN3ox plants.\t20647342\n",
      "AT5G03540\texo70A1-1\tEarly seedling growth was not affected in mutants. Later, mutant seedlings had shorter \u001b[01;31m\u001b[Kroot\u001b[m\u001b[Ks, and retarded lateral rot intiation. The polar growth of \u001b[01;31m\u001b[Kroot\u001b[m\u001b[K hairs and stigmatic papillae is disturbed. Organs are generally smaller, plants show a loss of apical dominance and indeterminate growth where instead of floral meristems new lateral inflorescences are initiated in a reiterative manner. Mutant plants had dramatically reduced fertility.\t16942608\n",
      "AT5G03540\texo70a1-2\tEarly seedling growth was not affected in mutants. Later, mutant seedlings had shorter \u001b[01;31m\u001b[Kroot\u001b[m\u001b[Ks, and retarded lateral rot intiation. The polar growth of \u001b[01;31m\u001b[Kroot\u001b[m\u001b[K hairs and stigmatic papillae is disturbed. Organs are generally smaller, plants show a loss of apical dominance and indeterminate growth where instead of floral meristems new lateral inflorescences are initiated in a reiterative manner. Mutant plants had dramatically reduced fertility.\t16942608\n",
      "AT5G03730\tCS8057\tMutation had dramatic effects on the morphology of adult plants. The rosette leaves of mutant plants were much smaller than wild-type leaves. The mutants bolted - l-2 weeks later, the early flowers were infertile, the \u001b[01;31m\u001b[Kroot\u001b[m\u001b[K system was much  less extensive, and the inflorescence was much smaller than those of the wild type.  The gynoecium of the mutant elongated significantly earlier relative to the rest of the developing flower, often protruding  out of the unopened buds.\t8431946\n",
      "AT5G03730\tctr1-1\tReduced number of lateral \u001b[01;31m\u001b[Kroot\u001b[m\u001b[Ks.\t18363780\n",
      "AT5G03730\tctr1-2\tMutation had dramatic effects on the morphology of adult plants. The rosette leaves of mutant plants were much smaller than wild-type leaves. The mutants bolted - l-2 weeks later, the early flowers were infertile, the \u001b[01;31m\u001b[Kroot\u001b[m\u001b[K system was much  less extensive, and the inflorescence was much smaller than those of the wild type.  The gynoecium of the mutant elongated significantly earlier relative to the rest of the developing flower, often protruding  out of the unopened buds.\t8431946\n",
      "AT5G03730\tctr1-3\tMutation had dramatic effects on the morphology of adult plants. The rosette leaves of mutant plants were much smaller than wild-type leaves. The mutants bolted - l-2 weeks later, the early flowers were infertile, the \u001b[01;31m\u001b[Kroot\u001b[m\u001b[K system was much  less extensive, and the inflorescence was much smaller than those of the wild type.  The gynoecium of the mutant elongated significantly earlier relative to the rest of the developing flower, often protruding  out of the unopened buds.\t8431946\n"
     ]
    },
    {
     "name": "stdout",
     "output_type": "stream",
     "text": [
      "AT5G03730\tctr1-4\tMutation had dramatic effects on the morphology of adult plants. The rosette leaves of mutant plants were much smaller than wild-type leaves. The mutants bolted - l-2 weeks later, the early flowers were infertile, the \u001b[01;31m\u001b[Kroot\u001b[m\u001b[K system was much  less extensive, and the inflorescence was much smaller than those of the wild type.  The gynoecium of the mutant elongated significantly earlier relative to the rest of the developing flower, often protruding  out of the unopened buds.\t8431946\n",
      "AT5G03730\tctr1-5\tMutation had dramatic effects on the morphology of adult plants. The rosette leaves of mutant plants were much smaller than wild-type leaves. The mutants bolted - l-2 weeks later, the early flowers were infertile, the \u001b[01;31m\u001b[Kroot\u001b[m\u001b[K system was much  less extensive, and the inflorescence was much smaller than those of the wild type.  The gynoecium of the mutant elongated significantly earlier relative to the rest of the developing flower, often protruding  out of the unopened buds.\t8431946\n",
      "AT5G03860\tmls-1\tMutants have only a slightly stunted phenotype when grown in the absence of exogenous sugar in the light. The phenotype is more obvious in the dark where hypocotyl elongation is inhibited, and little \u001b[01;31m\u001b[Kroot\u001b[m\u001b[K development takes place.\t15272001\n",
      "AT5G03860\tmls-2\tMutants have only a slightly stunted phenotype when grown in the absence of exogenous sugar in the light. The phenotype is more obvious in the dark where hypocotyl elongation is inhibited, and little \u001b[01;31m\u001b[Kroot\u001b[m\u001b[K development takes place.\t15272001\n",
      "AT5G08020\tSALK_088429C\tThis mutant does not differ visibly from a wild type plant when grown under normal conditions. A UV-B dose during the first week of growth on normal media affects the atrpa70b mutant and wild-type seedlings similarly, although the mutants have an increased level of leaf yellowing. After a longer period of exposure to UV-B, the level of chlorophyll A and B is reduced to a greater extent in rpa70b mutants than in wild-type, and \u001b[01;31m\u001b[Kroot\u001b[m\u001b[K growth is more inhibited in the mutants. Treatment with MMS also causes a greater inhibition of \u001b[01;31m\u001b[Kroot\u001b[m\u001b[K growth in rpa70b mutants than in wild-type seedlings. In contrast, the mutants show a wild-type level of sensitivity to H2O2 in \u001b[01;31m\u001b[Kroot\u001b[m\u001b[K growth assays.\t15978034\n",
      "AT5G08100\tCS67896\tIncreased sensitivity to delay in \u001b[01;31m\u001b[Kroot\u001b[m\u001b[K hair emergence in response to exogenous asparagine. Increased accumulation of asparagine in \u001b[01;31m\u001b[Kroot\u001b[m\u001b[K when grown on medium containing asparagine as a single nitrogen source. Increased seed size under conditions of nitrogen deficiency. Increased concentration of free asparagine and other free amino acids in seed when grown under low illumination.\t21800258\n",
      "AT5G08100\tCS67896\tincreased sensitivity to inhibition of \u001b[01;31m\u001b[Kroot\u001b[m\u001b[K elongation by exogenous asparagine\t21800258\n",
      "AT5G08100\tSAIL_690_E07\tincreased sensitivity to inhibition of \u001b[01;31m\u001b[Kroot\u001b[m\u001b[K elongation by exogenous asparagine\t21800258\n",
      "AT5G08100\tSALK_087377C\tincreased sensitivity to inhibition of \u001b[01;31m\u001b[Kroot\u001b[m\u001b[K elongation by exogenous asparagine\t21800258\n",
      "AT5G08550\tilp1-1\tShorter hypocotyls and \u001b[01;31m\u001b[Kroot\u001b[m\u001b[Ks compared to their wild type siblings in darkness.  In the light, plants have shorter hypocotyls and smaller cotyledons compared with the wild type, and there was inhibition of \u001b[01;31m\u001b[Kroot\u001b[m\u001b[K elongation.  There is also a reduction in the number of 32C cells in 3 day old seedling hypocotyl cells.\t17012601\n",
      "AT5G08550\tilp1-2\tShorter hypocotyls and \u001b[01;31m\u001b[Kroot\u001b[m\u001b[Ks compared to their wild type siblings in darkness.  In the light, plants have shorter hypocotyls and smaller cotyledons compared with the wild type, and there was inhibition of \u001b[01;31m\u001b[Kroot\u001b[m\u001b[K elongation.  There is also a reduction in the number of 32C cells in 3 day old seedling hypocotyl cells.\t17012601\n",
      "AT5G09680\trlf-1\treduced lateral \u001b[01;31m\u001b[Kroot\u001b[m\u001b[K formation\t20230485\n",
      "AT5G09810\tact2-1/act7-4\tPlants are dwarf and reach only 15% of the height of wild type. \u001b[01;31m\u001b[KRoot\u001b[m\u001b[Ks lack \u001b[01;31m\u001b[Kroot\u001b[m\u001b[K hairs- the initiate but do not develop further than a bulge. Leaves are small with reduced surface area and fewer lobes. Leaf trichomes are abnormal and contain fewer branches. Also defects in flower morphology, reduced fertility, abnormal inflorescence structure and abnormal silique development.\t19304937\n",
      "AT5G09810\tact7-4\tAbnormal \u001b[01;31m\u001b[Kroot\u001b[m\u001b[Ks. \u001b[01;31m\u001b[KRoot\u001b[m\u001b[Ks are shorted and have fewer \u001b[01;31m\u001b[Kroot\u001b[m\u001b[K hairs (ca. 20% less than wild type). \u001b[01;31m\u001b[KRoot\u001b[m\u001b[K epidermal cells have abnormal morphology and bulge.\t19304937\n",
      "AT5G09810\tact8-2/act7-4\tPlants are dwarf. Leaves are smaller and contain fewer cells and fewer lobes than wild type. Reduced number of trichome branches. Petals are narrow. \u001b[01;31m\u001b[KRoot\u001b[m\u001b[Ks are more severely affected and produce short \u001b[01;31m\u001b[Kroot\u001b[m\u001b[K hairs. Cell files are irregular and the elongation zone is much reduced.\t19304937\n",
      "AT5G10250\tdot3-1\tdot3-1 mutants are dwarfed plants that have a parallel venation pattern defect in their leaves and abnormal vein loop patterns in their cotyledons. Primary \u001b[01;31m\u001b[Kroot\u001b[m\u001b[K growth is significantly inhibited in dot3-1 mutants, but, they can produce lateral and adventitious \u001b[01;31m\u001b[Kroot\u001b[m\u001b[Ks.\t18643975\n",
      "AT5G10330\thpa1\tShort \u001b[01;31m\u001b[Kroot\u001b[m\u001b[Ks. Initial development is normal but by 7 days post germination organization of the \u001b[01;31m\u001b[Kroot\u001b[m\u001b[K apex begins to show abnormalities.\t16815950\n",
      "AT5G10510\tplt3-1\tShort \u001b[01;31m\u001b[Kroot\u001b[m\u001b[Ks and shortened \u001b[01;31m\u001b[Kroot\u001b[m\u001b[K meristem.\t17960244\n",
      "AT5G10510\tplt3-1/plt2-2/plt1-4\t\u001b[01;31m\u001b[KRoot\u001b[m\u001b[Kless.Embryonic \u001b[01;31m\u001b[Kroot\u001b[m\u001b[K differentiates 3 days after germination. Adventitious \u001b[01;31m\u001b[Kroot\u001b[m\u001b[Ks arrest 6 days after germination.\t17960244\n",
      "AT5G11260\tCS71\tMutants grown on agar plates have widely  spread lateral \u001b[01;31m\u001b[Kroot\u001b[m\u001b[Ks. Compared with that of wild-type plants, the direction of lateral \u001b[01;31m\u001b[Kroot\u001b[m\u001b[K growth is nearly horizontal rather than downward, indicating alteration of the gravitropic response. The angles between the lateral \u001b[01;31m\u001b[Kroot\u001b[m\u001b[Ks and the orientation of gravity are larger than those of the wild type. In addition, secondary lateral \u001b[01;31m\u001b[Kroot\u001b[m\u001b[Ks grow and change their direction of elongation to the horizontal.\t9367981\n",
      "AT5G11260\tCS71\t\u001b[01;31m\u001b[KRoot\u001b[m\u001b[Ks of wild-type plants turn green when grown under light conditions.  The \u001b[01;31m\u001b[Kroot\u001b[m\u001b[Ks of wildtype plants were green, whereas those of the mutants remained white after having been  cultured for 30 days under light. The chlorophyll content in \u001b[01;31m\u001b[Kroot\u001b[m\u001b[Ks of the wild-type plant (Ws) was 1.1 &#956;g of chlorophyll/gram of fresh \u001b[01;31m\u001b[Kroot\u001b[m\u001b[Ks. Chlorophyll was not detected in \u001b[01;31m\u001b[Kroot\u001b[m\u001b[Ks of hy5-1 or hy5-Ks50.\t9367981\n",
      "AT5G11260\tSALK_096651C\tDecreased sensitivity to ABA induced lateral \u001b[01;31m\u001b[Kroot\u001b[m\u001b[K inhibition. Increased sensitivity to osmotic and salt stress. Increased ABA tolerance.\t18065688\n",
      "AT5G11260\thy5-215\tMutants grown on agar plates have widely  spread lateral \u001b[01;31m\u001b[Kroot\u001b[m\u001b[Ks. Compared with that of wild-type plants, the direction of lateral \u001b[01;31m\u001b[Kroot\u001b[m\u001b[K growth is nearly horizontal rather than downward, indicating alteration of the gravitropic response. The angles between the lateral \u001b[01;31m\u001b[Kroot\u001b[m\u001b[Ks and the orientation of gravity are larger than those of the wild type. In addition, secondary lateral \u001b[01;31m\u001b[Kroot\u001b[m\u001b[Ks grow and change their direction of elongation to the horizontal.\t9367981\n",
      "AT5G11260\thy5-KS50\tAt 4 DAG, the number of lateral \u001b[01;31m\u001b[Kroot\u001b[m\u001b[K primordia is increased in the Wassilewskija (Ws) wild type , but the increase was two times greater in the hy5-Ks50 mutant than in Ws.\t9367981\n",
      "AT5G11260\thy5-KS50\tMutants grown on agar plates have widely  spread lateral \u001b[01;31m\u001b[Kroot\u001b[m\u001b[Ks. Compared with that of wild-type plants, the direction of lateral \u001b[01;31m\u001b[Kroot\u001b[m\u001b[K growth is nearly horizontal rather than downward, indicating alteration of the gravitropic response. The angles between the lateral \u001b[01;31m\u001b[Kroot\u001b[m\u001b[Ks and the orientation of gravity are larger than those of the wild type. In addition, secondary lateral \u001b[01;31m\u001b[Kroot\u001b[m\u001b[Ks grow and change their direction of elongation to the horizontal.\t9367981\n"
     ]
    },
    {
     "name": "stdout",
     "output_type": "stream",
     "text": [
      "AT5G11260\thy5-KS50\t\u001b[01;31m\u001b[KRoot\u001b[m\u001b[Ks of wild-type plants turn green when grown under light conditions.  The \u001b[01;31m\u001b[Kroot\u001b[m\u001b[Ks of wildtype plants were green, whereas those of the mutants remained white after having been  cultured for 30 days under light. The chlorophyll content in \u001b[01;31m\u001b[Kroot\u001b[m\u001b[Ks of the wild-type plant (Ws) was 1.1 &#956;g of chlorophyll/gram of fresh \u001b[01;31m\u001b[Kroot\u001b[m\u001b[Ks. Chlorophyll was not detected in \u001b[01;31m\u001b[Kroot\u001b[m\u001b[Ks of hy5-1 or hy5-Ks50.\t9367981\n",
      "AT5G13290\tsol2-1\tWT \u001b[01;31m\u001b[Kroot\u001b[m\u001b[K phenotype.  34% of terminal flowers have extra carpels in the fourth whorl.\n",
      "AT5G13570\tdcp2-1\tNull mutants of DCP1, DCP2, and VCS accumulate capped mRNAs with a reduced degradation rate. The homozygous progeny of these mutants also share a similar lethal phenotype at the seedling cotyledon stage, with disorganized veins, swollen \u001b[01;31m\u001b[Kroot\u001b[m\u001b[K hairs, and altered epidermal cell morphology.\t17158604\n",
      "AT5G13570\tdcp2-1\tThe homozygous progeny is seedling lethal, showed arrested postembryonic development including cotyledon expansion, development of vascular networks, \u001b[01;31m\u001b[Kroot\u001b[m\u001b[K elongation, and shoot development.\t17485080\n",
      "AT5G13570\tdcp2-1\tThe mutant produced no leaves, short \u001b[01;31m\u001b[Kroot\u001b[m\u001b[Ks  with short and swollen \u001b[01;31m\u001b[Kroot\u001b[m\u001b[K hairs, chlorotic cotyledons that accumulated anthocyanins around their margins, and a short and swollen hypocotyl. In addition, the cotyledon-hypocotyl  junction was extremely fragile, which caused cotyledons to frequently fall off, even with gentle handling.\t17513503\n",
      "AT5G13570\ttdt-1\tThe mutant produced no leaves, short \u001b[01;31m\u001b[Kroot\u001b[m\u001b[Ks  with short and swollen \u001b[01;31m\u001b[Kroot\u001b[m\u001b[K hairs, chlorotic cotyledons that accumulated anthocyanins around their margins, and a short and swollen hypocotyl. In addition, the cotyledon-hypocotyl  junction was extremely fragile, which caused cotyledons to frequently fall off, even with gentle handling.\t17485080\n",
      "AT5G13570\ttdt-1\tThe vascular transition is a region where the \u001b[01;31m\u001b[Kroot\u001b[m\u001b[K-like vascular organization of the lower hypocotyl shifts to a shoot-like vascular organization. In tdt-1 mutants, this region ranged from being devoid of detectable xylem to containing xylem but with poorly aligned veins. This defect showed incomplete penetrance, but it was most prevalent when seedlings were germinated at higher temperatures.\t17513503\n",
      "AT5G14420\trglg1 rglg2\tAuxin (IAA) concentration was almost twofold lower in \u001b[01;31m\u001b[Kroot\u001b[m\u001b[Ks of 2-week-old mutant seedlings compared to wild type.\n",
      "AT5G14420\trglg1 rglg2\t\u001b[01;31m\u001b[KRoot\u001b[m\u001b[Ks of wild-type and mutant plants were similar in spite of a moderate (14%) reduction in the main \u001b[01;31m\u001b[Kroot\u001b[m\u001b[K length of plantlets grown on plates.\t17586653\n",
      "AT5G16530\tpin5-5\tDefective in lateral \u001b[01;31m\u001b[Kroot\u001b[m\u001b[K initiation as well as in \u001b[01;31m\u001b[Kroot\u001b[m\u001b[K and hypocotyl growth; \u001b[01;31m\u001b[Kroot\u001b[m\u001b[K growth less sensitive to low concentrations of IAA.\t19506555\n",
      "AT5G16780\tdot2-1\tdot2-1 mutants are dwarved plants that display an aberrant spurred leaf venation pattern and fail to flower. They also have an abnormal cotyledon number, shorter petioles, significantly shorter \u001b[01;31m\u001b[Kroot\u001b[m\u001b[Ks and smaller rosettes when compared to wild-type plants.\t18643975\n",
      "AT5G18170\tCS3975\tdeficient in glutamate dehydrogenase; conditional phenotype: impaired \u001b[01;31m\u001b[Kroot\u001b[m\u001b[K growth and mild shoot chlorosis under intermediate/high inorganic nitrogen conditions, this is exagerated when plants are grown in high concentrations of inorganic nitrogen under suboptimal conditions( e.g. without vitamins); seedling growth is specifically retarded on media containing exogenously supplied inorganic nitrogen.\t8643469\n",
      "AT5G18560\tpuchi-1\tshorter visible lateral \u001b[01;31m\u001b[Kroot\u001b[m\u001b[Ks at 9 days after germination. The proximal region of each lateral \u001b[01;31m\u001b[Kroot\u001b[m\u001b[K in the mutant is significantly swollen and often bent. Growth and morphology of the primary \u001b[01;31m\u001b[Kroot\u001b[m\u001b[K of the puchi mutant is normal.\t17630277\n",
      "AT5G19040\tatipt1 atipt 3 atipt 5 atipt7\tExternal application of <i>trans</i>-zeatin partially rescues the growth of aerial parts of the mutant, and reduced its lateral \u001b[01;31m\u001b[Kroot\u001b[m\u001b[K elongation.\t17062755\n",
      "AT5G19040\tatipt1 atipt 3 atipt 5 atipt7\tReduced cambial activity and reduced secondary growth in both shoots and \u001b[01;31m\u001b[Kroot\u001b[m\u001b[Ks.\t19074290\n",
      "AT5G19040\tatipt1 atipt 3 atipt 5 atipt7\tRelative to wild type, both the number of lateral \u001b[01;31m\u001b[Kroot\u001b[m\u001b[Ks (longer than 1cm) and the total length of the lateral \u001b[01;31m\u001b[Kroot\u001b[m\u001b[Ks are increased.\t17062755\n",
      "AT5G19040\tatipt3 atipt 5 atipt 7\tEnhanced \u001b[01;31m\u001b[Kroot\u001b[m\u001b[K growth rate resulting in longer \u001b[01;31m\u001b[Kroot\u001b[m\u001b[Ks.\t17363254\n",
      "AT5G19040\tatipt3 atipt 5 atipt 7\tMutant \u001b[01;31m\u001b[Kroot\u001b[m\u001b[K meristems showed an increased number of meristematic cells already at two days after germination (dpg) and accumulated cells also after five dpg, vastly exceeding the fixed number of cells of wild-type meristems.\t17363254\n",
      "AT5G19040\tatipt3 atipt 5 atipt 7\tRelative to wild type, both the number of lateral \u001b[01;31m\u001b[Kroot\u001b[m\u001b[Ks (longer than 1cm) and the total length of the lateral \u001b[01;31m\u001b[Kroot\u001b[m\u001b[Ks are increased.\t17062755\n",
      "AT5G19660\ts1p-3\ts1p-3 mutants exhibit a greater inhibition of primary \u001b[01;31m\u001b[Kroot\u001b[m\u001b[K elongation in response to NaCl, KCl, LiCl, and mannitol than wild-type seedlings. The salt-sensitive phenotype co-segregates with the s1p-3 T-DNA insertion, and can be partially rescued by a 35S:S1P construct. s1p-3 mutants do not show the proteolytic processing of a 4xMyc:bZIP17 protein from an 84 kD to a 46-kD protein, as observed in wild type seedlings. In addition, several salt-responsive transcripts have more than a 2.5-fold lower transcriptional response in s1p-3 mutants than in wild type seedlings.\t17662035\n",
      "AT5G20410\tmgd2 mgd3\tUnder Pi starved conditions, reduced DGDG content is observed, the proportion of phosphatidylethanolamine and phosphatidylcholine increased approximately two-fold in shoot and large differences in fatty acid compositions of galactolipids are seen in shoots and particularly \u001b[01;31m\u001b[Kroot\u001b[m\u001b[Ks. Under these conditions, the fresh weight of shoots and \u001b[01;31m\u001b[Kroot\u001b[m\u001b[Ks was reduced.\t18808455\n",
      "AT5G20490\tSALK_067972C\tThe xik-2 mutant has normal \u001b[01;31m\u001b[Kroot\u001b[m\u001b[K growth, but its \u001b[01;31m\u001b[Kroot\u001b[m\u001b[K hairs are only 50% of the length of wild type \u001b[01;31m\u001b[Kroot\u001b[m\u001b[K hairs, and they have a hooked shape when grown on media with sugar. The stem trichomes are crooked and wavy and often have abnormally elongated stalks. The trichomes on the leaves also have size and shape irregularities.  But, the total number of trichomes is the same for mutants and wild-type plants.\t17458634\n",
      "AT5G20490\tSALK_067972C\tThere are no obvious defects in the aerial tissues of xi-k mutant plants grown under normal conditions. The \u001b[01;31m\u001b[Kroot\u001b[m\u001b[K length of the mutant is also normal, but, it has shorter \u001b[01;31m\u001b[Kroot\u001b[m\u001b[Ks hairs than wild-type plants. There are decreased rates of movement of Golgi stacks, peroxisomes, and mitochondria in \u001b[01;31m\u001b[Kroot\u001b[m\u001b[K hairs and leaves.\t18178669\n",
      "AT5G20490\tSALK_136682C\tThe xik-1 mutant has normal \u001b[01;31m\u001b[Kroot\u001b[m\u001b[K growth, but its \u001b[01;31m\u001b[Kroot\u001b[m\u001b[K hairs are only 49% of the length of wild type \u001b[01;31m\u001b[Kroot\u001b[m\u001b[K hairs, and they have a hooked shape when grown on media with sugar. The stem trichomes are crooked and wavy and often have abnormally elongated stalks. The trichomes on the leaves also have size and shape irregularities. But, the total number of trichomes is the same for mutants and wild-type plants.\t17458634\n",
      "AT5G20490\tWiscDsLox417C12 (HOMOZYGOUS)\tThere are no obvious defects in the aerial tissues of xi-k mutant plants grown under normal conditions. The \u001b[01;31m\u001b[Kroot\u001b[m\u001b[K length of the mutant is also normal, but, it has shorter \u001b[01;31m\u001b[Kroot\u001b[m\u001b[Ks hairs than wild-type plants.\t18178669\n",
      "AT5G20490\txi-k / xi-1\tThe xi-k / xi-1 double mutant plants are shorter and have smaller rosettes than wild type plants. Their reduced leaf size results from decreased cell size and decreased cell number. These double mutants produce fewer seeds per silique than wild type plants. In the leaf epidermis, Golgi stacks, peroxisomes, and mitochondria move more slowly in these mutant cells than in wild-type cells. \u001b[01;31m\u001b[KRoot\u001b[m\u001b[K hair length is reduced to ~35% of the wild type \u001b[01;31m\u001b[Kroot\u001b[m\u001b[K hair length in these double mutants, but their \u001b[01;31m\u001b[Kroot\u001b[m\u001b[K hair density is very similar to the wild type density.\t19060218\n"
     ]
    },
    {
     "name": "stdout",
     "output_type": "stream",
     "text": [
      "AT5G20490\txi-k / xi-2\tThe overall growth of the xi-k / xi-2 double mutant is normal. In the leaf epidermis, Golgi stacks, peroxisomes, and mitochondria move more slowly in these mutant cells than in wild-type cells. \u001b[01;31m\u001b[KRoot\u001b[m\u001b[K hair length is reduced to ~20% of the wild type \u001b[01;31m\u001b[Kroot\u001b[m\u001b[K hair length in these double mutants, but their \u001b[01;31m\u001b[Kroot\u001b[m\u001b[K hair density is very similar to the wild type density.\t19060218\n",
      "AT5G20490\txik-3\tThe xik-3 mutant has normal \u001b[01;31m\u001b[Kroot\u001b[m\u001b[K growth, but its \u001b[01;31m\u001b[Kroot\u001b[m\u001b[K hairs are only 77% of the length of wild type \u001b[01;31m\u001b[Kroot\u001b[m\u001b[K hairs, and they have a hooked shape when grown on media with sugar. The stem trichomes are crooked and wavy and often have abnormally elongated stalks. The trichomes on the leaves also have size and shape irregularities.  But, the total number of trichomes is the same for mutants and wild-type plants.\t17458634\n",
      "AT5G20730\tCS24625\tThe phenotype of the double mutant is most obvious at its seedling stage, with its most prominent phenotype being severely impaired  lateral \u001b[01;31m\u001b[Kroot\u001b[m\u001b[K formation. Its primary \u001b[01;31m\u001b[Kroot\u001b[m\u001b[Ks fail to produce lateral \u001b[01;31m\u001b[Kroot\u001b[m\u001b[Ks in 2-week-old seedlings. However, double mutant seedlings start to generate several lateral \u001b[01;31m\u001b[Kroot\u001b[m\u001b[Ks after ~2 weeks of growth, and their morphological appearance is normal.\t15659631\n",
      "AT5G20730\tCS24625\tnph4-1 arf19 double mutant;  agravitropic response in both hypocotyls and \u001b[01;31m\u001b[Kroot\u001b[m\u001b[Ks; impaired phototropic response in hypocotyls; impaired lateral \u001b[01;31m\u001b[Kroot\u001b[m\u001b[K formation; small plant size; small and epinastic rosette leaves; reduced auxin sensitivity\t15659631\n",
      "AT5G20730\tCS24626\tThe phenotype of the double mutant is most obvious at its seedling stage, with its most prominent phenotype being severely impaired  lateral \u001b[01;31m\u001b[Kroot\u001b[m\u001b[K formation. Its primary \u001b[01;31m\u001b[Kroot\u001b[m\u001b[Ks fail to produce lateral \u001b[01;31m\u001b[Kroot\u001b[m\u001b[Ks in 2-week-old seedlings. However, double mutant seedlings start to generate several lateral \u001b[01;31m\u001b[Kroot\u001b[m\u001b[Ks after ~2 weeks of growth, and their morphological appearance is normal.\t15659631\n",
      "AT5G20730\tCS24626\tnph4-1 arf19 double mutant;  agravitropic response in both hypocotyls and \u001b[01;31m\u001b[Kroot\u001b[m\u001b[Ks; impaired phototropic response in hypocotyls; impaired lateral \u001b[01;31m\u001b[Kroot\u001b[m\u001b[K formation; small plant size; small and epinastic rosette leaves; reduced auxin sensitivity\t15659631\n",
      "AT5G20730\tCS24627\tThe phenotype of the double mutant is most obvious at its seedling stage, with its most prominent phenotype being severely impaired  lateral \u001b[01;31m\u001b[Kroot\u001b[m\u001b[K formation. Its primary \u001b[01;31m\u001b[Kroot\u001b[m\u001b[Ks fail to produce lateral \u001b[01;31m\u001b[Kroot\u001b[m\u001b[Ks in 2-week-old seedlings. However, double mutant seedlings start to generate several lateral \u001b[01;31m\u001b[Kroot\u001b[m\u001b[Ks after ~2 weeks of growth, and their morphological appearance is normal.\t15659631\n",
      "AT5G20730\tCS24628\tThe phenotype of the double mutant is most obvious at its seedling stage, with its most prominent phenotype being severely impaired  lateral \u001b[01;31m\u001b[Kroot\u001b[m\u001b[K formation. Its primary \u001b[01;31m\u001b[Kroot\u001b[m\u001b[Ks fail to produce lateral \u001b[01;31m\u001b[Kroot\u001b[m\u001b[Ks in 2-week-old seedlings. However, double mutant seedlings start to generate several lateral \u001b[01;31m\u001b[Kroot\u001b[m\u001b[Ks after ~2 weeks of growth, and their morphological appearance is normal.\t15659631\n",
      "AT5G20730\tCS24629\tThe phenotype of the double mutant is most obvious at its seedling stage, with its most prominent phenotype being severely impaired  lateral \u001b[01;31m\u001b[Kroot\u001b[m\u001b[K formation. Its primary \u001b[01;31m\u001b[Kroot\u001b[m\u001b[Ks fail to produce lateral \u001b[01;31m\u001b[Kroot\u001b[m\u001b[Ks in 2-week-old seedlings. However, double mutant seedlings start to generate several lateral \u001b[01;31m\u001b[Kroot\u001b[m\u001b[Ks after ~2 weeks of growth, and their morphological appearance is normal.\t15659631\n",
      "AT5G20730\tCS24630\tThe phenotype of the double mutant is most obvious at its seedling stage, with its most prominent phenotype being severely impaired  lateral \u001b[01;31m\u001b[Kroot\u001b[m\u001b[K formation. Its primary \u001b[01;31m\u001b[Kroot\u001b[m\u001b[Ks fail to produce lateral \u001b[01;31m\u001b[Kroot\u001b[m\u001b[Ks in 2-week-old seedlings. However, double mutant seedlings start to generate several lateral \u001b[01;31m\u001b[Kroot\u001b[m\u001b[Ks after ~2 weeks of growth, and their morphological appearance is normal.\t15659631\n",
      "AT5G20730\tarf7-201\tSeedlings grown in the dark on sirtinol show long hypocotyls but no apical hook, have primary \u001b[01;31m\u001b[Kroot\u001b[m\u001b[Ks and are resistant to IAA and 2,4-D.  In the dark, hypocotyls but not \u001b[01;31m\u001b[Kroot\u001b[m\u001b[Ks are resistant to 2,4-D.  There is no obvious difference between wt and mutants grown on 2,4-D in the light.\t16461383\n",
      "AT5G20730\tarf7-201 arf19-101\tDark grown seedlings on sirtinol have both long primary \u001b[01;31m\u001b[Kroot\u001b[m\u001b[Ks and long hypocotyls.  More resistant to 2,4-D and IAA than single mutants in both light and dark.  The ethylene resistant \u001b[01;31m\u001b[Kroot\u001b[m\u001b[K phenotype of arf19-101 is enhanced by arf7-201.\t16461383\n",
      "AT5G20730\tmsg1-1\tHypocotyl growth resistant (but not \u001b[01;31m\u001b[Kroot\u001b[m\u001b[K growth) to 2,4-D inhibition compared to wildtype.\t9342863\n",
      "AT5G20730\tmsg1-1\t\u001b[01;31m\u001b[KRoot\u001b[m\u001b[K growth significantly reduced (about two-third of that of wildtype) when grown in white light.\t9342863\n",
      "AT5G20730\tmsg1-2\tHypocotyl growth resistant (but not \u001b[01;31m\u001b[Kroot\u001b[m\u001b[K growth) to 2,4-D inhibition compared to wildtype.\t9342863\n",
      "AT5G20730\tmsg1-2\t\u001b[01;31m\u001b[KRoot\u001b[m\u001b[K growth significantly reduced (about two-third of that of wildtype) when grown in white light.\t9342863\n",
      "AT5G20730\tmsg1-3\tHypocotyl growth resistant (but not \u001b[01;31m\u001b[Kroot\u001b[m\u001b[K growth) to 2,4-D inhibition compared to wildtype.\t9342863\n",
      "AT5G20730\tmsg1-3\t\u001b[01;31m\u001b[KRoot\u001b[m\u001b[K growth significantly reduced (about two-third of that of wildtype) when grown in white light.\t9342863\n",
      "AT5G20730\tnph4-1\tMutant produces fewer lateral \u001b[01;31m\u001b[Kroot\u001b[m\u001b[Ks compared with the wild type.\t15659631\n",
      "AT5G20830\tsus1 (SALK)\tThe amounts of glucose, fructose, sucrose, cellulose (\u001b[01;31m\u001b[Kroot\u001b[m\u001b[Ks) and starch in the mutant were not statistically significantly different  from those of the equivalent wild-type lines grown under the same conditions at the same time.\t17257168\n",
      "AT5G20830\tsus1 sus4\tThe activity of SUS was reduced to 10% of wild-type levels in leaves of the mutant, and was undetectable (reduced to less than 10% of wild-type levels) in \u001b[01;31m\u001b[Kroot\u001b[m\u001b[Ks. The activity of invertase was unaffected in \u001b[01;31m\u001b[Kroot\u001b[m\u001b[Ks of this mutant, but in leaves neutral invertase activity was elevated by about 40%.\n",
      "AT5G20830\tsus1 sus4\tThe double mutant line was much more  severely affected by flooding. After the 4 days of flooding, \u001b[01;31m\u001b[Kroot\u001b[m\u001b[K weight had increased by only 44% (compared to 72% for wild type), and there was not statistically significant gain in \u001b[01;31m\u001b[Kroot\u001b[m\u001b[K weight in the 3 days following flooding. At the end of the 7-day period, the flooding treatment had reduced the gain in \u001b[01;31m\u001b[Kroot\u001b[m\u001b[K weight by  71% relative to unflooded control plants (compared to 33% for wild type).\t17257168\n",
      "AT5G23720\tphs1-1\tphs1-1 exhibits phenotypes indicative of compromised cortical microtubule functions, such as left-handed helical growth of seedling \u001b[01;31m\u001b[Kroot\u001b[m\u001b[Ks, defective anisotropic growth at low doses of microtubule-destabilizing drugs, enhancement of the temperature-sensitive microtubule organization1-1 phenotype, and less ordered and more fragmented cortical microtubule arrays compared with the wild type.\t15208393\n",
      "AT5G24270\tsos3-1 siz1-1\tDecrease of macronutrients concentration in the MS salt formulation to 1/20X results in a substantial reduction in primary \u001b[01;31m\u001b[Kroot\u001b[m\u001b[K growth.\t15894620\n",
      "AT5G24270\tsos3-1 siz1-1\tMutant grown in greenhouse or growth chamber exhibits reduced shoot and \u001b[01;31m\u001b[Kroot\u001b[m\u001b[K biomass relative to the wild-type.\t15894620\n",
      "AT5G24270\tsos3-1 siz1-1\tSubstantially more pronounced prototypical Pi starvation \u001b[01;31m\u001b[Kroot\u001b[m\u001b[K architecture responses than sos3-1 or wild-type seedlings. On Pi-limited medium, mutant seedlings exhibit an inhibition of primary \u001b[01;31m\u001b[Kroot\u001b[m\u001b[K growth, an increase of lateral \u001b[01;31m\u001b[Kroot\u001b[m\u001b[K development and length, and higher \u001b[01;31m\u001b[Kroot\u001b[m\u001b[K/shoot fresh weight ratio than wild-type.  Enhanced resistance to Pseudomonas syringae DC3000.  Smaller in stature.  Impaired drought tolerance.\t15894620\n"
     ]
    },
    {
     "name": "stdout",
     "output_type": "stream",
     "text": [
      "AT5G24310\tamiRNA_ABIL3\tTrichomes are irregularly expanded and distorted. Branch  lengths are significantly affected with all  three branches being significantly shorter than the respective branches of wild type trichomes.  Increased distance between first and second branch point as compared to WT.  Increased diameter at base of trichome.  Actn filaments in developing trichomes are generally more bundled  and more randomly distributed.  Increased \u001b[01;31m\u001b[Kroot\u001b[m\u001b[K length.\n",
      "AT5G24520\turm23\turm23 mutant leaves produce almost normal trichomes with slight clustering phenotype. Neither \u001b[01;31m\u001b[Kroot\u001b[m\u001b[K hair patterning, anthocyanin (flavonoid) biosynthesis, nor seed coat mucilage production are affected in urm23, distinguishing this allele from all other known ttg1 alleles.\t19234066\n",
      "AT5G25220\tSALK_136464\tNo visible \u001b[01;31m\u001b[Kroot\u001b[m\u001b[K phenotype.\t16463096\n",
      "AT5G25350\tebf1-1 ebf2-1\tThe mutant shows dwarfed growth, supernumerary epinastically curled leaves, early senescence, and abnormal flowers with the gynoecium protruding from the unopened floral buds. However, the phenotypes seen in double mutant plants are more severe than those seen in ctr1. This becomes apparent at about two weeks after germination, except for the reduced \u001b[01;31m\u001b[Kroot\u001b[m\u001b[K growth, which is already obvious at three days after germination. Moreover, unlike the ctr1 mutation that has a reduced transmission of the ctr1 allele relative to wild-type and infertile early flowers, the double mutants have a greatly reduced fertility but can readily be pollinated with wild-type pollen.\t14675533\n",
      "AT5G25350\tebf1-1 ebf2-1\tWhen germinated in the dark, the mutant display a ctr1-like phenotype (short hypocotyls, short \u001b[01;31m\u001b[Kroot\u001b[m\u001b[Ks, and exaggerated apical hooks).\t14675533\n",
      "AT5G25350\tebf1-1 ebf2-1\tWhen grown in the light, the double mutants display slightly longer hypocotyls, curled unexpanded cotyledons, and short and thicker \u001b[01;31m\u001b[Kroot\u001b[m\u001b[Ks with ectopic \u001b[01;31m\u001b[Kroot\u001b[m\u001b[K hairs, similar to the ctr1 mutant. Moreover, the average area of the leaf epidermal cells was reduced 5-fold compared to wild type.\t14675533\n",
      "AT5G25350\tebf1-2 ebf2-1\tctr1-like phenotype (short hypocotyls, short \u001b[01;31m\u001b[Kroot\u001b[m\u001b[Ks, and exaggerated apical hooks).\t14675533\n",
      "AT5G25350\tebf1-3 ebf2-3 eil1-3\tModest rescue of the ebf1-3 ebf2-3 phenotype. Seedlings continue grow and develop at a slow pace after germination. Cotyledons partially expanded and turned pale green. Stunted \u001b[01;31m\u001b[Kroot\u001b[m\u001b[K densely covered with \u001b[01;31m\u001b[Kroot\u001b[m\u001b[K hair. Plants never flowered or set seeds.\t17307926\n",
      "AT5G26030\tatfc1\tno visible phenotype. decreased heme contents in \u001b[01;31m\u001b[Kroot\u001b[m\u001b[Ks\n",
      "AT5G26240\tSALK_042895\t\u001b[01;31m\u001b[KRoot\u001b[m\u001b[K growth at neutral and acidic pH on synthetic medium impaired.\t17376158\n",
      "AT5G27320\tgid1a-1 gid1b-1 gid1c-1\tDramatic reduction in rosette radius and \u001b[01;31m\u001b[Kroot\u001b[m\u001b[K length compared to wild type (87 and 74% reduction, respectively).\t17194763\n",
      "AT5G27320\tgid1a-1 gid1c-1\tOnly slight differences between mutant and wild type plants with regard to rosette radius and \u001b[01;31m\u001b[Kroot\u001b[m\u001b[K length.\t17194763\n",
      "AT5G27320\tgid1b-1 gid1c-1\tOnly slight differences between mutant and wild type plants with regard to rosette radius and \u001b[01;31m\u001b[Kroot\u001b[m\u001b[K length.\t17194763\n",
      "AT5G27320\tgid1c-1\tOnly slight differences between mutant and wild type plants with regard to rosette radius and \u001b[01;31m\u001b[Kroot\u001b[m\u001b[K length.\t17194763\n",
      "AT5G28646\twvd2-1\tInhibition of cell elongation, right-handed \u001b[01;31m\u001b[Kroot\u001b[m\u001b[K twisting, left-handed leaf petiole twisting, suppression of \u001b[01;31m\u001b[Kroot\u001b[m\u001b[K-waving, reduced trichome branching, perturbed microtubule organization such as increased longitudinal and oblique positions in \u001b[01;31m\u001b[Kroot\u001b[m\u001b[K caps.\t17319849\n",
      "AT5G35410\tCS3863\tDo not display altered sensitivity for inhibition of \u001b[01;31m\u001b[Kroot\u001b[m\u001b[K growth by osmotic stress compared to wild-type.\t16183846\n",
      "AT5G35750\tahk2-1cu ahk3-1cu\t\u001b[01;31m\u001b[KRoot\u001b[m\u001b[K elongation unaffected.\t15155880\n",
      "AT5G35750\tahk2-1cu ahk3-1cu ahk4-1cu\tAborted vascular system containing few protoxylem cells in the primary \u001b[01;31m\u001b[Kroot\u001b[m\u001b[K. Normal adventitious \u001b[01;31m\u001b[Kroot\u001b[m\u001b[K-vascular system.\t16357038\n",
      "AT5G35750\tahk2-1cu ahk3-1cu ahk4-1cu\tAdventitious \u001b[01;31m\u001b[Kroot\u001b[m\u001b[Ks are normal.\t16357038\n",
      "AT5G35750\tahk2-1cu ahk3-1cu ahk4-1cu\tDoes not produce lateral \u001b[01;31m\u001b[Kroot\u001b[m\u001b[Ks from the primary \u001b[01;31m\u001b[Kroot\u001b[m\u001b[K. However, 10 days after germination, lateral \u001b[01;31m\u001b[Kroot\u001b[m\u001b[Ks are formed at the upper part of the hypocotyl rather than at the \u001b[01;31m\u001b[Kroot\u001b[m\u001b[K-hypocotyl junction.\t16357038\n",
      "AT5G35750\tahk2-1cu ahk3-1cu ahk4-1cu\tNormal vascular system in adventitious \u001b[01;31m\u001b[Kroot\u001b[m\u001b[Ks, although the hypocotyl and primary \u001b[01;31m\u001b[Kroot\u001b[m\u001b[K develop aborted vascular tissues.\t16357038\n",
      "AT5G35750\tahk2-1cu ahk3-1cu ahk4-1cu\tPostembryonic growth of \u001b[01;31m\u001b[Kroot\u001b[m\u001b[Ks (primary and lateral) severely impaired.\t11479382\n",
      "AT5G35750\tahk2-1cu ahk3-1cu ahk4-1cu\tReduced seedling size with small cotyledons, slightly shortened hypocotyls (65% of wildtype) and significantly reduced \u001b[01;31m\u001b[Kroot\u001b[m\u001b[K length.\t11479382\n",
      "AT5G35750\tahk2-1cu ahk4-1\t\u001b[01;31m\u001b[KRoot\u001b[m\u001b[K elongation unaffected.\t15155880\n",
      "AT5G35750\tahk2-1ms ahk3-1ms\tNormal \u001b[01;31m\u001b[Kroot\u001b[m\u001b[Ks.\t\n",
      "AT5G35750\tahk2-2tk\tCytokinin-induced inhibition of adventitious \u001b[01;31m\u001b[Kroot\u001b[m\u001b[K formation similar to that observed with wildtype.\t\n",
      "AT5G35750\tahk2-2tk\tNormal or slightly reduced sensitivity to cytokinin in \u001b[01;31m\u001b[Kroot\u001b[m\u001b[K growth assay (exogenous application of cytokinins inhibits wildtype \u001b[01;31m\u001b[Kroot\u001b[m\u001b[K elongation).\t15166290\n",
      "AT5G35750\tahk2-2tk ahk3-3\tNormal \u001b[01;31m\u001b[Kroot\u001b[m\u001b[Ks.\t\n",
      "AT5G35750\tahk2-2tk ahk3-3\tReduced sensitivity to cytokinin in \u001b[01;31m\u001b[Kroot\u001b[m\u001b[K growth assay (exogenous application of cytokinins inhibits wildtype \u001b[01;31m\u001b[Kroot\u001b[m\u001b[K elongation).\t\n",
      "AT5G35750\tahk2-5 ahk3-7\tDisplays secondary lateral \u001b[01;31m\u001b[Kroot\u001b[m\u001b[K branching (not seen in wild-type).\t16361392\n",
      "AT5G35750\tahk2-5 ahk3-7 cre1-2\tIncreased seed size, largely due to increased size of the embryo. Embryonic \u001b[01;31m\u001b[Kroot\u001b[m\u001b[K epidermal cells increased 15% in number and 30% in size compared to wild-type.\t16361392\n",
      "AT5G35750\tahk2-5 cre1-2\tDisplays secondary lateral \u001b[01;31m\u001b[Kroot\u001b[m\u001b[K branching (not seen in wild-type).\t16361392\n",
      "AT5G35750\tcre1-10 ahk2-1ms\tReduced sensitivity to cytokinin in \u001b[01;31m\u001b[Kroot\u001b[m\u001b[K growth assay (exogenous application of cytokinins inhibits wildtype \u001b[01;31m\u001b[Kroot\u001b[m\u001b[K elongation).\t\n",
      "AT5G35750\tcre1-10 ahk2-1ms ahk3-1ms\tShoot and \u001b[01;31m\u001b[Kroot\u001b[m\u001b[K growth is very slow and leaf number is decreased compared to wildtype.\t\n",
      "AT5G35750\tcre1-12 ahk2-2tk\tReduced sensitivity to cytokinin in \u001b[01;31m\u001b[Kroot\u001b[m\u001b[K growth assay (exogenous application of cytokinins inhibits wildtype \u001b[01;31m\u001b[Kroot\u001b[m\u001b[K elongation).\t\n",
      "AT5G35750\tcre1-12 ahk2-2tk ahk3-3\tShoot and \u001b[01;31m\u001b[Kroot\u001b[m\u001b[K growth is very slow and leaf number is decreased compared to wildtype.\t\n",
      "AT5G35750\tcre1-12 ahk2-2tk ahk3-3\tShorter \u001b[01;31m\u001b[Kroot\u001b[m\u001b[K than wildtype plant.\t\n",
      "AT5G35750\tcre1-12 ahk2-2tk ahk3-3\tThe size and activity of the \u001b[01;31m\u001b[Kroot\u001b[m\u001b[K apical meristem is decreased with respect to wildtype.\t\n",
      "AT5G35750\tstip-d ahk2-2 ahk3-3 cre1-12\tSmall SAM and limited \u001b[01;31m\u001b[Kroot\u001b[m\u001b[K growth.\t20110319\n",
      "AT5G37180\tSALK_102146C\tThe amounts of glucose, fructose, sucrose, cellulose (\u001b[01;31m\u001b[Kroot\u001b[m\u001b[Ks) and starch in the mutant were not statistically significantly different  from those of the equivalent wild-type lines grown under the same conditions at the same time.\t17257168\n",
      "AT5G37180\tsus5 (SALK_065271)\tThe amounts of glucose, fructose, sucrose, cellulose (\u001b[01;31m\u001b[Kroot\u001b[m\u001b[Ks) and starch in the mutant were not statistically significantly different  from those of the equivalent wild-type lines grown under the same conditions at the same time.\t17257168\n",
      "AT5G37180\tsus5 (SALK_152944)\tThe amounts of glucose, fructose, sucrose, cellulose (\u001b[01;31m\u001b[Kroot\u001b[m\u001b[Ks) and starch in the mutant were not statistically significantly different  from those of the equivalent wild-type lines grown under the same conditions at the same time.\t17257168\n",
      "AT5G37830\tSALK_078745C\toxp1-1 cannot convert 5-oxoproline (5OP) into glutamine. Elevated levels of 5OP accumulate in the the leaves, stems, \u001b[01;31m\u001b[Kroot\u001b[m\u001b[Ks, flowers, and siliques of this mutant, while the level of glutamate is reduced. oxp1-1 mutants have normal seedling \u001b[01;31m\u001b[Kroot\u001b[m\u001b[K growth and do not display any other morphological defects. They appear to have normal levels of Asp, Ser, Gln, Gly, Thr, Arg, and Ala, and have a wild-type sensitivity to nitrogen deficiency.\t18768907\n"
     ]
    },
    {
     "name": "stdout",
     "output_type": "stream",
     "text": [
      "AT5G39510\tsgr4-1\tInflorescence stems and hypocotyls of mutant plants showed abnormal gravitropic response, while \u001b[01;31m\u001b[Kroot\u001b[m\u001b[K gravitropism was normal.\t9210330\n",
      "AT5G39610\tnac2-1\tNot significantly affected in lateral \u001b[01;31m\u001b[Kroot\u001b[m\u001b[K development.\t16359384\n",
      "AT5G42890\tAtscp2-1\tLower germination frequency and time, restored by addition of 1% sucrose. Smaller cotyledon rosettes and  shorter hypocotyls than wild-type and the \u001b[01;31m\u001b[Kroot\u001b[m\u001b[K elongation  was also retarded. In the dark, \u001b[01;31m\u001b[Kroot\u001b[m\u001b[K elongation was inhibited  on media lacking sucrose\n",
      "AT5G43900\tSALK_055785C\tThere are no obvious defects in the aerial tissues of xi-2 mutant plants grown under normal conditions. The \u001b[01;31m\u001b[Kroot\u001b[m\u001b[K length of the mutant is also normal, but, it has shorter \u001b[01;31m\u001b[Kroot\u001b[m\u001b[Ks hairs than wild-type plants.\t18178669\n",
      "AT5G43900\txi-2 / xi-b\tThe overall growth of the xi-2 / xi-b double mutant is normal. In the leaf epidermis, Golgi stacks and peroxisomes move more slowly in these mutant cells than in wild-type cells. The rate of mitochondrial movement is also slightly reduced. \u001b[01;31m\u001b[KRoot\u001b[m\u001b[K hair length is reduced to ~15% of the wild type \u001b[01;31m\u001b[Kroot\u001b[m\u001b[K hair length in these double mutants, but their \u001b[01;31m\u001b[Kroot\u001b[m\u001b[K hair density is very similar to the wild type density.\t19060218\n",
      "AT5G43900\txi-k / xi-2\tThe overall growth of the xi-k / xi-2 double mutant is normal. In the leaf epidermis, Golgi stacks, peroxisomes, and mitochondria move more slowly in these mutant cells than in wild-type cells. \u001b[01;31m\u001b[KRoot\u001b[m\u001b[K hair length is reduced to ~20% of the wild type \u001b[01;31m\u001b[Kroot\u001b[m\u001b[K hair length in these double mutants, but their \u001b[01;31m\u001b[Kroot\u001b[m\u001b[K hair density is very similar to the wild type density.\t19060218\n",
      "AT5G43940\tFLAG_298F11\tUnable to grow following germination on nutrient medium in the dark. Unable to grow in the light on growth medium. The mutant seeds germinated, but growth was arrested right after some \u001b[01;31m\u001b[Kroot\u001b[m\u001b[K elongation and emergence of small cotyledons. The small cotyledons failed to green and the seedlings eventually died. The mutants could however be recovered on soil. Under long day conditions (16 hour light), the mutants had a reduced number of rosette leaves. The leaves were pale green and distorted. Bolts were shorter. After bolting, the plants were highly branched and semi-dwarf under all light conditions. Few seeds setting.\t18326829\n",
      "AT5G43940\tGABI_315D11\tUnable to grow following germination on nutrient medium in the dark. Unable to grow in the light on growth medium. The mutant seeds germinated, but growth was arrested right after some \u001b[01;31m\u001b[Kroot\u001b[m\u001b[K elongation and emergence of small cotyledons. The small cotyledons failed to green and the seedlings eventually died. The mutants could however be recovered on soil. Under long day conditions (16 hour light), the mutants had a reduced number of rosette leaves. The leaves were pale green and distorted. Bolts were shorter. After bolting, the plants were highly branched and semi-dwarf under all light conditions. Few seed setting.\t18326829\n",
      "AT5G44070\tcad1-1\tWhen grown in the presence of inhibitory levels of cadmium, growth is inhibited, leaves become progressively chlorotic and the \u001b[01;31m\u001b[Kroot\u001b[m\u001b[Ks develop a distinct brown pigment.\t7770517\n",
      "AT5G44070\tcad1-3\tWhen grown in the presence of inhibitory levels of cadmium, growth is inhibited, leaves become progressively chlorotic and the \u001b[01;31m\u001b[Kroot\u001b[m\u001b[Ks develop a distinct brown pigment.\t7770517\n",
      "AT5G44070\tcad1-4\tWhen grown in the presence of inhibitory levels of cadmium, growth is inhibited, leaves become progressively chlorotic and the \u001b[01;31m\u001b[Kroot\u001b[m\u001b[Ks develop a distinct brown pigment.\t7770517\n",
      "AT5G44070\tcad1-5\tWhen grown in the presence of inhibitory levels of cadmium, growth is inhibited, leaves become progressively chlorotic and the \u001b[01;31m\u001b[Kroot\u001b[m\u001b[Ks develop a distinct brown pigment.\t7770517\n",
      "AT5G44740\tSALK_129731\tHomozygotes are sensitive to UV-B treatment. UV-B treatment causes an inhibition of \u001b[01;31m\u001b[Kroot\u001b[m\u001b[K growth.\t18494853\n",
      "AT5G44750\tSALK_005721\tMutant plants were moderately sensitive to UV-B irradiation than the wild type when mutant seedlings were irradiated with various doses of UV-B irradiation and grown in the light. Both \u001b[01;31m\u001b[Kroot\u001b[m\u001b[K and aerial tissue growth were inhibited by UV-B irradiation.\t15908599\n",
      "AT5G44750\tSALK_011334\tMutant plants were moderately sensitive to UV-B irradiation than the wild type when mutant seedlings were irradiated with various doses of UV-B irradiation and grown in the light. Both \u001b[01;31m\u001b[Kroot\u001b[m\u001b[K and aerial tissue growth were inhibited by UV-B irradiation.\t15908599\n",
      "AT5G46330\tfls2-17\tMutant seedlings treated with 10&#956;M flg22 peptide (strong growth inhibitor) display shoot and \u001b[01;31m\u001b[Kroot\u001b[m\u001b[K growth similar to that of wildtype Ler.\t10911994\n",
      "AT5G46330\tfls2-24\tMutant seedlings treated with 10&#956;M flg22 peptide (strong growth inhibitor) display shoot and \u001b[01;31m\u001b[Kroot\u001b[m\u001b[K growth similar to that of wildtype Ler.\t10911994\n",
      "AT5G46860\tsgr3-1\tInflorescence stems of mutant plants showed delayed and reduced gravitropic response in horizontal gravistimulation experiments. Ethyolated hypocotyls and \u001b[01;31m\u001b[Kroot\u001b[m\u001b[Ks showed normal positive gravitropism. Lateral branches grew nearly horizontally, however, no other morphological defects were detected in mutant plants. Growth rate of inflorescence stems was slightly reduced, but the overal size of the mutant plants were the same as wild type.\t8819871\n",
      "AT5G47100\tcbl1 cbl9\tgrowth of the cbl1  cbl9 double mutant was significantly more inhibited than the  growth of wild-type \u001b[01;31m\u001b[Kroot\u001b[m\u001b[Ks under low-K+ conditions. Double mutants lost  water significantly more slowly than the ecotype hybrid  plants. Hypersensitive to ABA treatmnet.\n",
      "AT5G47120\tatbi1-2\tIncreased sensitivity to tunicamycin an inhibitor of N-linked glycosylation and inducer of ER stress. After treatment mutant seedlings display growth defects and chlorophyll loss. Mutant \u001b[01;31m\u001b[Kroot\u001b[m\u001b[Ks show increased levels of H2O2 and induction of programmed cell death.\t18039663\n",
      "AT5G47750\td6pkl2-2/d6plk1-1/d6pk-1\tQuadruple mutant displays defects in many aspects of development. Defects include:abnormal leaves, leaves are narrow and twisted; reduced number of axillary shoots and reduced fertility. In addition, mutants also display single or fused cotyldons, reduced number of lateral \u001b[01;31m\u001b[Kroot\u001b[m\u001b[Ks and are mildy agravitropic.\t19168677\n",
      "AT5G47750\td6pkl3-2/d6pkl2-2/d6plk1-1/d6pk-1\tQuadruple mutant displays defects in many aspects of development. Defects include:abnormal leaves, leaves are narrow and twisted; reduced number of axillary shoots and reduced fertility. In addition, mutants also display single or fused cotyldons, reduced number of lateral \u001b[01;31m\u001b[Kroot\u001b[m\u001b[Ks and are mildy agravitropic.\t19168677\n",
      "AT5G47990\tSALK_143113C\tthad1-1 mutants have longer \u001b[01;31m\u001b[Kroot\u001b[m\u001b[Ks and elevated levels of thalianol and thalian-diol in \u001b[01;31m\u001b[Kroot\u001b[m\u001b[K extracts compared to wild type plants. However, these mutants do not seem to have higher susceptibility to Atlernaria brassicicola or Pseudomonas syringae pv. tomato DC3000 based on assays performed on seedling \u001b[01;31m\u001b[Kroot\u001b[m\u001b[Ks.\t18356490\n",
      "AT5G48000\tSALK_148229C\tthah1-1 mutants have an elevated accumulation of thalianol and longer \u001b[01;31m\u001b[Kroot\u001b[m\u001b[Ks than wild type plants. Thalian-diol and desaturated thalian-diol are lost from the \u001b[01;31m\u001b[Kroot\u001b[m\u001b[K extracts of thah1-1 mutants. However, these mutants do not seem to have higher susceptibility to Atlernaria brassicicola or Pseudomonas syringae pv. tomato DC3000 based on assays performed on seedling \u001b[01;31m\u001b[Kroot\u001b[m\u001b[Ks.\t18356490\n",
      "AT5G48000\tthah1-2\tthah1-2 mutants have elevated levels of thalianol in their \u001b[01;31m\u001b[Kroot\u001b[m\u001b[K extracts when compared to wild type plants.\t18356490\n",
      "AT5G48010\tthas1-1\tthas1-1 mutants do not produce detectable levels of thalianol in \u001b[01;31m\u001b[Kroot\u001b[m\u001b[K extracts but low  levels of this compound can be detected in wild type \u001b[01;31m\u001b[Kroot\u001b[m\u001b[K extracts. However, these mutants do not seem to have higher susceptibility to Atlernaria brassicicola or Pseudomonas syringae pv. tomato DC3000 based on assays performed on seedling \u001b[01;31m\u001b[Kroot\u001b[m\u001b[Ks.\t18356490\n"
     ]
    },
    {
     "name": "stdout",
     "output_type": "stream",
     "text": [
      "AT5G48150\tpat1-1\tNo aberrant \u001b[01;31m\u001b[Kroot\u001b[m\u001b[K phenotype and no resistance to paclobutrazol (1-100 &mu;M).\t10817761\n",
      "AT5G48160\tobe1-1 obe2-1\tPremature termination and loss of the shoot apical meristem. Failure to establish or maintain the \u001b[01;31m\u001b[Kroot\u001b[m\u001b[K apical meristem.  Aberrant embryonic development.\t18403411\n",
      "AT5G48160\tobe1-1 obe2-2\tabsence of \u001b[01;31m\u001b[Kroot\u001b[m\u001b[Ks and defective development of the vasculature.\t19392692\n",
      "AT5G48300\taps1-SALK_040155\tIn short days plants have delayed growth and were late flowering.In long day conditions, plants also had delayed growth but flowering time was unaffected. Lacks ADP-Glc PPase activity in leaves and no starch can be found in leaves or \u001b[01;31m\u001b[Kroot\u001b[m\u001b[Ks.\t18614708\n",
      "AT5G49190\tGABI_377G03\tThe amounts of glucose, fructose, sucrose, cellulose (\u001b[01;31m\u001b[Kroot\u001b[m\u001b[Ks) and starch in the mutant were not statistically significantly different  from those of the equivalent wild-type lines grown under the same conditions at the same time.\t17257168\n",
      "AT5G49190\tsus2 (SALK_076303)\tThe amounts of glucose, fructose, sucrose, cellulose (\u001b[01;31m\u001b[Kroot\u001b[m\u001b[Ks) and starch in the mutant were not statistically significantly different  from those of the equivalent wild-type lines grown under the same conditions at the same time.\t17257168\n",
      "AT5G49190\tsus2 sus3\tActivity of SUS was reduced by about one-third in \u001b[01;31m\u001b[Kroot\u001b[m\u001b[Ks of the double mutant relative to Col-0, but otherwise the mutant was indistinguishable from Col-0.\t17257168\n",
      "AT5G49270\tder9\t\u001b[01;31m\u001b[KRoot\u001b[m\u001b[K hairs have mostly very short \u001b[01;31m\u001b[Kroot\u001b[m\u001b[K hairs, indicating a defect in the transition to rapid tip growth, which is required to fully develop the hair structure.\t15863435\n",
      "AT5G49680\tkip-1\tPollen tube growth was altered. Pollen tubes were shorter, often having branched appearance and peculiar kinky shape. Also, callose plugs were rare or absent in mutant pollen tubes, compared to the wild type. Despite morphological aberrations, twisted pollen tube appeared to have same ultrastructural features as the wild type pollen tubes. Migration of the male germ unit to the pollen tube occurred at approximately the same time in mutants and in the wild type. Homozygous progeny showed shorter and thicker \u001b[01;31m\u001b[Kroot\u001b[m\u001b[K hairs. No other significant visible phenotype changes were observed.\t14675453\n",
      "AT5G49680\tkip-2\tPollen tube growth was altered. Pollen tubes were shorter, often having branched appearance and peculiar kinky shape. Also, callose plugs were rare or absent in mutant pollen tubes, compared to the wild type. Despite morphological aberrations, twisted pollen tube appeared to have same ultrastructural features as the wild type pollen tubes. Migration of the male germ unit to the pollen tube occurred at approximately the same time in mutants and in the wild type. Homozygous progeny showed shorter and thicker \u001b[01;31m\u001b[Kroot\u001b[m\u001b[K hairs. Seed set and the silique size were reduced in kip-2 mutants. No other significant visible phenotype changes were observed.\t14675453\n",
      "AT5G49680\tkip-2/sab\tAdult mutant plants were three to four times smaller than single mutant, sab plants. \u001b[01;31m\u001b[KRoot\u001b[m\u001b[Ks of double mutant were shorter than \u001b[01;31m\u001b[Kroot\u001b[m\u001b[Ks of sab mutant. Radial organization of the \u001b[01;31m\u001b[Kroot\u001b[m\u001b[K was similar to the \u001b[01;31m\u001b[Kroot\u001b[m\u001b[Ks of sab mutant. \u001b[01;31m\u001b[KRoot\u001b[m\u001b[K hairs were thicker that in wild type or sab mutant. Pollen grains from double mutant plants rarely germinated in vitro, and when they did, the pollen tubes were shorter and twisted.\t14675453\n",
      "AT5G49680\tkip-3\tPollen tube growth was altered. Pollen tubes were shorter, often having branched appearance and peculiar kinky shape. Also, callose plugs were rare or absent in mutant pollen tubes, compared to the wild type. Despite morphological aberrations, twisted pollen tube appeared to have same ultrastructural features as the wild type pollen tubes. Migration of the male germ unit to the pollen tube occurred at approximately the same time in mutants and in the wild type. Homozygous progeny showed shorter and thicker \u001b[01;31m\u001b[Kroot\u001b[m\u001b[K hairs. No other significant visible phenotype changes were observed.\t14675453\n",
      "AT5G49970\tSALK_149382C\tReduced \u001b[01;31m\u001b[Kroot\u001b[m\u001b[K growth and foliar biomass. Total vitamin B6 levels were lower than in wild type, measured using yeast bioassay.\t17873088\n",
      "AT5G49970\tpdx3-1\tReduced \u001b[01;31m\u001b[Kroot\u001b[m\u001b[K growth and foliar biomass. Total vitamin B6 levels were lower than in wild type, measured using yeast bioassay.\t17873088\n",
      "AT5G50200\tAtnrt3.1-1\tWhen grown on plates containing 250 &#956;M NO3-  as the sole source of available N for 10 days, mutant plants grew poorly, shoot  growth being particularly affected. \u001b[01;31m\u001b[KRoot\u001b[m\u001b[Ks and shoots accumulated significantly less NO3- than wild type. Nitrate influx into \u001b[01;31m\u001b[Kroot\u001b[m\u001b[Ks of  mutant plants was reduced.\t16415212\n",
      "AT5G50375\tcpi1-1\tsterile, dwarf phenotype with small, round, dark leaves, a short hypocotyl and \u001b[01;31m\u001b[Kroot\u001b[m\u001b[K and defective \u001b[01;31m\u001b[Kroot\u001b[m\u001b[K gravitropism. \u001b[01;31m\u001b[KRoot\u001b[m\u001b[Ks presented defects in directional orientation along the gravity vector, normal meristem size but a shorter elongation zone, reduced epidermal  cell length, delayed gravitropic  curvature and slower growth  than the wild-type\n",
      "AT5G51600\tDYC283\tDwarf. Fertile but had 25% fewer seeds per silique than normal.  Sections through the dyc283 mutant \u001b[01;31m\u001b[Kroot\u001b[m\u001b[K revealed polynucleate,  hypertrophied cortical and epidermal cells (n= 41). Hypocotyl and leaf primordia had  polynucleate cells and aberrant cell wall stubs. In some dyc283  mutant cells, the nucleus did not divide and curved around the  branched end of the cell wall stub. Abnormally large nuclei with additional nucleoli. In a subset of dyc283 mutant premitotic cells  , MTs were mixed with condensed chromosomes  during prometaphase. Some  dyc283 dividing cells had MT spindle defects. Phragmoplasts  were often misplaced or wavy. Incomplete nematode development due to a defect in  giant cell formation in the dyc283 mutant.\n",
      "AT5G54380\tthe1-1 prc1-1\tIn the double mutant, the amount of ectopic lignin was reduced in hypocotyls and entirely absent in the \u001b[01;31m\u001b[Kroot\u001b[m\u001b[K.\t17540573\n",
      "AT5G54440\tclub-2\tAmorphous, club-like seedlings.  Reduced growth of \u001b[01;31m\u001b[Kroot\u001b[m\u001b[K and shoot apices. Defects in cell plate assembly during cytokinesis.\t20609115\n",
      "AT5G54690\tirx8-1\tCollapsed xylem vessels in \u001b[01;31m\u001b[Kroot\u001b[m\u001b[Ks and stems, suggesting a decrease in xylem wall strength in the homozygous mutants.\t17237350\n",
      "AT5G54690\tirx8-1\tImmunolabeling of stem and \u001b[01;31m\u001b[Kroot\u001b[m\u001b[K sections using using monoclonal antibodies specific for glucuronoxylans revealed strong fluorescence signals in the walls of interfascicular fibers and xylem cells in wild-type Arabidopsis, but only weak signals were detected in the corresponding tissues of mutant plants.\t17322407\n",
      "AT5G54690\tirx8-1\tIn the homozygous mutant cell wall, decrease of cellulose content (~25%) and notable reduction in xylose in stems and \u001b[01;31m\u001b[Kroot\u001b[m\u001b[Ks (>50%).\t17237350\n",
      "AT5G54690\tirx8-1\tWhere in wild-type \u001b[01;31m\u001b[Kroot\u001b[m\u001b[Ks xylem files form a closely packed array of cell  files, leading to the regular occurrence of  tripartite cell corners between xylem cell files, the central cylinder of homozygous mutant \u001b[01;31m\u001b[Kroot\u001b[m\u001b[Ks was disorganized and  the xylem files did not form a closely packed array. As a  consequence, tripartite xylem cell  corners could not be detected in the mutant.\t17237350\n",
      "AT5G54690\tirx8-2\tCollapsed xylem vessels in \u001b[01;31m\u001b[Kroot\u001b[m\u001b[Ks and stems, suggesting a decrease in xylem wall strength in the homozygous mutants.\t17237350\n",
      "AT5G54690\tirx8-2\tIn the homozygous mutant cell wall, decrease of cellulose content (~25%) and notable reduction in xylose in stems and \u001b[01;31m\u001b[Kroot\u001b[m\u001b[Ks (>50%).\t17237350\n",
      "AT5G54690\tirx8-2\tWhere in wild-type \u001b[01;31m\u001b[Kroot\u001b[m\u001b[Ks xylem files form a closely packed array of cell  files, leading to the regular occurrence of  tripartite cell corners between xylem cell files, the central cylinder of homozygous mutant \u001b[01;31m\u001b[Kroot\u001b[m\u001b[Ks was disorganized and  the xylem files did not form a closely packed array. As a  consequence, tripartite xylem cell  corners could not be detected in the mutant.\t17237350\n"
     ]
    },
    {
     "name": "stdout",
     "output_type": "stream",
     "text": [
      "AT5G54690\tirx8-3\tCollapsed xylem vessels in \u001b[01;31m\u001b[Kroot\u001b[m\u001b[Ks and stems, suggesting a decrease in xylem wall strength in the homozygous mutants.\t17237350\n",
      "AT5G54690\tirx8-3\tWhere in wild-type \u001b[01;31m\u001b[Kroot\u001b[m\u001b[Ks xylem files form a closely packed array of cell  files, leading to the regular occurrence of  tripartite cell corners between xylem cell files, the central cylinder of homozygous mutant \u001b[01;31m\u001b[Kroot\u001b[m\u001b[Ks was disorganized and  the xylem files did not form a closely packed array. As a  consequence, tripartite xylem cell  corners could not be detected in the mutant.\t17237350\n",
      "AT5G54690\tirx8-4\tCollapsed xylem vessels in \u001b[01;31m\u001b[Kroot\u001b[m\u001b[Ks and stems, suggesting a decrease in xylem wall strength in the homozygous mutants.\t17237350\n",
      "AT5G54690\tirx8-4\tWhere in wild-type \u001b[01;31m\u001b[Kroot\u001b[m\u001b[Ks xylem files form a closely packed array of cell  files, leading to the regular occurrence of  tripartite cell corners between xylem cell files, the central cylinder of homozygous mutant \u001b[01;31m\u001b[Kroot\u001b[m\u001b[Ks was disorganized and  the xylem files did not form a closely packed array. As a  consequence, tripartite xylem cell  corners could not be detected in the mutant.\t17237350\n",
      "AT5G54690\tirx8-5\tCollapsed xylem vessels in \u001b[01;31m\u001b[Kroot\u001b[m\u001b[Ks and stems, suggesting a decrease in xylem wall strength in the homozygous mutants.\t17237350\n",
      "AT5G54690\tirx8-5\tWhere in wild-type \u001b[01;31m\u001b[Kroot\u001b[m\u001b[Ks xylem files form a closely packed array of cell  files, leading to the regular occurrence of  tripartite cell corners between xylem cell files, the central cylinder of homozygous mutant \u001b[01;31m\u001b[Kroot\u001b[m\u001b[Ks was disorganized and  the xylem files did not form a closely packed array. As a  consequence, tripartite xylem cell  corners could not be detected in the mutant.\t17237350\n",
      "AT5G54690\tirx8-6\tImmunolabeling of stem and \u001b[01;31m\u001b[Kroot\u001b[m\u001b[K sections using using monoclonal antibodies specific for glucuronoxylans revealed strong fluorescence signals in the walls of interfascicular fibers and xylem cells in wild-type Arabidopsis, but only weak signals were detected in the corresponding tissues of mutant plants.\t17322407\n",
      "AT5G55480\tshv3-2;svl1-1\tIncreased anthocyanin accumulation. Collapsed trichomes.Brown discoloration around endodermis in the hypocotyl and \u001b[01;31m\u001b[Kroot\u001b[m\u001b[K due to ectopic lignification. Guard cells are larger than WT due to swollen ventral sides. Swollen hypocotyl epidermis with uneven surface. Four-day old dark-grown seedlings have shorter, thicker hypocotyls than WT.   Cell wall analysis: reduced crystalline cellulose. Increased starch content. Neutral sugar content is same as WT. Increases protein. Increased uronic acid and decreased amount of methyl esterification.\n",
      "AT5G55540\ttrn1-1\tPrimary \u001b[01;31m\u001b[Kroot\u001b[m\u001b[Ks of mutant plants were shorter than in the wild type, hairy and twisted along longitudinal axis. Organ twisting was noticeable in leaf and stem too, but not in cotyledons and hypocotyl. Inflorescence was twisted too, containing twisted and abnormally shaped flowers with reduced fertility. Initial divisions in the epidermal/lateral \u001b[01;31m\u001b[Kroot\u001b[m\u001b[K cap initial are defective in mutant \u001b[01;31m\u001b[Kroot\u001b[m\u001b[Ks. Furthermore, lateral \u001b[01;31m\u001b[Kroot\u001b[m\u001b[K cap cells develop in the epidermal position in trn1 \u001b[01;31m\u001b[Kroot\u001b[m\u001b[Ks. Apical dominance severely reduced.\t10887093\n",
      "AT5G55580\ttwr-1\taltered \u001b[01;31m\u001b[Kroot\u001b[m\u001b[K meristem function resulting in short \u001b[01;31m\u001b[Kroot\u001b[m\u001b[Ks, also affecting the shoot meristem.\t21599977\n",
      "AT5G55910\td6pkl2-2/d6plk1-1/d6pk-1\tQuadruple mutant displays defects in many aspects of development. Defects include:abnormal leaves, leaves are narrow and twisted; reduced number of axillary shoots and reduced fertility. In addition, mutants also display single or fused cotyldons, reduced number of lateral \u001b[01;31m\u001b[Kroot\u001b[m\u001b[Ks and are mildy agravitropic.\t19168677\n",
      "AT5G55910\td6pkl3-2/d6pkl2-2/d6plk1-1/d6pk-1\tQuadruple mutant displays defects in many aspects of development. Defects include:abnormal leaves, leaves are narrow and twisted; reduced number of axillary shoots and reduced fertility. In addition, mutants also display single or fused cotyldons, reduced number of lateral \u001b[01;31m\u001b[Kroot\u001b[m\u001b[Ks and are mildy agravitropic.\t19168677\n",
      "AT5G55920\toli2-1\tShorter primary \u001b[01;31m\u001b[Kroot\u001b[m\u001b[Ks with respect to the wild type.\t19392710\n",
      "AT5G56210\twip1-1 wip2-1 wip3-1\tBoth endogenous RanGAP1 and RanGAP1-GFP were absent from the nuclear envelope in \u001b[01;31m\u001b[Kroot\u001b[m\u001b[K-tip cells of the triple mutant.\t17600715\n",
      "AT5G56210\twip1-1 wip2-1 wip3-1\tMutant plants had no observable defect in growth or development under standard laboratory conditions and no change in auxin sensitivity was observed in a standard \u001b[01;31m\u001b[Kroot\u001b[m\u001b[K-elongation assay.\t17600715\n",
      "AT5G56290\tCS3949\tresistant to the inhibition of \u001b[01;31m\u001b[Kroot\u001b[m\u001b[K elongation caused by 5 microM indole-3-butyric acid (IBA); fails to induce normal number of lateral \u001b[01;31m\u001b[Kroot\u001b[m\u001b[Ks when treated with 5 microM IBA; exhibits shorter hypocotyl than wt when grown in the dark without sucrose, but has a normal hypocotyl when grown in the dark with 0.5% sucrose; no visible phenotype in aerial morphology; defective in seed storage lipid utilization.\t11063705\n",
      "AT5G57390\tEMKox-2\t22.9% (72 of 314) of seedlings produced lightgreen, somatic embryos  at the tip margin of  cotyledons. Eight percent (25 of 314) of seedlings were equipped with ectopic trichomes on the  cotyledons.  Elongation of \u001b[01;31m\u001b[Kroot\u001b[m\u001b[Ks and emergence of \u001b[01;31m\u001b[Kroot\u001b[m\u001b[K  hairs in AtEMKox-2 were severely inhibited in comparison  to WT. Furthermore,  the \u001b[01;31m\u001b[Kroot\u001b[m\u001b[Ks of AtEMKox-2 showed aberrant structures  such as tumescence of cells and entwined \u001b[01;31m\u001b[Kroot\u001b[m\u001b[K hairs. In spite of the abnormal shape of \u001b[01;31m\u001b[Kroot\u001b[m\u001b[Ks, the \u001b[01;31m\u001b[Kroot\u001b[m\u001b[K  apical meristem of AtEMKox-2 was morphologically  identical to WT.\t20405311\n",
      "AT5G59710\tAtvip2\tIn transient \u001b[01;31m\u001b[Kroot\u001b[m\u001b[K transformation assays with the oncogenic strain Agrobacterium tumefaciens A208, plants produce fewer tumors compared with wild-type plants.  In stable transformation assays, significantly reduced numbers of resistant (transformed) calli where observed in mutant plants vs. wild type ones.\t17496122\n",
      "AT5G60410\tsiz1-2\tSubstantially more pronounced prototypical Pi starvation \u001b[01;31m\u001b[Kroot\u001b[m\u001b[K architecture responses than sos3-1 or wild-type seedlings. On Pi-limited medium, mutant seedlings exhibit an inhibition of primary \u001b[01;31m\u001b[Kroot\u001b[m\u001b[K growth, an increase of lateral \u001b[01;31m\u001b[Kroot\u001b[m\u001b[K development and length, and higher \u001b[01;31m\u001b[Kroot\u001b[m\u001b[K/shoot fresh weight ratio than wild-type.  Enhanced resistance to Pseudomonas syringae DC3000.  Smaller in stature.  Impaired drought tolerance.\t15894620\n",
      "AT5G60410\tsiz1-3\tSubstantially more pronounced prototypical Pi starvation \u001b[01;31m\u001b[Kroot\u001b[m\u001b[K architecture responses than sos3-1 or wild-type seedlings. On Pi-limited medium, mutant seedlings exhibit an inhibition of primary \u001b[01;31m\u001b[Kroot\u001b[m\u001b[K growth, an increase of lateral \u001b[01;31m\u001b[Kroot\u001b[m\u001b[K development and length, and higher \u001b[01;31m\u001b[Kroot\u001b[m\u001b[K/shoot fresh weight ratio than wild-type.  Enhanced resistance to Pseudomonas syringae DC3000.  Smaller in stature.  Impaired drought tolerance.\t15894620\n",
      "AT5G60410\tsos3-1 siz1-1\tDecrease of macronutrients concentration in the MS salt formulation to 1/20X results in a substantial reduction in primary \u001b[01;31m\u001b[Kroot\u001b[m\u001b[K growth.\t15894620\n",
      "AT5G60410\tsos3-1 siz1-1\tMutant grown in greenhouse or growth chamber exhibits reduced shoot and \u001b[01;31m\u001b[Kroot\u001b[m\u001b[K biomass relative to the wild-type.\t15894620\n",
      "AT5G60410\tsos3-1 siz1-1\tSubstantially more pronounced prototypical Pi starvation \u001b[01;31m\u001b[Kroot\u001b[m\u001b[K architecture responses than sos3-1 or wild-type seedlings. On Pi-limited medium, mutant seedlings exhibit an inhibition of primary \u001b[01;31m\u001b[Kroot\u001b[m\u001b[K growth, an increase of lateral \u001b[01;31m\u001b[Kroot\u001b[m\u001b[K development and length, and higher \u001b[01;31m\u001b[Kroot\u001b[m\u001b[K/shoot fresh weight ratio than wild-type.  Enhanced resistance to Pseudomonas syringae DC3000.  Smaller in stature.  Impaired drought tolerance.\t15894620\n",
      "AT5G60920\tCS8541\tCallus-induced \u001b[01;31m\u001b[Kroot\u001b[m\u001b[Ks from the mutant displayed the mutant phenotype when they grew under restrictive conditions. All the mutants responded to a gravitropic stimulus in a manner similar to wild type although the change of the direction of growth was slower than wild type.\t7743935\n"
     ]
    },
    {
     "name": "stdout",
     "output_type": "stream",
     "text": [
      "AT5G60920\tCS8541\tWhen grown on media containing 0.5% sucrose, the mutant had reduced \u001b[01;31m\u001b[Kroot\u001b[m\u001b[K length but no apparent radial cell expansion.\t7743935\n",
      "AT5G60920\tcob-4\tDark grown hypocotyls have reduced length compared to wild type. \u001b[01;31m\u001b[KRoot\u001b[m\u001b[K cells appear swollen and have abnormal radial expansion. Epidermal cells bulge. Cotyledon and hypocotyls are smaller and thicker than wild type. Cellulose microfibrils are randomly oriented.\t15849274\n",
      "AT5G61070\tSALK_006938\tIncreased \u001b[01;31m\u001b[Kroot\u001b[m\u001b[K hair density.\t16176989\n",
      "AT5G62165\tagl42-4\tNo \u001b[01;31m\u001b[Kroot\u001b[m\u001b[K anatomy phenotype\t15937229\n",
      "AT5G62500\teb1b-1\tPlants grown on agar plates have \u001b[01;31m\u001b[Kroot\u001b[m\u001b[Ks that skew towards the left occasionally forming clockwise loops with twisted epidermal cell files. Also has reduced/delayed response to gravity.\t18281505\n",
      "AT5G62940\thca2\tPlants are dwarfed. In the hca2 mutant inflorescence stems, petioles,and main veins of leaves, the ordered patterning of vascular bundles is replaced by a continuous vascular cambium undergoing periclinal divisions to produce radial files of xylem and phloem.Interfascicular cambium is extensively formed/developed between the vascular bundles, and the area normally occupied by the interfascicular parenchyma cells is replaced by vascular tissues.  Continuous phloem tissue consisting of several layers of sieve tubes and companion cells encircles the vascular cambium in hca2.  The vascular tissue in the  hypocotyls and \u001b[01;31m\u001b[Kroot\u001b[m\u001b[Ks of hca2 seedlings exhibit a WT phenotye.\t19915089\n",
      "AT5G62950\thca2\tPlants are dwarfed. In the hca2 mutant inflorescence stems, petioles,and main veins of leaves, the ordered patterning of vascular bundles is replaced by a continuous vascular cambium undergoing periclinal divisions to produce radial files of xylem and phloem.Interfascicular cambium is extensively formed/developed between the vascular bundles, and the area normally occupied by the interfascicular parenchyma cells is replaced by vascular tissues.  Continuous phloem tissue consisting of several layers of sieve tubes and companion cells encircles the vascular cambium in hca2.  The vascular tissue in the  hypocotyls and \u001b[01;31m\u001b[Kroot\u001b[m\u001b[Ks of hca2 seedlings exhibit a WT phenotye.\t19915089\n",
      "AT5G63920\tSALK_139357\tseverely impaired in growth and barely germinated on growth  medium or in soil; the mutants had deformed cotyledons and  were not able to form \u001b[01;31m\u001b[Kroot\u001b[m\u001b[Ks at all.\n",
      "AT5G64070\tPI-4Kbeta1/beta2\taberrant \u001b[01;31m\u001b[Kroot\u001b[m\u001b[K hair morphology\t16567499\n",
      "AT5G64740\tixr2-1 cesa2\tThe cesa2/cesa6 double mutant has reduced hypocotyl length in the dark, reduced \u001b[01;31m\u001b[Kroot\u001b[m\u001b[K length in the light, strong dwarf and bushy.\t17878303\n",
      "AT5G64740\tprc1-1 cesa2-1\tThe double mutant seedlings had significantly shorter and swollen \u001b[01;31m\u001b[Kroot\u001b[m\u001b[Ks. The plants had stunted growth and reduced size.\t17878302\n",
      "AT5G64740\tprc1-10\tWhen grown on media containing 0.5% sucrose, the mutant had reduced \u001b[01;31m\u001b[Kroot\u001b[m\u001b[K length but no apparent radial cell expansion.\t7743935\n",
      "AT5G64740\tprc1-9\tCallus-induced \u001b[01;31m\u001b[Kroot\u001b[m\u001b[Ks from the mutant displayed the mutant phenotype when they grew under restrictive conditions. All the mutants responded to a gravitropic stimulus in a manner similar to wild type although the change of the direction of growth was slower than wild type.\t7743935\n",
      "AT5G64740\tthe1-1 prc1-1\tIn the double mutant, the amount of ectopic lignin was reduced in hypocotyls and entirely absent in the \u001b[01;31m\u001b[Kroot\u001b[m\u001b[K.\t17540573\n",
      "AT5G65090\tder4\t\u001b[01;31m\u001b[KRoot\u001b[m\u001b[K hairs are very regular but significantly shorter than in the wild type.\t15863435\n",
      "AT5G65420\tcycd4;1\tDuring germination, the onset of cell proliferation in \u001b[01;31m\u001b[Kroot\u001b[m\u001b[K tips is significantly delayed and the overall numbers of dividing cells are reduced.  The delay in cell cycle activation is linked to delayed radicle emergence.\t16227434\n",
      "AT5G65940\tCS3947\tresistant to the inhibition of \u001b[01;31m\u001b[Kroot\u001b[m\u001b[K elongation caused by 5 microM indole-3-butyric acid (IBA); fails to induce normal number of lateral \u001b[01;31m\u001b[Kroot\u001b[m\u001b[Ks when treated with 5 microM IBA; exhibits shorter hypocotyl than wt when grown in the dark without sucrose, but has a normal hypocotyl when grown in the dark with 0.5% sucrose; no visible phenotype in aerial morphology; defective in seed storage lipid utilization.\t11063705\n",
      "AT5G65940\tCS3948\tresistant to the inhibition of \u001b[01;31m\u001b[Kroot\u001b[m\u001b[K elongation caused by 5 microM indole-3-butyric acid (IBA); fails to induce normal number of lateral \u001b[01;31m\u001b[Kroot\u001b[m\u001b[Ks when treated with 5 microM IBA; exhibits shorter hypocotyl than wt when grown in the dark without sucrose, but has a normal hypocotyl when grown in the dark with 0.5% sucrose; no visible phenotype in aerial morphology; defective in seed storage lipid utilization.\t11063705\n",
      "AT5G66680\tdgl1-1\tDwarf.  Growth defect of the dark-grown hypocotyl.  Post-embryonic development ceases entirely at the seedling stage.  Cell wall polysaccharides with an altered monosaccharide composition: increased arabinose and glucose content in non-cellulosic polymers.  Cell elongation is reduced in both hypocotyls and \u001b[01;31m\u001b[Kroot\u001b[m\u001b[Ks.  Organization of the endodermis and pericycle cell layers of the hypocotyl is abnormal.  Cell division is not impaired.\t15860005\n",
      "AT5G66880\tsnrk2.2 snrk2.3\tsnrk2.2 snrk2.3 was found to be ABA-insensitive in seed germination and early seedling growth  snrk2.2 snrk2.3 seeds showed green cotyledons at 5 d after sowing (non of the wild-type seeds had germinated at this time)  snrk2.2 snrk2.3 had decreased seed dormancy  snrk2.2 snrk2.3 was insensitive to the stimulating effect of low ABA concentration (<1 uM)on \u001b[01;31m\u001b[Kroot\u001b[m\u001b[K growth  snrk2.2 snrk2.3 had a greatly reduced level of a 42-kD kinase activity capable of phosphorylating peptides from ABF (for ABA Response Element Binding Factor) transcription factors\n",
      "AT5G67270\teb1c-1\tPlants grown on agar plants show leftward skewing of \u001b[01;31m\u001b[Kroot\u001b[m\u001b[K growth occasionally forming clockwise spirals with twisted epidermal cell files.\t18281505\n",
      "CUD\tcud-1\tCallus-induced \u001b[01;31m\u001b[Kroot\u001b[m\u001b[Ks from the mutant displayed the mutant phenotype when they grew under restrictive conditions. All the mutants responded to a gravitropic stimulus in a manner similar to wild type although the change of the direction of growth was slower than wild type.\t7743935\n",
      "CUD\tcud-1\tWhen grown on media containing 0.5% sucrose, the mutant had reduced \u001b[01;31m\u001b[Kroot\u001b[m\u001b[K length but no apparent radial cell expansion.\t7743935\n",
      "DER2\tder2\t\u001b[01;31m\u001b[KRoot\u001b[m\u001b[K hairs have mostly very short \u001b[01;31m\u001b[Kroot\u001b[m\u001b[K hairs, indicating a defect in the transition to rapid tip growth, which is required to fully develop the hair structure.\t15863435\n",
      "DER5\tder5\t\u001b[01;31m\u001b[KRoot\u001b[m\u001b[K hairs display very short stumps or collapsed \u001b[01;31m\u001b[Kroot\u001b[m\u001b[K hairs.  \u001b[01;31m\u001b[KRoot\u001b[m\u001b[K hairs are often wavy, with an irregular hair diameter.  Sometimes develop bulbous structures at the \u001b[01;31m\u001b[Kroot\u001b[m\u001b[K hair base.\t15863435\n",
      "DER6\tder6\t\u001b[01;31m\u001b[KRoot\u001b[m\u001b[K hairs display very short stumps or collapsed \u001b[01;31m\u001b[Kroot\u001b[m\u001b[K hairs.  \u001b[01;31m\u001b[KRoot\u001b[m\u001b[K hairs have an irregular hair diameter or are collapsed.\t15863435\n",
      "DER7\tder7\t\u001b[01;31m\u001b[KRoot\u001b[m\u001b[K hairs are very regular but significantly shorter than in the wild type.  Develops two different types of \u001b[01;31m\u001b[Kroot\u001b[m\u001b[K hair structures: relatively short stumps with a clearly wider diameter than wt hairs and longer hair structures which are wider in the lower half of the \u001b[01;31m\u001b[Kroot\u001b[m\u001b[K hair proper while the upper half is wt like.\t15863435\n",
      "DER8\tder8\t\u001b[01;31m\u001b[KRoot\u001b[m\u001b[K hairs display very short stumps or collapsed \u001b[01;31m\u001b[Kroot\u001b[m\u001b[K hairs.  \u001b[01;31m\u001b[KRoot\u001b[m\u001b[K hairs are often wavy, with an irregular hair diameter.  Sometimes develop bulbous structures at the \u001b[01;31m\u001b[Kroot\u001b[m\u001b[K hair base.\t15863435\n",
      "ENL7\tder3\t\u001b[01;31m\u001b[KRoot\u001b[m\u001b[K hairs form in a regular pattern.  Length of the hair proper is not affected but side branches develop from the enlarged bases.\t15863435\n",
      "LIT\tlit-1\tCallus-induced \u001b[01;31m\u001b[Kroot\u001b[m\u001b[Ks from the mutant displayed the mutant phenotype when they grew under restrictive conditions. All the mutants responded to a gravitropic stimulus in a manner similar to wild type although the change of the direction of growth was slower than wild type.\t7743935\n"
     ]
    },
    {
     "name": "stdout",
     "output_type": "stream",
     "text": [
      "LPI1\tlpi1\tInsensitive to the primary \u001b[01;31m\u001b[Kroot\u001b[m\u001b[K growth inhibition caused by low phosphorous.The aerial parts are phenotypically similar to the wild type, except that these plants flowered 3-5 days earlier than wild type plants. Have normal \u001b[01;31m\u001b[Kroot\u001b[m\u001b[K elongation and cell division.\t16443695\n",
      "LPI2\tlpi2\tInsensitive to the primary \u001b[01;31m\u001b[Kroot\u001b[m\u001b[K growth inhibition caused by low phosphorous.The aerial parts are phenotypically similar to the wild type, except that these plants flowered 3-5 days earlier than wild type plants. Have normal \u001b[01;31m\u001b[Kroot\u001b[m\u001b[K elongation and cell division.\t16443695\n",
      "LPI3\tlpi3\tInsensitive to the primary \u001b[01;31m\u001b[Kroot\u001b[m\u001b[K growth inhibition caused by low phosphorous.The aerial parts are phenotypically similar to the wild type, except that these plants flowered 3-5 days earlier than wild type plants. Have normal \u001b[01;31m\u001b[Kroot\u001b[m\u001b[K elongation and cell division.\t16443695\n",
      "LPI4\tlpi4\tInsensitive to the primary \u001b[01;31m\u001b[Kroot\u001b[m\u001b[K growth inhibition caused by low phosphorous.The aerial parts are phenotypically similar to the wild type, except that these plants flowered 3-5 days earlier than wild type plants. Have normal \u001b[01;31m\u001b[Kroot\u001b[m\u001b[K elongation and cell division.\t16443695\n",
      "MOP2\tmop2-1\tdeficiencies in post-transcriptional regulation of PIN genes. Defects in auxin-controlled growth responses as well as \u001b[01;31m\u001b[Kroot\u001b[m\u001b[K and shoot development\t17651372\n",
      "RIB1\trib1\tSeedlings have shorter primary \u001b[01;31m\u001b[Kroot\u001b[m\u001b[Ks and increased numbers of lateral \u001b[01;31m\u001b[Kroot\u001b[m\u001b[Ks compared to Nossen wild type.  Adults were indistinguishable from wild type in terms of shoot length and secondary inflorescence formation.  Hypocotyl and \u001b[01;31m\u001b[Kroot\u001b[m\u001b[K IBA basipetal transport are decreased.  \u001b[01;31m\u001b[KRoot\u001b[m\u001b[K acropetal IBA transport is increased.\t16258013\n",
      "SGR6\tsgr6-1\tInflorescence stems of mutant plants showed abnormal gravitropic response, while gravitropism in hypocotyls and \u001b[01;31m\u001b[Kroot\u001b[m\u001b[Ks was not altered.\t9210330\n",
      "Binary file Data_Only.csv matches\n"
     ]
    }
   ],
   "source": [
    "\n",
    "grep -i root Data_Only.csv \n",
    "\n",
    "# It is impossible that the word root appear in the other columns of the document, \n",
    "# so it is not necessary use grep to match only with the column 'phenotype'"
   ]
  },
  {
   "cell_type": "code",
   "execution_count": 7,
   "metadata": {},
   "outputs": [
    {
     "name": "stdout",
     "output_type": "stream",
     "text": [
      "With this command the count of matches with the word root ('root' or 'roots') are obtained:\n",
      "830\n"
     ]
    }
   ],
   "source": [
    "echo \"With this command the count of matches with the word root ('root' or 'roots') are obtained:\"\n",
    "grep -c root Data_Only.csv "
   ]
  },
  {
   "cell_type": "code",
   "execution_count": 8,
   "metadata": {},
   "outputs": [
    {
     "name": "stdout",
     "output_type": "stream",
     "text": [
      "With this command the count of matches with the word root in a sensitive search (only 'root') are obtained:\n",
      "592\n"
     ]
    }
   ],
   "source": [
    "echo \"With this command the count of matches with the word root in a sensitive search (only 'root') are obtained:\"\n",
    "grep -c -w root Data_Only.csv "
   ]
  },
  {
   "cell_type": "code",
   "execution_count": 9,
   "metadata": {},
   "outputs": [
    {
     "name": "stdout",
     "output_type": "stream",
     "text": [
      "With this command the count of matches with the word root in a insensitive search ('root', 'ROOT', 'Roots', 'roots', 'ROOTS') are obtained:\n",
      "887\n"
     ]
    }
   ],
   "source": [
    "echo \"With this command the count of matches with the word root in a insensitive search ('root', 'ROOT', 'Roots', 'roots', 'ROOTS') are obtained:\"\n",
    "grep -c -i root Data_Only.csv "
   ]
  },
  {
   "cell_type": "markdown",
   "metadata": {},
   "source": [
    "## Explanation\n",
    "\n",
    "### Command \n",
    "\n",
    "The grep command searches for a particular pattern of characters, and displays all the lines that contain that pattern. \n",
    "\n",
    "It has multiple options: \n",
    "\n",
    "* -c : This prints only a count of the lines that match a pattern\n",
    "* -h : Display the matched lines, but do not display the filenames.\n",
    "* -i : Ignores, case for matching\n",
    "* -l : Displays list of a filenames only.\n",
    "* -n : Display the matched lines and their line numbers.\n",
    "* -v : This prints out all the lines that do not matches the pattern\n",
    "* -e exp : Specifies expression with this option. Can use multiple times.\n",
    "* -f file : Takes patterns from file, one per line.\n",
    "* -E : Treats pattern as an extended regular expression (ERE)\n",
    "* -w : Match whole word\n",
    "* -o : Print only the matched parts of a matching line, with each such part on a separate output line.\n",
    "\n",
    "* -A n : Prints searched line and nlines after the result.\n",
    "* -B n : Prints searched line and n line before the result.\n",
    "* -C n : Prints searched line and n lines after before the result.\n",
    "\n",
    "\n",
    "\n",
    "In the enunciate of the problem, doesn't specify if it is neccesary do a insensitive search with -i (give all the lines with all the possibilities of the word: \"root\", \"ROOT\", \"Root\") or not. \n",
    "Therefore, I use other commands to test the different ouputs that are possible to obtain if the search is case sensitive or not.\n",
    "Taking in account that it is logical that we want to know every single gene that it is biologically implicating somehow the roots of a plant, the command more appropiate do a insensitive search. \n"
   ]
  },
  {
   "cell_type": "markdown",
   "metadata": {},
   "source": [
    "## Problem 7\n",
    "\n",
    "* Create a command that writes the AGI Locus Code for every line that has a phenotype including the word \"root\" to a file called: **Root-associated-Loci.txt**\n",
    "\n"
   ]
  },
  {
   "cell_type": "code",
   "execution_count": 4,
   "metadata": {},
   "outputs": [],
   "source": [
    "grep -i root Data_Only.csv | awk '{print $1}' > Root-associated-Loci.txt"
   ]
  },
  {
   "cell_type": "code",
   "execution_count": 11,
   "metadata": {},
   "outputs": [
    {
     "name": "stdout",
     "output_type": "stream",
     "text": [
      "857\n",
      "857 Root-associated-Loci.txt\n"
     ]
    }
   ],
   "source": [
    "#check \n",
    "grep -i root Data_Only.csv | wc -l\n",
    "wc -l Root-associated-Loci.txt"
   ]
  },
  {
   "cell_type": "markdown",
   "metadata": {},
   "source": [
    "## Explanation \n",
    "\n",
    "### Command \n",
    "\n",
    "Awk is a command that prints every line of data from the specified file. Combined with $n you can print the line of the column that you want. \n",
    "In this case, I combined my last command with awk to get the file and I make a test afterwards to check that prints the same number of lines.\n",
    "\n",
    "Other way to obtain the same result is using regular expressions, since it is known that the locus code have a predictive estructure: \n",
    "\n",
    "With:\n",
    "\n",
    " ```\n",
    " grep -i root Data_Only.csv | grep -E \"^AT[1-5]G[0-9]{5}\"\n",
    " \n",
    " ```\n",
    "\n",
    "But you should check first that the predictive estructure of the first column doesn't change in any row to avoid mistakes. For that reason, I found quicker use my command with awk instead and in this way it is possible obtain the name of the Loci event if doesn't match with the predictive estructure.\n",
    "\n",
    "\n"
   ]
  },
  {
   "cell_type": "markdown",
   "metadata": {},
   "source": [
    "\n",
    "## Problem 8\n",
    "\n",
    "* Create a command that writes the PubMed ID for every line that has a phenotype including the word \"root\" to a file called: **Root-associated-Publications.txt**\n",
    "\n",
    "\n"
   ]
  },
  {
   "cell_type": "code",
   "execution_count": 12,
   "metadata": {},
   "outputs": [],
   "source": [
    "grep -i root Locus_Germplasm_Phenotype_20130122.txt | awk '{print $(NF)}' > Root-associated-Publications.txt"
   ]
  },
  {
   "cell_type": "code",
   "execution_count": 13,
   "metadata": {},
   "outputs": [
    {
     "name": "stdout",
     "output_type": "stream",
     "text": [
      "857\n",
      "857 Root-associated-Publications.txt\n"
     ]
    }
   ],
   "source": [
    "#check \n",
    "grep -i root Data_Only.csv | wc -l\n",
    "wc -l Root-associated-Publications.txt"
   ]
  },
  {
   "cell_type": "markdown",
   "metadata": {},
   "source": [
    "## Explanation\n",
    "\n",
    "I used the same approach that in the problem 7.\n",
    "\n",
    "When I reviewed the data I saw that some of locus doesn't have a proper PubMed ID. It is possible use a regular expression for the PubMed ID (\"[0-9]\"), to solve the problem, and get a clean file only with PubMed IDs, but it is important understand that there going to be some of then lacking because are also lacking in the original file."
   ]
  },
  {
   "cell_type": "code",
   "execution_count": 9,
   "metadata": {},
   "outputs": [],
   "source": [
    "#Solving the problem\n",
    "grep -E -i root Data_Only.csv | grep -E -io \"[0-9]+$\" > Root-associated-Publications.txt"
   ]
  },
  {
   "cell_type": "markdown",
   "metadata": {},
   "source": [
    "## Problem 9\n",
    "\n",
    "* _**Control experiment**_:  You would hypothesize that genes associated with roots **should be found on all chromosomes.**  Find a way (one or more commands) to test this hypothesis.  In this dataset, is the hypothesis true? \n",
    "\n",
    "\n"
   ]
  },
  {
   "cell_type": "code",
   "execution_count": 54,
   "metadata": {},
   "outputs": [
    {
     "name": "stdout",
     "output_type": "stream",
     "text": [
      "The genes that are associated with roots can be found in the following chromosomes:\n",
      "1\n",
      "2\n",
      "3\n",
      "4\n",
      "5\n"
     ]
    }
   ],
   "source": [
    "echo 'The genes that are associated with roots can be found in the following chromosomes:'\n",
    "grep -E -o \"^AT[0-5]\"  Root-associated-Loci.txt | tr -d \"AT\" | uniq "
   ]
  },
  {
   "cell_type": "markdown",
   "metadata": {},
   "source": [
    "## Explanation\n",
    "\n",
    "The chromosomes are described after AT in AGI code. We know that there are only 5 chromosomes, therefore, the hypothesis is correct. \n",
    "\n",
    "### Command \n",
    "\n",
    "I used two new commands: \n",
    "\n",
    "* tr -d for delete the sequence \"AT\", it's not necessary any more\n",
    "* uniq for remove all the duplicates "
   ]
  },
  {
   "cell_type": "code",
   "execution_count": 1,
   "metadata": {},
   "outputs": [],
   "source": [
    "grep -E -o \"^AT[0-5]\"  Root-associated-Loci.txt | tr -d \"AT\" | uniq > Chromosomes_presents.txt"
   ]
  },
  {
   "cell_type": "markdown",
   "metadata": {},
   "source": [
    "## Problem 10\n",
    "\n",
    "* If your control experiment shows genes on every chromosome, then you can skip this question!  (you answered Problem 9 correctly!)\n",
    "\n",
    "*  If your control experiment shows genes only on one or two chromosomes, then you have to explain why... what could the problem be?  (I told you specifically to be careful about this problem!)\n",
    "\n",
    "\n"
   ]
  },
  {
   "cell_type": "markdown",
   "metadata": {},
   "source": [
    "## Problem 11\n",
    "\n",
    "* 'git commit' and 'git push' your answers to your GitHub, then give me your GitHub username before you leave the class. I will clone your repositories and grade your answers."
   ]
  }
 ],
 "metadata": {
  "kernelspec": {
   "display_name": "Bash",
   "language": "bash",
   "name": "bash"
  },
  "language_info": {
   "codemirror_mode": "shell",
   "file_extension": ".sh",
   "mimetype": "text/x-sh",
   "name": "bash"
  }
 },
 "nbformat": 4,
 "nbformat_minor": 2
}
